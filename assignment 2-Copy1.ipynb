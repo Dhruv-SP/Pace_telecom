{
 "cells": [
  {
   "cell_type": "code",
   "execution_count": 1,
   "id": "22960674",
   "metadata": {
    "scrolled": true
   },
   "outputs": [
    {
     "name": "stdout",
     "output_type": "stream",
     "text": [
      "Reset css and font defaults in:\n",
      "C:\\Users\\dhruv\\.jupyter\\custom &\n",
      "C:\\Users\\dhruv\\AppData\\Roaming\\jupyter\\nbextensions\n"
     ]
    }
   ],
   "source": [
    "#! jt -r"
   ]
  },
  {
   "cell_type": "markdown",
   "id": "c6b06f63",
   "metadata": {},
   "source": [
    "# Synthetic Minority Over-sampling TechniquE"
   ]
  },
  {
   "cell_type": "code",
   "execution_count": 122,
   "id": "45cea971",
   "metadata": {},
   "outputs": [],
   "source": [
    "import pandas as pd\n",
    "import numpy as np\n",
    "import matplotlib.pyplot as plt\n",
    "import matplotlib\n",
    "import seaborn as sea\n",
    "import math\n",
    "\n",
    "from sklearn.model_selection import train_test_split\n",
    "from sklearn.model_selection import RandomizedSearchCV\n",
    "from sklearn.metrics import accuracy_score\n",
    "from sklearn.metrics import confusion_matrix\n",
    "from sklearn.metrics import recall_score, precision_score, f1_score\n",
    "\n",
    "\n",
    "from sklearn.naive_bayes import GaussianNB\n",
    "from sklearn.linear_model import LogisticRegression\n",
    "from sklearn.ensemble import RandomForestClassifier\n",
    "from xgboost import XGBRegressor\n",
    "\n",
    "\n",
    "from imblearn.over_sampling import SMOTE\n",
    "from imblearn.over_sampling import SMOTENC\n",
    "\n",
    "from hyperopt import STATUS_OK, Trials, fmin, hp, tpe\n",
    "import xgboost as xgb"
   ]
  },
  {
   "cell_type": "code",
   "execution_count": 3,
   "id": "c8e84ebc",
   "metadata": {},
   "outputs": [],
   "source": [
    "original_data = pd.read_csv('telco-customer-churn.csv')"
   ]
  },
  {
   "cell_type": "code",
   "execution_count": 4,
   "id": "8cbee67f",
   "metadata": {
    "scrolled": true
   },
   "outputs": [
    {
     "data": {
      "text/html": [
       "<div>\n",
       "<style scoped>\n",
       "    .dataframe tbody tr th:only-of-type {\n",
       "        vertical-align: middle;\n",
       "    }\n",
       "\n",
       "    .dataframe tbody tr th {\n",
       "        vertical-align: top;\n",
       "    }\n",
       "\n",
       "    .dataframe thead th {\n",
       "        text-align: right;\n",
       "    }\n",
       "</style>\n",
       "<table border=\"1\" class=\"dataframe\">\n",
       "  <thead>\n",
       "    <tr style=\"text-align: right;\">\n",
       "      <th></th>\n",
       "      <th>customerID</th>\n",
       "      <th>gender</th>\n",
       "      <th>SeniorCitizen</th>\n",
       "      <th>Partner</th>\n",
       "      <th>Dependents</th>\n",
       "      <th>tenure</th>\n",
       "      <th>PhoneService</th>\n",
       "      <th>MultipleLines</th>\n",
       "      <th>InternetService</th>\n",
       "      <th>OnlineSecurity</th>\n",
       "      <th>...</th>\n",
       "      <th>DeviceProtection</th>\n",
       "      <th>TechSupport</th>\n",
       "      <th>StreamingTV</th>\n",
       "      <th>StreamingMovies</th>\n",
       "      <th>Contract</th>\n",
       "      <th>PaperlessBilling</th>\n",
       "      <th>PaymentMethod</th>\n",
       "      <th>MonthlyCharges</th>\n",
       "      <th>TotalCharges</th>\n",
       "      <th>Churn</th>\n",
       "    </tr>\n",
       "  </thead>\n",
       "  <tbody>\n",
       "    <tr>\n",
       "      <th>0</th>\n",
       "      <td>7590-VHVEG</td>\n",
       "      <td>Female</td>\n",
       "      <td>0</td>\n",
       "      <td>Yes</td>\n",
       "      <td>No</td>\n",
       "      <td>1</td>\n",
       "      <td>No</td>\n",
       "      <td>No phone service</td>\n",
       "      <td>DSL</td>\n",
       "      <td>No</td>\n",
       "      <td>...</td>\n",
       "      <td>No</td>\n",
       "      <td>No</td>\n",
       "      <td>No</td>\n",
       "      <td>No</td>\n",
       "      <td>Month-to-month</td>\n",
       "      <td>Yes</td>\n",
       "      <td>Electronic check</td>\n",
       "      <td>29.85</td>\n",
       "      <td>29.85</td>\n",
       "      <td>No</td>\n",
       "    </tr>\n",
       "    <tr>\n",
       "      <th>1</th>\n",
       "      <td>5575-GNVDE</td>\n",
       "      <td>Male</td>\n",
       "      <td>0</td>\n",
       "      <td>No</td>\n",
       "      <td>No</td>\n",
       "      <td>34</td>\n",
       "      <td>Yes</td>\n",
       "      <td>No</td>\n",
       "      <td>DSL</td>\n",
       "      <td>Yes</td>\n",
       "      <td>...</td>\n",
       "      <td>Yes</td>\n",
       "      <td>No</td>\n",
       "      <td>No</td>\n",
       "      <td>No</td>\n",
       "      <td>One year</td>\n",
       "      <td>No</td>\n",
       "      <td>Mailed check</td>\n",
       "      <td>56.95</td>\n",
       "      <td>1889.5</td>\n",
       "      <td>No</td>\n",
       "    </tr>\n",
       "    <tr>\n",
       "      <th>2</th>\n",
       "      <td>3668-QPYBK</td>\n",
       "      <td>Male</td>\n",
       "      <td>0</td>\n",
       "      <td>No</td>\n",
       "      <td>No</td>\n",
       "      <td>2</td>\n",
       "      <td>Yes</td>\n",
       "      <td>No</td>\n",
       "      <td>DSL</td>\n",
       "      <td>Yes</td>\n",
       "      <td>...</td>\n",
       "      <td>No</td>\n",
       "      <td>No</td>\n",
       "      <td>No</td>\n",
       "      <td>No</td>\n",
       "      <td>Month-to-month</td>\n",
       "      <td>Yes</td>\n",
       "      <td>Mailed check</td>\n",
       "      <td>53.85</td>\n",
       "      <td>108.15</td>\n",
       "      <td>Yes</td>\n",
       "    </tr>\n",
       "    <tr>\n",
       "      <th>3</th>\n",
       "      <td>7795-CFOCW</td>\n",
       "      <td>Male</td>\n",
       "      <td>0</td>\n",
       "      <td>No</td>\n",
       "      <td>No</td>\n",
       "      <td>45</td>\n",
       "      <td>No</td>\n",
       "      <td>No phone service</td>\n",
       "      <td>DSL</td>\n",
       "      <td>Yes</td>\n",
       "      <td>...</td>\n",
       "      <td>Yes</td>\n",
       "      <td>Yes</td>\n",
       "      <td>No</td>\n",
       "      <td>No</td>\n",
       "      <td>One year</td>\n",
       "      <td>No</td>\n",
       "      <td>Bank transfer (automatic)</td>\n",
       "      <td>42.30</td>\n",
       "      <td>1840.75</td>\n",
       "      <td>No</td>\n",
       "    </tr>\n",
       "    <tr>\n",
       "      <th>4</th>\n",
       "      <td>9237-HQITU</td>\n",
       "      <td>Female</td>\n",
       "      <td>0</td>\n",
       "      <td>No</td>\n",
       "      <td>No</td>\n",
       "      <td>2</td>\n",
       "      <td>Yes</td>\n",
       "      <td>No</td>\n",
       "      <td>Fiber optic</td>\n",
       "      <td>No</td>\n",
       "      <td>...</td>\n",
       "      <td>No</td>\n",
       "      <td>No</td>\n",
       "      <td>No</td>\n",
       "      <td>No</td>\n",
       "      <td>Month-to-month</td>\n",
       "      <td>Yes</td>\n",
       "      <td>Electronic check</td>\n",
       "      <td>70.70</td>\n",
       "      <td>151.65</td>\n",
       "      <td>Yes</td>\n",
       "    </tr>\n",
       "    <tr>\n",
       "      <th>...</th>\n",
       "      <td>...</td>\n",
       "      <td>...</td>\n",
       "      <td>...</td>\n",
       "      <td>...</td>\n",
       "      <td>...</td>\n",
       "      <td>...</td>\n",
       "      <td>...</td>\n",
       "      <td>...</td>\n",
       "      <td>...</td>\n",
       "      <td>...</td>\n",
       "      <td>...</td>\n",
       "      <td>...</td>\n",
       "      <td>...</td>\n",
       "      <td>...</td>\n",
       "      <td>...</td>\n",
       "      <td>...</td>\n",
       "      <td>...</td>\n",
       "      <td>...</td>\n",
       "      <td>...</td>\n",
       "      <td>...</td>\n",
       "      <td>...</td>\n",
       "    </tr>\n",
       "    <tr>\n",
       "      <th>7038</th>\n",
       "      <td>6840-RESVB</td>\n",
       "      <td>Male</td>\n",
       "      <td>0</td>\n",
       "      <td>Yes</td>\n",
       "      <td>Yes</td>\n",
       "      <td>24</td>\n",
       "      <td>Yes</td>\n",
       "      <td>Yes</td>\n",
       "      <td>DSL</td>\n",
       "      <td>Yes</td>\n",
       "      <td>...</td>\n",
       "      <td>Yes</td>\n",
       "      <td>Yes</td>\n",
       "      <td>Yes</td>\n",
       "      <td>Yes</td>\n",
       "      <td>One year</td>\n",
       "      <td>Yes</td>\n",
       "      <td>Mailed check</td>\n",
       "      <td>84.80</td>\n",
       "      <td>1990.5</td>\n",
       "      <td>No</td>\n",
       "    </tr>\n",
       "    <tr>\n",
       "      <th>7039</th>\n",
       "      <td>2234-XADUH</td>\n",
       "      <td>Female</td>\n",
       "      <td>0</td>\n",
       "      <td>Yes</td>\n",
       "      <td>Yes</td>\n",
       "      <td>72</td>\n",
       "      <td>Yes</td>\n",
       "      <td>Yes</td>\n",
       "      <td>Fiber optic</td>\n",
       "      <td>No</td>\n",
       "      <td>...</td>\n",
       "      <td>Yes</td>\n",
       "      <td>No</td>\n",
       "      <td>Yes</td>\n",
       "      <td>Yes</td>\n",
       "      <td>One year</td>\n",
       "      <td>Yes</td>\n",
       "      <td>Credit card (automatic)</td>\n",
       "      <td>103.20</td>\n",
       "      <td>7362.9</td>\n",
       "      <td>No</td>\n",
       "    </tr>\n",
       "    <tr>\n",
       "      <th>7040</th>\n",
       "      <td>4801-JZAZL</td>\n",
       "      <td>Female</td>\n",
       "      <td>0</td>\n",
       "      <td>Yes</td>\n",
       "      <td>Yes</td>\n",
       "      <td>11</td>\n",
       "      <td>No</td>\n",
       "      <td>No phone service</td>\n",
       "      <td>DSL</td>\n",
       "      <td>Yes</td>\n",
       "      <td>...</td>\n",
       "      <td>No</td>\n",
       "      <td>No</td>\n",
       "      <td>No</td>\n",
       "      <td>No</td>\n",
       "      <td>Month-to-month</td>\n",
       "      <td>Yes</td>\n",
       "      <td>Electronic check</td>\n",
       "      <td>29.60</td>\n",
       "      <td>346.45</td>\n",
       "      <td>No</td>\n",
       "    </tr>\n",
       "    <tr>\n",
       "      <th>7041</th>\n",
       "      <td>8361-LTMKD</td>\n",
       "      <td>Male</td>\n",
       "      <td>1</td>\n",
       "      <td>Yes</td>\n",
       "      <td>No</td>\n",
       "      <td>4</td>\n",
       "      <td>Yes</td>\n",
       "      <td>Yes</td>\n",
       "      <td>Fiber optic</td>\n",
       "      <td>No</td>\n",
       "      <td>...</td>\n",
       "      <td>No</td>\n",
       "      <td>No</td>\n",
       "      <td>No</td>\n",
       "      <td>No</td>\n",
       "      <td>Month-to-month</td>\n",
       "      <td>Yes</td>\n",
       "      <td>Mailed check</td>\n",
       "      <td>74.40</td>\n",
       "      <td>306.6</td>\n",
       "      <td>Yes</td>\n",
       "    </tr>\n",
       "    <tr>\n",
       "      <th>7042</th>\n",
       "      <td>3186-AJIEK</td>\n",
       "      <td>Male</td>\n",
       "      <td>0</td>\n",
       "      <td>No</td>\n",
       "      <td>No</td>\n",
       "      <td>66</td>\n",
       "      <td>Yes</td>\n",
       "      <td>No</td>\n",
       "      <td>Fiber optic</td>\n",
       "      <td>Yes</td>\n",
       "      <td>...</td>\n",
       "      <td>Yes</td>\n",
       "      <td>Yes</td>\n",
       "      <td>Yes</td>\n",
       "      <td>Yes</td>\n",
       "      <td>Two year</td>\n",
       "      <td>Yes</td>\n",
       "      <td>Bank transfer (automatic)</td>\n",
       "      <td>105.65</td>\n",
       "      <td>6844.5</td>\n",
       "      <td>No</td>\n",
       "    </tr>\n",
       "  </tbody>\n",
       "</table>\n",
       "<p>7043 rows × 21 columns</p>\n",
       "</div>"
      ],
      "text/plain": [
       "      customerID  gender  SeniorCitizen Partner Dependents  tenure  \\\n",
       "0     7590-VHVEG  Female              0     Yes         No       1   \n",
       "1     5575-GNVDE    Male              0      No         No      34   \n",
       "2     3668-QPYBK    Male              0      No         No       2   \n",
       "3     7795-CFOCW    Male              0      No         No      45   \n",
       "4     9237-HQITU  Female              0      No         No       2   \n",
       "...          ...     ...            ...     ...        ...     ...   \n",
       "7038  6840-RESVB    Male              0     Yes        Yes      24   \n",
       "7039  2234-XADUH  Female              0     Yes        Yes      72   \n",
       "7040  4801-JZAZL  Female              0     Yes        Yes      11   \n",
       "7041  8361-LTMKD    Male              1     Yes         No       4   \n",
       "7042  3186-AJIEK    Male              0      No         No      66   \n",
       "\n",
       "     PhoneService     MultipleLines InternetService OnlineSecurity  ...  \\\n",
       "0              No  No phone service             DSL             No  ...   \n",
       "1             Yes                No             DSL            Yes  ...   \n",
       "2             Yes                No             DSL            Yes  ...   \n",
       "3              No  No phone service             DSL            Yes  ...   \n",
       "4             Yes                No     Fiber optic             No  ...   \n",
       "...           ...               ...             ...            ...  ...   \n",
       "7038          Yes               Yes             DSL            Yes  ...   \n",
       "7039          Yes               Yes     Fiber optic             No  ...   \n",
       "7040           No  No phone service             DSL            Yes  ...   \n",
       "7041          Yes               Yes     Fiber optic             No  ...   \n",
       "7042          Yes                No     Fiber optic            Yes  ...   \n",
       "\n",
       "     DeviceProtection TechSupport StreamingTV StreamingMovies        Contract  \\\n",
       "0                  No          No          No              No  Month-to-month   \n",
       "1                 Yes          No          No              No        One year   \n",
       "2                  No          No          No              No  Month-to-month   \n",
       "3                 Yes         Yes          No              No        One year   \n",
       "4                  No          No          No              No  Month-to-month   \n",
       "...               ...         ...         ...             ...             ...   \n",
       "7038              Yes         Yes         Yes             Yes        One year   \n",
       "7039              Yes          No         Yes             Yes        One year   \n",
       "7040               No          No          No              No  Month-to-month   \n",
       "7041               No          No          No              No  Month-to-month   \n",
       "7042              Yes         Yes         Yes             Yes        Two year   \n",
       "\n",
       "     PaperlessBilling              PaymentMethod MonthlyCharges  TotalCharges  \\\n",
       "0                 Yes           Electronic check          29.85         29.85   \n",
       "1                  No               Mailed check          56.95        1889.5   \n",
       "2                 Yes               Mailed check          53.85        108.15   \n",
       "3                  No  Bank transfer (automatic)          42.30       1840.75   \n",
       "4                 Yes           Electronic check          70.70        151.65   \n",
       "...               ...                        ...            ...           ...   \n",
       "7038              Yes               Mailed check          84.80        1990.5   \n",
       "7039              Yes    Credit card (automatic)         103.20        7362.9   \n",
       "7040              Yes           Electronic check          29.60        346.45   \n",
       "7041              Yes               Mailed check          74.40         306.6   \n",
       "7042              Yes  Bank transfer (automatic)         105.65        6844.5   \n",
       "\n",
       "     Churn  \n",
       "0       No  \n",
       "1       No  \n",
       "2      Yes  \n",
       "3       No  \n",
       "4      Yes  \n",
       "...    ...  \n",
       "7038    No  \n",
       "7039    No  \n",
       "7040    No  \n",
       "7041   Yes  \n",
       "7042    No  \n",
       "\n",
       "[7043 rows x 21 columns]"
      ]
     },
     "execution_count": 4,
     "metadata": {},
     "output_type": "execute_result"
    }
   ],
   "source": [
    "original_data"
   ]
  },
  {
   "cell_type": "code",
   "execution_count": 5,
   "id": "076e9d08",
   "metadata": {},
   "outputs": [],
   "source": [
    "original_data_copy = original_data.copy()"
   ]
  },
  {
   "cell_type": "code",
   "execution_count": 6,
   "id": "3240e026",
   "metadata": {},
   "outputs": [],
   "source": [
    "colu = original_data.columns.to_list()"
   ]
  },
  {
   "cell_type": "code",
   "execution_count": 7,
   "id": "4adb8be4",
   "metadata": {
    "scrolled": true
   },
   "outputs": [
    {
     "data": {
      "text/plain": [
       "['gender',\n",
       " 'Partner',\n",
       " 'Dependents',\n",
       " 'PhoneService',\n",
       " 'MultipleLines',\n",
       " 'InternetService',\n",
       " 'OnlineSecurity',\n",
       " 'OnlineBackup',\n",
       " 'DeviceProtection',\n",
       " 'TechSupport',\n",
       " 'StreamingTV',\n",
       " 'StreamingMovies',\n",
       " 'Contract',\n",
       " 'PaperlessBilling',\n",
       " 'PaymentMethod',\n",
       " 'Churn']"
      ]
     },
     "execution_count": 7,
     "metadata": {},
     "output_type": "execute_result"
    }
   ],
   "source": [
    "conv_colu = colu.copy()\n",
    "x = ['customerID','SeniorCitizen', 'tenure', 'MonthlyCharges', 'TotalCharges']\n",
    "for xx in x:\n",
    "    conv_colu.remove(xx)\n",
    "    \n",
    "conv_colu"
   ]
  },
  {
   "cell_type": "code",
   "execution_count": 8,
   "id": "906b8818",
   "metadata": {},
   "outputs": [],
   "source": [
    "def int_map(df, column_name):\n",
    "    dfc = df.copy()\n",
    "    values = dfc[column_name].unique()\n",
    "    intmap = {name:val for val,name in enumerate(values)}\n",
    "    print(intmap)\n",
    "    dfc[column_name] = dfc[column_name].replace(intmap)\n",
    "    return(dfc, intmap)"
   ]
  },
  {
   "cell_type": "code",
   "execution_count": 9,
   "id": "3ee59937",
   "metadata": {
    "scrolled": true
   },
   "outputs": [
    {
     "name": "stdout",
     "output_type": "stream",
     "text": [
      "{'Female': 0, 'Male': 1}\n",
      "{'Yes': 0, 'No': 1}\n",
      "{'No': 0, 'Yes': 1}\n",
      "{'No': 0, 'Yes': 1}\n",
      "{'No phone service': 0, 'No': 1, 'Yes': 2}\n",
      "{'DSL': 0, 'Fiber optic': 1, 'No': 2}\n",
      "{'No': 0, 'Yes': 1, 'No internet service': 2}\n",
      "{'Yes': 0, 'No': 1, 'No internet service': 2}\n",
      "{'No': 0, 'Yes': 1, 'No internet service': 2}\n",
      "{'No': 0, 'Yes': 1, 'No internet service': 2}\n",
      "{'No': 0, 'Yes': 1, 'No internet service': 2}\n",
      "{'No': 0, 'Yes': 1, 'No internet service': 2}\n",
      "{'Month-to-month': 0, 'One year': 1, 'Two year': 2}\n",
      "{'Yes': 0, 'No': 1}\n",
      "{'Electronic check': 0, 'Mailed check': 1, 'Bank transfer (automatic)': 2, 'Credit card (automatic)': 3}\n",
      "{'No': 0, 'Yes': 1}\n"
     ]
    },
    {
     "data": {
      "text/html": [
       "<div>\n",
       "<style scoped>\n",
       "    .dataframe tbody tr th:only-of-type {\n",
       "        vertical-align: middle;\n",
       "    }\n",
       "\n",
       "    .dataframe tbody tr th {\n",
       "        vertical-align: top;\n",
       "    }\n",
       "\n",
       "    .dataframe thead th {\n",
       "        text-align: right;\n",
       "    }\n",
       "</style>\n",
       "<table border=\"1\" class=\"dataframe\">\n",
       "  <thead>\n",
       "    <tr style=\"text-align: right;\">\n",
       "      <th></th>\n",
       "      <th>customerID</th>\n",
       "      <th>gender</th>\n",
       "      <th>SeniorCitizen</th>\n",
       "      <th>Partner</th>\n",
       "      <th>Dependents</th>\n",
       "      <th>tenure</th>\n",
       "      <th>PhoneService</th>\n",
       "      <th>MultipleLines</th>\n",
       "      <th>InternetService</th>\n",
       "      <th>OnlineSecurity</th>\n",
       "      <th>...</th>\n",
       "      <th>DeviceProtection</th>\n",
       "      <th>TechSupport</th>\n",
       "      <th>StreamingTV</th>\n",
       "      <th>StreamingMovies</th>\n",
       "      <th>Contract</th>\n",
       "      <th>PaperlessBilling</th>\n",
       "      <th>PaymentMethod</th>\n",
       "      <th>MonthlyCharges</th>\n",
       "      <th>TotalCharges</th>\n",
       "      <th>Churn</th>\n",
       "    </tr>\n",
       "  </thead>\n",
       "  <tbody>\n",
       "    <tr>\n",
       "      <th>0</th>\n",
       "      <td>7590-VHVEG</td>\n",
       "      <td>0</td>\n",
       "      <td>0</td>\n",
       "      <td>0</td>\n",
       "      <td>0</td>\n",
       "      <td>1</td>\n",
       "      <td>0</td>\n",
       "      <td>0</td>\n",
       "      <td>0</td>\n",
       "      <td>0</td>\n",
       "      <td>...</td>\n",
       "      <td>0</td>\n",
       "      <td>0</td>\n",
       "      <td>0</td>\n",
       "      <td>0</td>\n",
       "      <td>0</td>\n",
       "      <td>0</td>\n",
       "      <td>0</td>\n",
       "      <td>29.85</td>\n",
       "      <td>29.85</td>\n",
       "      <td>0</td>\n",
       "    </tr>\n",
       "    <tr>\n",
       "      <th>1</th>\n",
       "      <td>5575-GNVDE</td>\n",
       "      <td>1</td>\n",
       "      <td>0</td>\n",
       "      <td>1</td>\n",
       "      <td>0</td>\n",
       "      <td>34</td>\n",
       "      <td>1</td>\n",
       "      <td>1</td>\n",
       "      <td>0</td>\n",
       "      <td>1</td>\n",
       "      <td>...</td>\n",
       "      <td>1</td>\n",
       "      <td>0</td>\n",
       "      <td>0</td>\n",
       "      <td>0</td>\n",
       "      <td>1</td>\n",
       "      <td>1</td>\n",
       "      <td>1</td>\n",
       "      <td>56.95</td>\n",
       "      <td>1889.5</td>\n",
       "      <td>0</td>\n",
       "    </tr>\n",
       "    <tr>\n",
       "      <th>2</th>\n",
       "      <td>3668-QPYBK</td>\n",
       "      <td>1</td>\n",
       "      <td>0</td>\n",
       "      <td>1</td>\n",
       "      <td>0</td>\n",
       "      <td>2</td>\n",
       "      <td>1</td>\n",
       "      <td>1</td>\n",
       "      <td>0</td>\n",
       "      <td>1</td>\n",
       "      <td>...</td>\n",
       "      <td>0</td>\n",
       "      <td>0</td>\n",
       "      <td>0</td>\n",
       "      <td>0</td>\n",
       "      <td>0</td>\n",
       "      <td>0</td>\n",
       "      <td>1</td>\n",
       "      <td>53.85</td>\n",
       "      <td>108.15</td>\n",
       "      <td>1</td>\n",
       "    </tr>\n",
       "    <tr>\n",
       "      <th>3</th>\n",
       "      <td>7795-CFOCW</td>\n",
       "      <td>1</td>\n",
       "      <td>0</td>\n",
       "      <td>1</td>\n",
       "      <td>0</td>\n",
       "      <td>45</td>\n",
       "      <td>0</td>\n",
       "      <td>0</td>\n",
       "      <td>0</td>\n",
       "      <td>1</td>\n",
       "      <td>...</td>\n",
       "      <td>1</td>\n",
       "      <td>1</td>\n",
       "      <td>0</td>\n",
       "      <td>0</td>\n",
       "      <td>1</td>\n",
       "      <td>1</td>\n",
       "      <td>2</td>\n",
       "      <td>42.30</td>\n",
       "      <td>1840.75</td>\n",
       "      <td>0</td>\n",
       "    </tr>\n",
       "    <tr>\n",
       "      <th>4</th>\n",
       "      <td>9237-HQITU</td>\n",
       "      <td>0</td>\n",
       "      <td>0</td>\n",
       "      <td>1</td>\n",
       "      <td>0</td>\n",
       "      <td>2</td>\n",
       "      <td>1</td>\n",
       "      <td>1</td>\n",
       "      <td>1</td>\n",
       "      <td>0</td>\n",
       "      <td>...</td>\n",
       "      <td>0</td>\n",
       "      <td>0</td>\n",
       "      <td>0</td>\n",
       "      <td>0</td>\n",
       "      <td>0</td>\n",
       "      <td>0</td>\n",
       "      <td>0</td>\n",
       "      <td>70.70</td>\n",
       "      <td>151.65</td>\n",
       "      <td>1</td>\n",
       "    </tr>\n",
       "    <tr>\n",
       "      <th>...</th>\n",
       "      <td>...</td>\n",
       "      <td>...</td>\n",
       "      <td>...</td>\n",
       "      <td>...</td>\n",
       "      <td>...</td>\n",
       "      <td>...</td>\n",
       "      <td>...</td>\n",
       "      <td>...</td>\n",
       "      <td>...</td>\n",
       "      <td>...</td>\n",
       "      <td>...</td>\n",
       "      <td>...</td>\n",
       "      <td>...</td>\n",
       "      <td>...</td>\n",
       "      <td>...</td>\n",
       "      <td>...</td>\n",
       "      <td>...</td>\n",
       "      <td>...</td>\n",
       "      <td>...</td>\n",
       "      <td>...</td>\n",
       "      <td>...</td>\n",
       "    </tr>\n",
       "    <tr>\n",
       "      <th>7038</th>\n",
       "      <td>6840-RESVB</td>\n",
       "      <td>1</td>\n",
       "      <td>0</td>\n",
       "      <td>0</td>\n",
       "      <td>1</td>\n",
       "      <td>24</td>\n",
       "      <td>1</td>\n",
       "      <td>2</td>\n",
       "      <td>0</td>\n",
       "      <td>1</td>\n",
       "      <td>...</td>\n",
       "      <td>1</td>\n",
       "      <td>1</td>\n",
       "      <td>1</td>\n",
       "      <td>1</td>\n",
       "      <td>1</td>\n",
       "      <td>0</td>\n",
       "      <td>1</td>\n",
       "      <td>84.80</td>\n",
       "      <td>1990.5</td>\n",
       "      <td>0</td>\n",
       "    </tr>\n",
       "    <tr>\n",
       "      <th>7039</th>\n",
       "      <td>2234-XADUH</td>\n",
       "      <td>0</td>\n",
       "      <td>0</td>\n",
       "      <td>0</td>\n",
       "      <td>1</td>\n",
       "      <td>72</td>\n",
       "      <td>1</td>\n",
       "      <td>2</td>\n",
       "      <td>1</td>\n",
       "      <td>0</td>\n",
       "      <td>...</td>\n",
       "      <td>1</td>\n",
       "      <td>0</td>\n",
       "      <td>1</td>\n",
       "      <td>1</td>\n",
       "      <td>1</td>\n",
       "      <td>0</td>\n",
       "      <td>3</td>\n",
       "      <td>103.20</td>\n",
       "      <td>7362.9</td>\n",
       "      <td>0</td>\n",
       "    </tr>\n",
       "    <tr>\n",
       "      <th>7040</th>\n",
       "      <td>4801-JZAZL</td>\n",
       "      <td>0</td>\n",
       "      <td>0</td>\n",
       "      <td>0</td>\n",
       "      <td>1</td>\n",
       "      <td>11</td>\n",
       "      <td>0</td>\n",
       "      <td>0</td>\n",
       "      <td>0</td>\n",
       "      <td>1</td>\n",
       "      <td>...</td>\n",
       "      <td>0</td>\n",
       "      <td>0</td>\n",
       "      <td>0</td>\n",
       "      <td>0</td>\n",
       "      <td>0</td>\n",
       "      <td>0</td>\n",
       "      <td>0</td>\n",
       "      <td>29.60</td>\n",
       "      <td>346.45</td>\n",
       "      <td>0</td>\n",
       "    </tr>\n",
       "    <tr>\n",
       "      <th>7041</th>\n",
       "      <td>8361-LTMKD</td>\n",
       "      <td>1</td>\n",
       "      <td>1</td>\n",
       "      <td>0</td>\n",
       "      <td>0</td>\n",
       "      <td>4</td>\n",
       "      <td>1</td>\n",
       "      <td>2</td>\n",
       "      <td>1</td>\n",
       "      <td>0</td>\n",
       "      <td>...</td>\n",
       "      <td>0</td>\n",
       "      <td>0</td>\n",
       "      <td>0</td>\n",
       "      <td>0</td>\n",
       "      <td>0</td>\n",
       "      <td>0</td>\n",
       "      <td>1</td>\n",
       "      <td>74.40</td>\n",
       "      <td>306.6</td>\n",
       "      <td>1</td>\n",
       "    </tr>\n",
       "    <tr>\n",
       "      <th>7042</th>\n",
       "      <td>3186-AJIEK</td>\n",
       "      <td>1</td>\n",
       "      <td>0</td>\n",
       "      <td>1</td>\n",
       "      <td>0</td>\n",
       "      <td>66</td>\n",
       "      <td>1</td>\n",
       "      <td>1</td>\n",
       "      <td>1</td>\n",
       "      <td>1</td>\n",
       "      <td>...</td>\n",
       "      <td>1</td>\n",
       "      <td>1</td>\n",
       "      <td>1</td>\n",
       "      <td>1</td>\n",
       "      <td>2</td>\n",
       "      <td>0</td>\n",
       "      <td>2</td>\n",
       "      <td>105.65</td>\n",
       "      <td>6844.5</td>\n",
       "      <td>0</td>\n",
       "    </tr>\n",
       "  </tbody>\n",
       "</table>\n",
       "<p>7043 rows × 21 columns</p>\n",
       "</div>"
      ],
      "text/plain": [
       "      customerID  gender  SeniorCitizen  Partner  Dependents  tenure  \\\n",
       "0     7590-VHVEG       0              0        0           0       1   \n",
       "1     5575-GNVDE       1              0        1           0      34   \n",
       "2     3668-QPYBK       1              0        1           0       2   \n",
       "3     7795-CFOCW       1              0        1           0      45   \n",
       "4     9237-HQITU       0              0        1           0       2   \n",
       "...          ...     ...            ...      ...         ...     ...   \n",
       "7038  6840-RESVB       1              0        0           1      24   \n",
       "7039  2234-XADUH       0              0        0           1      72   \n",
       "7040  4801-JZAZL       0              0        0           1      11   \n",
       "7041  8361-LTMKD       1              1        0           0       4   \n",
       "7042  3186-AJIEK       1              0        1           0      66   \n",
       "\n",
       "      PhoneService  MultipleLines  InternetService  OnlineSecurity  ...  \\\n",
       "0                0              0                0               0  ...   \n",
       "1                1              1                0               1  ...   \n",
       "2                1              1                0               1  ...   \n",
       "3                0              0                0               1  ...   \n",
       "4                1              1                1               0  ...   \n",
       "...            ...            ...              ...             ...  ...   \n",
       "7038             1              2                0               1  ...   \n",
       "7039             1              2                1               0  ...   \n",
       "7040             0              0                0               1  ...   \n",
       "7041             1              2                1               0  ...   \n",
       "7042             1              1                1               1  ...   \n",
       "\n",
       "      DeviceProtection  TechSupport  StreamingTV  StreamingMovies  Contract  \\\n",
       "0                    0            0            0                0         0   \n",
       "1                    1            0            0                0         1   \n",
       "2                    0            0            0                0         0   \n",
       "3                    1            1            0                0         1   \n",
       "4                    0            0            0                0         0   \n",
       "...                ...          ...          ...              ...       ...   \n",
       "7038                 1            1            1                1         1   \n",
       "7039                 1            0            1                1         1   \n",
       "7040                 0            0            0                0         0   \n",
       "7041                 0            0            0                0         0   \n",
       "7042                 1            1            1                1         2   \n",
       "\n",
       "      PaperlessBilling  PaymentMethod  MonthlyCharges  TotalCharges Churn  \n",
       "0                    0              0           29.85         29.85     0  \n",
       "1                    1              1           56.95        1889.5     0  \n",
       "2                    0              1           53.85        108.15     1  \n",
       "3                    1              2           42.30       1840.75     0  \n",
       "4                    0              0           70.70        151.65     1  \n",
       "...                ...            ...             ...           ...   ...  \n",
       "7038                 0              1           84.80        1990.5     0  \n",
       "7039                 0              3          103.20        7362.9     0  \n",
       "7040                 0              0           29.60        346.45     0  \n",
       "7041                 0              1           74.40         306.6     1  \n",
       "7042                 0              2          105.65        6844.5     0  \n",
       "\n",
       "[7043 rows x 21 columns]"
      ]
     },
     "execution_count": 9,
     "metadata": {},
     "output_type": "execute_result"
    }
   ],
   "source": [
    "int_map_list = []\n",
    "for i in conv_colu:\n",
    "    original_data_copy, int_map_list_temp = int_map(original_data_copy, i)\n",
    "    int_map_list.append(int_map_list_temp)\n",
    "original_data_copy"
   ]
  },
  {
   "cell_type": "code",
   "execution_count": 10,
   "id": "650b44bf",
   "metadata": {},
   "outputs": [
    {
     "data": {
      "text/plain": [
       "[{'Female': 0, 'Male': 1},\n",
       " {'Yes': 0, 'No': 1},\n",
       " {'No': 0, 'Yes': 1},\n",
       " {'No': 0, 'Yes': 1},\n",
       " {'No phone service': 0, 'No': 1, 'Yes': 2},\n",
       " {'DSL': 0, 'Fiber optic': 1, 'No': 2},\n",
       " {'No': 0, 'Yes': 1, 'No internet service': 2},\n",
       " {'Yes': 0, 'No': 1, 'No internet service': 2},\n",
       " {'No': 0, 'Yes': 1, 'No internet service': 2},\n",
       " {'No': 0, 'Yes': 1, 'No internet service': 2},\n",
       " {'No': 0, 'Yes': 1, 'No internet service': 2},\n",
       " {'No': 0, 'Yes': 1, 'No internet service': 2},\n",
       " {'Month-to-month': 0, 'One year': 1, 'Two year': 2},\n",
       " {'Yes': 0, 'No': 1},\n",
       " {'Electronic check': 0,\n",
       "  'Mailed check': 1,\n",
       "  'Bank transfer (automatic)': 2,\n",
       "  'Credit card (automatic)': 3},\n",
       " {'No': 0, 'Yes': 1}]"
      ]
     },
     "execution_count": 10,
     "metadata": {},
     "output_type": "execute_result"
    }
   ],
   "source": [
    "int_map_list"
   ]
  },
  {
   "cell_type": "code",
   "execution_count": 11,
   "id": "88cfc10a",
   "metadata": {
    "scrolled": true
   },
   "outputs": [
    {
     "name": "stdout",
     "output_type": "stream",
     "text": [
      "488\n",
      "753\n",
      "936\n",
      "1082\n",
      "1340\n",
      "3331\n",
      "3826\n",
      "4380\n",
      "5218\n",
      "6670\n",
      "6754\n"
     ]
    },
    {
     "data": {
      "text/html": [
       "<div>\n",
       "<style scoped>\n",
       "    .dataframe tbody tr th:only-of-type {\n",
       "        vertical-align: middle;\n",
       "    }\n",
       "\n",
       "    .dataframe tbody tr th {\n",
       "        vertical-align: top;\n",
       "    }\n",
       "\n",
       "    .dataframe thead th {\n",
       "        text-align: right;\n",
       "    }\n",
       "</style>\n",
       "<table border=\"1\" class=\"dataframe\">\n",
       "  <thead>\n",
       "    <tr style=\"text-align: right;\">\n",
       "      <th></th>\n",
       "      <th>customerID</th>\n",
       "      <th>gender</th>\n",
       "      <th>SeniorCitizen</th>\n",
       "      <th>Partner</th>\n",
       "      <th>Dependents</th>\n",
       "      <th>tenure</th>\n",
       "      <th>PhoneService</th>\n",
       "      <th>MultipleLines</th>\n",
       "      <th>InternetService</th>\n",
       "      <th>OnlineSecurity</th>\n",
       "      <th>...</th>\n",
       "      <th>DeviceProtection</th>\n",
       "      <th>TechSupport</th>\n",
       "      <th>StreamingTV</th>\n",
       "      <th>StreamingMovies</th>\n",
       "      <th>Contract</th>\n",
       "      <th>PaperlessBilling</th>\n",
       "      <th>PaymentMethod</th>\n",
       "      <th>MonthlyCharges</th>\n",
       "      <th>TotalCharges</th>\n",
       "      <th>Churn</th>\n",
       "    </tr>\n",
       "  </thead>\n",
       "  <tbody>\n",
       "    <tr>\n",
       "      <th>0</th>\n",
       "      <td>7590-VHVEG</td>\n",
       "      <td>0</td>\n",
       "      <td>0</td>\n",
       "      <td>0</td>\n",
       "      <td>0</td>\n",
       "      <td>1</td>\n",
       "      <td>0</td>\n",
       "      <td>0</td>\n",
       "      <td>0</td>\n",
       "      <td>0</td>\n",
       "      <td>...</td>\n",
       "      <td>0</td>\n",
       "      <td>0</td>\n",
       "      <td>0</td>\n",
       "      <td>0</td>\n",
       "      <td>0</td>\n",
       "      <td>0</td>\n",
       "      <td>0</td>\n",
       "      <td>29.85</td>\n",
       "      <td>29.85</td>\n",
       "      <td>0</td>\n",
       "    </tr>\n",
       "    <tr>\n",
       "      <th>1</th>\n",
       "      <td>5575-GNVDE</td>\n",
       "      <td>1</td>\n",
       "      <td>0</td>\n",
       "      <td>1</td>\n",
       "      <td>0</td>\n",
       "      <td>34</td>\n",
       "      <td>1</td>\n",
       "      <td>1</td>\n",
       "      <td>0</td>\n",
       "      <td>1</td>\n",
       "      <td>...</td>\n",
       "      <td>1</td>\n",
       "      <td>0</td>\n",
       "      <td>0</td>\n",
       "      <td>0</td>\n",
       "      <td>1</td>\n",
       "      <td>1</td>\n",
       "      <td>1</td>\n",
       "      <td>56.95</td>\n",
       "      <td>1889.5</td>\n",
       "      <td>0</td>\n",
       "    </tr>\n",
       "    <tr>\n",
       "      <th>2</th>\n",
       "      <td>3668-QPYBK</td>\n",
       "      <td>1</td>\n",
       "      <td>0</td>\n",
       "      <td>1</td>\n",
       "      <td>0</td>\n",
       "      <td>2</td>\n",
       "      <td>1</td>\n",
       "      <td>1</td>\n",
       "      <td>0</td>\n",
       "      <td>1</td>\n",
       "      <td>...</td>\n",
       "      <td>0</td>\n",
       "      <td>0</td>\n",
       "      <td>0</td>\n",
       "      <td>0</td>\n",
       "      <td>0</td>\n",
       "      <td>0</td>\n",
       "      <td>1</td>\n",
       "      <td>53.85</td>\n",
       "      <td>108.15</td>\n",
       "      <td>1</td>\n",
       "    </tr>\n",
       "    <tr>\n",
       "      <th>3</th>\n",
       "      <td>7795-CFOCW</td>\n",
       "      <td>1</td>\n",
       "      <td>0</td>\n",
       "      <td>1</td>\n",
       "      <td>0</td>\n",
       "      <td>45</td>\n",
       "      <td>0</td>\n",
       "      <td>0</td>\n",
       "      <td>0</td>\n",
       "      <td>1</td>\n",
       "      <td>...</td>\n",
       "      <td>1</td>\n",
       "      <td>1</td>\n",
       "      <td>0</td>\n",
       "      <td>0</td>\n",
       "      <td>1</td>\n",
       "      <td>1</td>\n",
       "      <td>2</td>\n",
       "      <td>42.30</td>\n",
       "      <td>1840.75</td>\n",
       "      <td>0</td>\n",
       "    </tr>\n",
       "    <tr>\n",
       "      <th>4</th>\n",
       "      <td>9237-HQITU</td>\n",
       "      <td>0</td>\n",
       "      <td>0</td>\n",
       "      <td>1</td>\n",
       "      <td>0</td>\n",
       "      <td>2</td>\n",
       "      <td>1</td>\n",
       "      <td>1</td>\n",
       "      <td>1</td>\n",
       "      <td>0</td>\n",
       "      <td>...</td>\n",
       "      <td>0</td>\n",
       "      <td>0</td>\n",
       "      <td>0</td>\n",
       "      <td>0</td>\n",
       "      <td>0</td>\n",
       "      <td>0</td>\n",
       "      <td>0</td>\n",
       "      <td>70.70</td>\n",
       "      <td>151.65</td>\n",
       "      <td>1</td>\n",
       "    </tr>\n",
       "    <tr>\n",
       "      <th>...</th>\n",
       "      <td>...</td>\n",
       "      <td>...</td>\n",
       "      <td>...</td>\n",
       "      <td>...</td>\n",
       "      <td>...</td>\n",
       "      <td>...</td>\n",
       "      <td>...</td>\n",
       "      <td>...</td>\n",
       "      <td>...</td>\n",
       "      <td>...</td>\n",
       "      <td>...</td>\n",
       "      <td>...</td>\n",
       "      <td>...</td>\n",
       "      <td>...</td>\n",
       "      <td>...</td>\n",
       "      <td>...</td>\n",
       "      <td>...</td>\n",
       "      <td>...</td>\n",
       "      <td>...</td>\n",
       "      <td>...</td>\n",
       "      <td>...</td>\n",
       "    </tr>\n",
       "    <tr>\n",
       "      <th>7038</th>\n",
       "      <td>6840-RESVB</td>\n",
       "      <td>1</td>\n",
       "      <td>0</td>\n",
       "      <td>0</td>\n",
       "      <td>1</td>\n",
       "      <td>24</td>\n",
       "      <td>1</td>\n",
       "      <td>2</td>\n",
       "      <td>0</td>\n",
       "      <td>1</td>\n",
       "      <td>...</td>\n",
       "      <td>1</td>\n",
       "      <td>1</td>\n",
       "      <td>1</td>\n",
       "      <td>1</td>\n",
       "      <td>1</td>\n",
       "      <td>0</td>\n",
       "      <td>1</td>\n",
       "      <td>84.80</td>\n",
       "      <td>1990.5</td>\n",
       "      <td>0</td>\n",
       "    </tr>\n",
       "    <tr>\n",
       "      <th>7039</th>\n",
       "      <td>2234-XADUH</td>\n",
       "      <td>0</td>\n",
       "      <td>0</td>\n",
       "      <td>0</td>\n",
       "      <td>1</td>\n",
       "      <td>72</td>\n",
       "      <td>1</td>\n",
       "      <td>2</td>\n",
       "      <td>1</td>\n",
       "      <td>0</td>\n",
       "      <td>...</td>\n",
       "      <td>1</td>\n",
       "      <td>0</td>\n",
       "      <td>1</td>\n",
       "      <td>1</td>\n",
       "      <td>1</td>\n",
       "      <td>0</td>\n",
       "      <td>3</td>\n",
       "      <td>103.20</td>\n",
       "      <td>7362.9</td>\n",
       "      <td>0</td>\n",
       "    </tr>\n",
       "    <tr>\n",
       "      <th>7040</th>\n",
       "      <td>4801-JZAZL</td>\n",
       "      <td>0</td>\n",
       "      <td>0</td>\n",
       "      <td>0</td>\n",
       "      <td>1</td>\n",
       "      <td>11</td>\n",
       "      <td>0</td>\n",
       "      <td>0</td>\n",
       "      <td>0</td>\n",
       "      <td>1</td>\n",
       "      <td>...</td>\n",
       "      <td>0</td>\n",
       "      <td>0</td>\n",
       "      <td>0</td>\n",
       "      <td>0</td>\n",
       "      <td>0</td>\n",
       "      <td>0</td>\n",
       "      <td>0</td>\n",
       "      <td>29.60</td>\n",
       "      <td>346.45</td>\n",
       "      <td>0</td>\n",
       "    </tr>\n",
       "    <tr>\n",
       "      <th>7041</th>\n",
       "      <td>8361-LTMKD</td>\n",
       "      <td>1</td>\n",
       "      <td>1</td>\n",
       "      <td>0</td>\n",
       "      <td>0</td>\n",
       "      <td>4</td>\n",
       "      <td>1</td>\n",
       "      <td>2</td>\n",
       "      <td>1</td>\n",
       "      <td>0</td>\n",
       "      <td>...</td>\n",
       "      <td>0</td>\n",
       "      <td>0</td>\n",
       "      <td>0</td>\n",
       "      <td>0</td>\n",
       "      <td>0</td>\n",
       "      <td>0</td>\n",
       "      <td>1</td>\n",
       "      <td>74.40</td>\n",
       "      <td>306.6</td>\n",
       "      <td>1</td>\n",
       "    </tr>\n",
       "    <tr>\n",
       "      <th>7042</th>\n",
       "      <td>3186-AJIEK</td>\n",
       "      <td>1</td>\n",
       "      <td>0</td>\n",
       "      <td>1</td>\n",
       "      <td>0</td>\n",
       "      <td>66</td>\n",
       "      <td>1</td>\n",
       "      <td>1</td>\n",
       "      <td>1</td>\n",
       "      <td>1</td>\n",
       "      <td>...</td>\n",
       "      <td>1</td>\n",
       "      <td>1</td>\n",
       "      <td>1</td>\n",
       "      <td>1</td>\n",
       "      <td>2</td>\n",
       "      <td>0</td>\n",
       "      <td>2</td>\n",
       "      <td>105.65</td>\n",
       "      <td>6844.5</td>\n",
       "      <td>0</td>\n",
       "    </tr>\n",
       "  </tbody>\n",
       "</table>\n",
       "<p>7032 rows × 21 columns</p>\n",
       "</div>"
      ],
      "text/plain": [
       "      customerID  gender  SeniorCitizen  Partner  Dependents  tenure  \\\n",
       "0     7590-VHVEG       0              0        0           0       1   \n",
       "1     5575-GNVDE       1              0        1           0      34   \n",
       "2     3668-QPYBK       1              0        1           0       2   \n",
       "3     7795-CFOCW       1              0        1           0      45   \n",
       "4     9237-HQITU       0              0        1           0       2   \n",
       "...          ...     ...            ...      ...         ...     ...   \n",
       "7038  6840-RESVB       1              0        0           1      24   \n",
       "7039  2234-XADUH       0              0        0           1      72   \n",
       "7040  4801-JZAZL       0              0        0           1      11   \n",
       "7041  8361-LTMKD       1              1        0           0       4   \n",
       "7042  3186-AJIEK       1              0        1           0      66   \n",
       "\n",
       "      PhoneService  MultipleLines  InternetService  OnlineSecurity  ...  \\\n",
       "0                0              0                0               0  ...   \n",
       "1                1              1                0               1  ...   \n",
       "2                1              1                0               1  ...   \n",
       "3                0              0                0               1  ...   \n",
       "4                1              1                1               0  ...   \n",
       "...            ...            ...              ...             ...  ...   \n",
       "7038             1              2                0               1  ...   \n",
       "7039             1              2                1               0  ...   \n",
       "7040             0              0                0               1  ...   \n",
       "7041             1              2                1               0  ...   \n",
       "7042             1              1                1               1  ...   \n",
       "\n",
       "      DeviceProtection  TechSupport  StreamingTV  StreamingMovies  Contract  \\\n",
       "0                    0            0            0                0         0   \n",
       "1                    1            0            0                0         1   \n",
       "2                    0            0            0                0         0   \n",
       "3                    1            1            0                0         1   \n",
       "4                    0            0            0                0         0   \n",
       "...                ...          ...          ...              ...       ...   \n",
       "7038                 1            1            1                1         1   \n",
       "7039                 1            0            1                1         1   \n",
       "7040                 0            0            0                0         0   \n",
       "7041                 0            0            0                0         0   \n",
       "7042                 1            1            1                1         2   \n",
       "\n",
       "      PaperlessBilling  PaymentMethod  MonthlyCharges  TotalCharges Churn  \n",
       "0                    0              0           29.85         29.85     0  \n",
       "1                    1              1           56.95        1889.5     0  \n",
       "2                    0              1           53.85        108.15     1  \n",
       "3                    1              2           42.30       1840.75     0  \n",
       "4                    0              0           70.70        151.65     1  \n",
       "...                ...            ...             ...           ...   ...  \n",
       "7038                 0              1           84.80        1990.5     0  \n",
       "7039                 0              3          103.20        7362.9     0  \n",
       "7040                 0              0           29.60        346.45     0  \n",
       "7041                 0              1           74.40         306.6     1  \n",
       "7042                 0              2          105.65        6844.5     0  \n",
       "\n",
       "[7032 rows x 21 columns]"
      ]
     },
     "execution_count": 11,
     "metadata": {},
     "output_type": "execute_result"
    }
   ],
   "source": [
    "all_nulls = []\n",
    "for x in range(len(original_data_copy)):\n",
    "    if original_data_copy['TotalCharges'][x] == ' ' or None:\n",
    "        print(x)\n",
    "        all_nulls.append(x)\n",
    "        \n",
    "original_data_copy.drop(all_nulls, inplace=True)\n",
    "original_data_copy"
   ]
  },
  {
   "cell_type": "code",
   "execution_count": 12,
   "id": "26ca5b66",
   "metadata": {},
   "outputs": [],
   "source": [
    "original_data_copy['TotalCharges'] = original_data_copy['TotalCharges'].astype('float')"
   ]
  },
  {
   "cell_type": "code",
   "execution_count": 13,
   "id": "c493e9e1",
   "metadata": {},
   "outputs": [
    {
     "data": {
      "text/plain": [
       "['gender',\n",
       " 'SeniorCitizen',\n",
       " 'Partner',\n",
       " 'Dependents',\n",
       " 'tenure',\n",
       " 'PhoneService',\n",
       " 'MultipleLines',\n",
       " 'InternetService',\n",
       " 'OnlineSecurity',\n",
       " 'OnlineBackup',\n",
       " 'DeviceProtection',\n",
       " 'TechSupport',\n",
       " 'StreamingTV',\n",
       " 'StreamingMovies',\n",
       " 'Contract',\n",
       " 'PaperlessBilling',\n",
       " 'PaymentMethod']"
      ]
     },
     "execution_count": 13,
     "metadata": {},
     "output_type": "execute_result"
    }
   ],
   "source": [
    "del_colu = ['customerID', 'Churn', 'MonthlyCharges', 'TotalCharges']\n",
    "graph_colu = colu.copy()\n",
    "for x in del_colu:\n",
    "    graph_colu.remove(x)\n",
    "    \n",
    "graph_colu"
   ]
  },
  {
   "cell_type": "code",
   "execution_count": 14,
   "id": "2d410416",
   "metadata": {},
   "outputs": [
    {
     "data": {
      "text/plain": [
       "\"data_copy_churn_0 = original_data_copy[original_data_copy['Churn']==0]\\ndata_copy_churn_1 = original_data_copy[original_data_copy['Churn']==1]\""
      ]
     },
     "execution_count": 14,
     "metadata": {},
     "output_type": "execute_result"
    }
   ],
   "source": [
    "'''data_copy_churn_0 = original_data_copy[original_data_copy['Churn']==0]\n",
    "data_copy_churn_1 = original_data_copy[original_data_copy['Churn']==1]'''"
   ]
  },
  {
   "cell_type": "code",
   "execution_count": 15,
   "id": "09b58cbb",
   "metadata": {},
   "outputs": [],
   "source": [
    "def count_plot(x):\n",
    "    #original_data_copy[x].value_counts().plot.bar()\n",
    "    print(original_data_copy[x].value_counts(),'\\n')"
   ]
  },
  {
   "cell_type": "code",
   "execution_count": 16,
   "id": "7637d3b0",
   "metadata": {
    "scrolled": true
   },
   "outputs": [
    {
     "name": "stdout",
     "output_type": "stream",
     "text": [
      "gender\n",
      "1    3549\n",
      "0    3483\n",
      "Name: gender, dtype: int64 \n",
      "\n",
      "SeniorCitizen\n",
      "0    5890\n",
      "1    1142\n",
      "Name: SeniorCitizen, dtype: int64 \n",
      "\n",
      "Partner\n",
      "1    3639\n",
      "0    3393\n",
      "Name: Partner, dtype: int64 \n",
      "\n",
      "Dependents\n",
      "0    4933\n",
      "1    2099\n",
      "Name: Dependents, dtype: int64 \n",
      "\n",
      "tenure\n",
      "1     613\n",
      "72    362\n",
      "2     238\n",
      "3     200\n",
      "4     176\n",
      "     ... \n",
      "38     59\n",
      "28     57\n",
      "39     56\n",
      "44     51\n",
      "36     50\n",
      "Name: tenure, Length: 72, dtype: int64 \n",
      "\n",
      "PhoneService\n",
      "1    6352\n",
      "0     680\n",
      "Name: PhoneService, dtype: int64 \n",
      "\n",
      "MultipleLines\n",
      "1    3385\n",
      "2    2967\n",
      "0     680\n",
      "Name: MultipleLines, dtype: int64 \n",
      "\n",
      "InternetService\n",
      "1    3096\n",
      "0    2416\n",
      "2    1520\n",
      "Name: InternetService, dtype: int64 \n",
      "\n",
      "OnlineSecurity\n",
      "0    3497\n",
      "1    2015\n",
      "2    1520\n",
      "Name: OnlineSecurity, dtype: int64 \n",
      "\n",
      "OnlineBackup\n",
      "1    3087\n",
      "0    2425\n",
      "2    1520\n",
      "Name: OnlineBackup, dtype: int64 \n",
      "\n",
      "DeviceProtection\n",
      "0    3094\n",
      "1    2418\n",
      "2    1520\n",
      "Name: DeviceProtection, dtype: int64 \n",
      "\n",
      "TechSupport\n",
      "0    3472\n",
      "1    2040\n",
      "2    1520\n",
      "Name: TechSupport, dtype: int64 \n",
      "\n",
      "StreamingTV\n",
      "0    2809\n",
      "1    2703\n",
      "2    1520\n",
      "Name: StreamingTV, dtype: int64 \n",
      "\n",
      "StreamingMovies\n",
      "0    2781\n",
      "1    2731\n",
      "2    1520\n",
      "Name: StreamingMovies, dtype: int64 \n",
      "\n",
      "Contract\n",
      "0    3875\n",
      "2    1685\n",
      "1    1472\n",
      "Name: Contract, dtype: int64 \n",
      "\n",
      "PaperlessBilling\n",
      "0    4168\n",
      "1    2864\n",
      "Name: PaperlessBilling, dtype: int64 \n",
      "\n",
      "PaymentMethod\n",
      "0    2365\n",
      "1    1604\n",
      "2    1542\n",
      "3    1521\n",
      "Name: PaymentMethod, dtype: int64 \n",
      "\n"
     ]
    }
   ],
   "source": [
    "for x in graph_colu:\n",
    "    print(x)\n",
    "    count_plot(x)\n",
    "    #print('---------------------------------------------------------------------\\n')"
   ]
  },
  {
   "cell_type": "markdown",
   "id": "769ab805",
   "metadata": {},
   "source": [
    "###### Features with unbalanced values\n",
    "\n",
    "SeniorCitizen\n",
    "\n",
    "Dependents\n",
    "\n",
    "PhoneService\n",
    "\n",
    "MultipleLines\n",
    "\n",
    "InternetService\n",
    "\n",
    "OnlineBackup\n",
    "\n",
    "DeviceProtection\n",
    "\n",
    "TechSupport\n",
    "\n",
    "Contract\n",
    "\n",
    "PaperlessBilling\n",
    "\n"
   ]
  },
  {
   "cell_type": "markdown",
   "id": "11846aa3",
   "metadata": {},
   "source": [
    "# Training model on the original data"
   ]
  },
  {
   "cell_type": "code",
   "execution_count": 17,
   "id": "253dda61",
   "metadata": {},
   "outputs": [],
   "source": [
    "xtrain, xtest, ytrain, ytest = train_test_split(original_data_copy[colu[1:len(colu)-1]], original_data_copy['Churn'], test_size=0.25)"
   ]
  },
  {
   "cell_type": "code",
   "execution_count": 18,
   "id": "e335fa86",
   "metadata": {},
   "outputs": [
    {
     "data": {
      "text/html": [
       "<div>\n",
       "<style scoped>\n",
       "    .dataframe tbody tr th:only-of-type {\n",
       "        vertical-align: middle;\n",
       "    }\n",
       "\n",
       "    .dataframe tbody tr th {\n",
       "        vertical-align: top;\n",
       "    }\n",
       "\n",
       "    .dataframe thead th {\n",
       "        text-align: right;\n",
       "    }\n",
       "</style>\n",
       "<table border=\"1\" class=\"dataframe\">\n",
       "  <thead>\n",
       "    <tr style=\"text-align: right;\">\n",
       "      <th></th>\n",
       "      <th>gender</th>\n",
       "      <th>SeniorCitizen</th>\n",
       "      <th>Partner</th>\n",
       "      <th>Dependents</th>\n",
       "      <th>tenure</th>\n",
       "      <th>PhoneService</th>\n",
       "      <th>MultipleLines</th>\n",
       "      <th>InternetService</th>\n",
       "      <th>OnlineSecurity</th>\n",
       "      <th>OnlineBackup</th>\n",
       "      <th>DeviceProtection</th>\n",
       "      <th>TechSupport</th>\n",
       "      <th>StreamingTV</th>\n",
       "      <th>StreamingMovies</th>\n",
       "      <th>Contract</th>\n",
       "      <th>PaperlessBilling</th>\n",
       "      <th>PaymentMethod</th>\n",
       "      <th>MonthlyCharges</th>\n",
       "      <th>TotalCharges</th>\n",
       "    </tr>\n",
       "  </thead>\n",
       "  <tbody>\n",
       "    <tr>\n",
       "      <th>3095</th>\n",
       "      <td>1</td>\n",
       "      <td>0</td>\n",
       "      <td>1</td>\n",
       "      <td>0</td>\n",
       "      <td>11</td>\n",
       "      <td>1</td>\n",
       "      <td>1</td>\n",
       "      <td>1</td>\n",
       "      <td>0</td>\n",
       "      <td>1</td>\n",
       "      <td>1</td>\n",
       "      <td>0</td>\n",
       "      <td>0</td>\n",
       "      <td>1</td>\n",
       "      <td>0</td>\n",
       "      <td>1</td>\n",
       "      <td>0</td>\n",
       "      <td>84.80</td>\n",
       "      <td>888.75</td>\n",
       "    </tr>\n",
       "    <tr>\n",
       "      <th>6767</th>\n",
       "      <td>1</td>\n",
       "      <td>0</td>\n",
       "      <td>0</td>\n",
       "      <td>0</td>\n",
       "      <td>57</td>\n",
       "      <td>1</td>\n",
       "      <td>1</td>\n",
       "      <td>0</td>\n",
       "      <td>1</td>\n",
       "      <td>1</td>\n",
       "      <td>0</td>\n",
       "      <td>1</td>\n",
       "      <td>0</td>\n",
       "      <td>0</td>\n",
       "      <td>0</td>\n",
       "      <td>1</td>\n",
       "      <td>0</td>\n",
       "      <td>55.70</td>\n",
       "      <td>3171.60</td>\n",
       "    </tr>\n",
       "    <tr>\n",
       "      <th>3121</th>\n",
       "      <td>0</td>\n",
       "      <td>1</td>\n",
       "      <td>1</td>\n",
       "      <td>0</td>\n",
       "      <td>16</td>\n",
       "      <td>1</td>\n",
       "      <td>1</td>\n",
       "      <td>0</td>\n",
       "      <td>0</td>\n",
       "      <td>1</td>\n",
       "      <td>0</td>\n",
       "      <td>1</td>\n",
       "      <td>1</td>\n",
       "      <td>0</td>\n",
       "      <td>0</td>\n",
       "      <td>1</td>\n",
       "      <td>0</td>\n",
       "      <td>59.40</td>\n",
       "      <td>1023.90</td>\n",
       "    </tr>\n",
       "    <tr>\n",
       "      <th>393</th>\n",
       "      <td>0</td>\n",
       "      <td>0</td>\n",
       "      <td>1</td>\n",
       "      <td>0</td>\n",
       "      <td>19</td>\n",
       "      <td>1</td>\n",
       "      <td>1</td>\n",
       "      <td>2</td>\n",
       "      <td>2</td>\n",
       "      <td>2</td>\n",
       "      <td>2</td>\n",
       "      <td>2</td>\n",
       "      <td>2</td>\n",
       "      <td>2</td>\n",
       "      <td>0</td>\n",
       "      <td>1</td>\n",
       "      <td>1</td>\n",
       "      <td>19.90</td>\n",
       "      <td>367.55</td>\n",
       "    </tr>\n",
       "    <tr>\n",
       "      <th>3019</th>\n",
       "      <td>0</td>\n",
       "      <td>0</td>\n",
       "      <td>0</td>\n",
       "      <td>1</td>\n",
       "      <td>22</td>\n",
       "      <td>1</td>\n",
       "      <td>1</td>\n",
       "      <td>0</td>\n",
       "      <td>0</td>\n",
       "      <td>0</td>\n",
       "      <td>0</td>\n",
       "      <td>1</td>\n",
       "      <td>0</td>\n",
       "      <td>0</td>\n",
       "      <td>0</td>\n",
       "      <td>1</td>\n",
       "      <td>0</td>\n",
       "      <td>55.15</td>\n",
       "      <td>1206.05</td>\n",
       "    </tr>\n",
       "    <tr>\n",
       "      <th>...</th>\n",
       "      <td>...</td>\n",
       "      <td>...</td>\n",
       "      <td>...</td>\n",
       "      <td>...</td>\n",
       "      <td>...</td>\n",
       "      <td>...</td>\n",
       "      <td>...</td>\n",
       "      <td>...</td>\n",
       "      <td>...</td>\n",
       "      <td>...</td>\n",
       "      <td>...</td>\n",
       "      <td>...</td>\n",
       "      <td>...</td>\n",
       "      <td>...</td>\n",
       "      <td>...</td>\n",
       "      <td>...</td>\n",
       "      <td>...</td>\n",
       "      <td>...</td>\n",
       "      <td>...</td>\n",
       "    </tr>\n",
       "    <tr>\n",
       "      <th>3185</th>\n",
       "      <td>0</td>\n",
       "      <td>1</td>\n",
       "      <td>1</td>\n",
       "      <td>0</td>\n",
       "      <td>1</td>\n",
       "      <td>0</td>\n",
       "      <td>0</td>\n",
       "      <td>0</td>\n",
       "      <td>0</td>\n",
       "      <td>1</td>\n",
       "      <td>0</td>\n",
       "      <td>0</td>\n",
       "      <td>0</td>\n",
       "      <td>0</td>\n",
       "      <td>0</td>\n",
       "      <td>1</td>\n",
       "      <td>1</td>\n",
       "      <td>25.05</td>\n",
       "      <td>25.05</td>\n",
       "    </tr>\n",
       "    <tr>\n",
       "      <th>4249</th>\n",
       "      <td>0</td>\n",
       "      <td>0</td>\n",
       "      <td>0</td>\n",
       "      <td>1</td>\n",
       "      <td>10</td>\n",
       "      <td>1</td>\n",
       "      <td>1</td>\n",
       "      <td>0</td>\n",
       "      <td>0</td>\n",
       "      <td>0</td>\n",
       "      <td>1</td>\n",
       "      <td>0</td>\n",
       "      <td>0</td>\n",
       "      <td>1</td>\n",
       "      <td>1</td>\n",
       "      <td>0</td>\n",
       "      <td>1</td>\n",
       "      <td>65.90</td>\n",
       "      <td>660.05</td>\n",
       "    </tr>\n",
       "    <tr>\n",
       "      <th>1852</th>\n",
       "      <td>1</td>\n",
       "      <td>0</td>\n",
       "      <td>1</td>\n",
       "      <td>0</td>\n",
       "      <td>1</td>\n",
       "      <td>1</td>\n",
       "      <td>1</td>\n",
       "      <td>0</td>\n",
       "      <td>0</td>\n",
       "      <td>1</td>\n",
       "      <td>0</td>\n",
       "      <td>0</td>\n",
       "      <td>0</td>\n",
       "      <td>0</td>\n",
       "      <td>0</td>\n",
       "      <td>1</td>\n",
       "      <td>3</td>\n",
       "      <td>46.20</td>\n",
       "      <td>46.20</td>\n",
       "    </tr>\n",
       "    <tr>\n",
       "      <th>4863</th>\n",
       "      <td>1</td>\n",
       "      <td>0</td>\n",
       "      <td>0</td>\n",
       "      <td>1</td>\n",
       "      <td>57</td>\n",
       "      <td>1</td>\n",
       "      <td>1</td>\n",
       "      <td>2</td>\n",
       "      <td>2</td>\n",
       "      <td>2</td>\n",
       "      <td>2</td>\n",
       "      <td>2</td>\n",
       "      <td>2</td>\n",
       "      <td>2</td>\n",
       "      <td>2</td>\n",
       "      <td>1</td>\n",
       "      <td>1</td>\n",
       "      <td>20.75</td>\n",
       "      <td>1123.15</td>\n",
       "    </tr>\n",
       "    <tr>\n",
       "      <th>1429</th>\n",
       "      <td>1</td>\n",
       "      <td>0</td>\n",
       "      <td>0</td>\n",
       "      <td>1</td>\n",
       "      <td>45</td>\n",
       "      <td>1</td>\n",
       "      <td>2</td>\n",
       "      <td>2</td>\n",
       "      <td>2</td>\n",
       "      <td>2</td>\n",
       "      <td>2</td>\n",
       "      <td>2</td>\n",
       "      <td>2</td>\n",
       "      <td>2</td>\n",
       "      <td>2</td>\n",
       "      <td>1</td>\n",
       "      <td>1</td>\n",
       "      <td>24.45</td>\n",
       "      <td>1088.25</td>\n",
       "    </tr>\n",
       "  </tbody>\n",
       "</table>\n",
       "<p>5274 rows × 19 columns</p>\n",
       "</div>"
      ],
      "text/plain": [
       "      gender  SeniorCitizen  Partner  Dependents  tenure  PhoneService  \\\n",
       "3095       1              0        1           0      11             1   \n",
       "6767       1              0        0           0      57             1   \n",
       "3121       0              1        1           0      16             1   \n",
       "393        0              0        1           0      19             1   \n",
       "3019       0              0        0           1      22             1   \n",
       "...      ...            ...      ...         ...     ...           ...   \n",
       "3185       0              1        1           0       1             0   \n",
       "4249       0              0        0           1      10             1   \n",
       "1852       1              0        1           0       1             1   \n",
       "4863       1              0        0           1      57             1   \n",
       "1429       1              0        0           1      45             1   \n",
       "\n",
       "      MultipleLines  InternetService  OnlineSecurity  OnlineBackup  \\\n",
       "3095              1                1               0             1   \n",
       "6767              1                0               1             1   \n",
       "3121              1                0               0             1   \n",
       "393               1                2               2             2   \n",
       "3019              1                0               0             0   \n",
       "...             ...              ...             ...           ...   \n",
       "3185              0                0               0             1   \n",
       "4249              1                0               0             0   \n",
       "1852              1                0               0             1   \n",
       "4863              1                2               2             2   \n",
       "1429              2                2               2             2   \n",
       "\n",
       "      DeviceProtection  TechSupport  StreamingTV  StreamingMovies  Contract  \\\n",
       "3095                 1            0            0                1         0   \n",
       "6767                 0            1            0                0         0   \n",
       "3121                 0            1            1                0         0   \n",
       "393                  2            2            2                2         0   \n",
       "3019                 0            1            0                0         0   \n",
       "...                ...          ...          ...              ...       ...   \n",
       "3185                 0            0            0                0         0   \n",
       "4249                 1            0            0                1         1   \n",
       "1852                 0            0            0                0         0   \n",
       "4863                 2            2            2                2         2   \n",
       "1429                 2            2            2                2         2   \n",
       "\n",
       "      PaperlessBilling  PaymentMethod  MonthlyCharges  TotalCharges  \n",
       "3095                 1              0           84.80        888.75  \n",
       "6767                 1              0           55.70       3171.60  \n",
       "3121                 1              0           59.40       1023.90  \n",
       "393                  1              1           19.90        367.55  \n",
       "3019                 1              0           55.15       1206.05  \n",
       "...                ...            ...             ...           ...  \n",
       "3185                 1              1           25.05         25.05  \n",
       "4249                 0              1           65.90        660.05  \n",
       "1852                 1              3           46.20         46.20  \n",
       "4863                 1              1           20.75       1123.15  \n",
       "1429                 1              1           24.45       1088.25  \n",
       "\n",
       "[5274 rows x 19 columns]"
      ]
     },
     "execution_count": 18,
     "metadata": {},
     "output_type": "execute_result"
    }
   ],
   "source": [
    "xtrain"
   ]
  },
  {
   "cell_type": "code",
   "execution_count": 19,
   "id": "09461fe8",
   "metadata": {
    "scrolled": true
   },
   "outputs": [
    {
     "name": "stdout",
     "output_type": "stream",
     "text": [
      "5274 \n",
      "----------\n",
      "\n",
      "gender\n",
      "1    2660\n",
      "0    2614\n",
      "Name: gender, dtype: int64 \n",
      "\n",
      "SeniorCitizen\n",
      "0    4411\n",
      "1     863\n",
      "Name: SeniorCitizen, dtype: int64 \n",
      "\n",
      "Partner\n",
      "1    2692\n",
      "0    2582\n",
      "Name: Partner, dtype: int64 \n",
      "\n",
      "Dependents\n",
      "0    3691\n",
      "1    1583\n",
      "Name: Dependents, dtype: int64 \n",
      "\n",
      "tenure\n",
      "1     463\n",
      "72    282\n",
      "2     175\n",
      "3     156\n",
      "4     134\n",
      "     ... \n",
      "59     43\n",
      "28     43\n",
      "36     39\n",
      "39     39\n",
      "44     34\n",
      "Name: tenure, Length: 72, dtype: int64 \n",
      "\n",
      "PhoneService\n",
      "1    4775\n",
      "0     499\n",
      "Name: PhoneService, dtype: int64 \n",
      "\n",
      "MultipleLines\n",
      "1    2533\n",
      "2    2242\n",
      "0     499\n",
      "Name: MultipleLines, dtype: int64 \n",
      "\n",
      "InternetService\n",
      "1    2332\n",
      "0    1815\n",
      "2    1127\n",
      "Name: InternetService, dtype: int64 \n",
      "\n",
      "OnlineSecurity\n",
      "0    2634\n",
      "1    1513\n",
      "2    1127\n",
      "Name: OnlineSecurity, dtype: int64 \n",
      "\n",
      "OnlineBackup\n",
      "1    2325\n",
      "0    1822\n",
      "2    1127\n",
      "Name: OnlineBackup, dtype: int64 \n",
      "\n",
      "DeviceProtection\n",
      "0    2332\n",
      "1    1815\n",
      "2    1127\n",
      "Name: DeviceProtection, dtype: int64 \n",
      "\n",
      "TechSupport\n",
      "0    2606\n",
      "1    1541\n",
      "2    1127\n",
      "Name: TechSupport, dtype: int64 \n",
      "\n",
      "StreamingTV\n",
      "0    2136\n",
      "1    2011\n",
      "2    1127\n",
      "Name: StreamingTV, dtype: int64 \n",
      "\n",
      "StreamingMovies\n",
      "0    2090\n",
      "1    2057\n",
      "2    1127\n",
      "Name: StreamingMovies, dtype: int64 \n",
      "\n",
      "Contract\n",
      "0    2906\n",
      "2    1250\n",
      "1    1118\n",
      "Name: Contract, dtype: int64 \n",
      "\n",
      "PaperlessBilling\n",
      "0    3129\n",
      "1    2145\n",
      "Name: PaperlessBilling, dtype: int64 \n",
      "\n",
      "PaymentMethod\n",
      "0    1770\n",
      "1    1217\n",
      "2    1150\n",
      "3    1137\n",
      "Name: PaymentMethod, dtype: int64 \n",
      "\n"
     ]
    }
   ],
   "source": [
    "print(len(xtrain),'\\n----------\\n')\n",
    "for x in graph_colu:\n",
    "    print(x)\n",
    "    print(xtrain[x].value_counts(),'\\n')"
   ]
  },
  {
   "cell_type": "code",
   "execution_count": 20,
   "id": "a90b89ae",
   "metadata": {},
   "outputs": [
    {
     "data": {
      "text/plain": [
       "3095    0\n",
       "6767    0\n",
       "3121    1\n",
       "393     0\n",
       "3019    1\n",
       "       ..\n",
       "3185    1\n",
       "4249    0\n",
       "1852    1\n",
       "4863    0\n",
       "1429    0\n",
       "Name: Churn, Length: 5274, dtype: int64"
      ]
     },
     "execution_count": 20,
     "metadata": {},
     "output_type": "execute_result"
    }
   ],
   "source": [
    "ytrain"
   ]
  },
  {
   "cell_type": "markdown",
   "id": "64ff4877",
   "metadata": {},
   "source": [
    "#### Naive bayes"
   ]
  },
  {
   "cell_type": "code",
   "execution_count": 21,
   "id": "7f885215",
   "metadata": {},
   "outputs": [],
   "source": [
    "naive = GaussianNB()\n",
    "model = naive.fit(xtrain, ytrain)"
   ]
  },
  {
   "cell_type": "code",
   "execution_count": 22,
   "id": "7f603c4b",
   "metadata": {},
   "outputs": [],
   "source": [
    "#naive_bayes_original_data_pred = naive.predict(xtest.iloc[0].to_numpy().reshape(1,-1))\n",
    "naive_bayes_original_data_pred = naive.predict(xtest)"
   ]
  },
  {
   "cell_type": "code",
   "execution_count": 23,
   "id": "6511b275",
   "metadata": {},
   "outputs": [
    {
     "data": {
      "text/plain": [
       "array([1, 0, 1, ..., 0, 1, 1], dtype=int64)"
      ]
     },
     "execution_count": 23,
     "metadata": {},
     "output_type": "execute_result"
    }
   ],
   "source": [
    "naive_bayes_original_data_pred"
   ]
  },
  {
   "cell_type": "code",
   "execution_count": 24,
   "id": "4dcd8864",
   "metadata": {},
   "outputs": [
    {
     "data": {
      "text/plain": [
       "0.7155858930602957"
      ]
     },
     "execution_count": 24,
     "metadata": {},
     "output_type": "execute_result"
    }
   ],
   "source": [
    "naive_bayes_original_data_accuracy = accuracy_score(ytest,naive_bayes_original_data_pred)\n",
    "naive_bayes_original_data_accuracy"
   ]
  },
  {
   "cell_type": "code",
   "execution_count": 25,
   "id": "f51f8e73",
   "metadata": {},
   "outputs": [
    {
     "data": {
      "text/plain": [
       "array([[0.68199532, 0.31800468],\n",
       "       [0.19368421, 0.80631579]])"
      ]
     },
     "execution_count": 25,
     "metadata": {},
     "output_type": "execute_result"
    }
   ],
   "source": [
    "naive_bayes_original_data_confusion_matrix = confusion_matrix(ytest, naive_bayes_original_data_pred)\n",
    "naive_bayes_original_data_confusion_matrix.astype('float')/ naive_bayes_original_data_confusion_matrix.sum(axis=1)[:, np.newaxis]"
   ]
  },
  {
   "cell_type": "code",
   "execution_count": 26,
   "id": "48b01e7e",
   "metadata": {
    "scrolled": true
   },
   "outputs": [
    {
     "name": "stdout",
     "output_type": "stream",
     "text": [
      "0.48419721871049304\n"
     ]
    }
   ],
   "source": [
    "naive_bayes_original_data_precision = precision_score(ytest, naive_bayes_original_data_pred)\n",
    "print(naive_bayes_original_data_precision)"
   ]
  },
  {
   "cell_type": "code",
   "execution_count": 27,
   "id": "79dd4ae0",
   "metadata": {},
   "outputs": [
    {
     "name": "stdout",
     "output_type": "stream",
     "text": [
      "0.8063157894736842\n"
     ]
    }
   ],
   "source": [
    "naive_bayes_original_data_recall = recall_score(ytest, naive_bayes_original_data_pred)\n",
    "print(naive_bayes_original_data_recall)"
   ]
  },
  {
   "cell_type": "code",
   "execution_count": 28,
   "id": "15057c36",
   "metadata": {},
   "outputs": [
    {
     "name": "stdout",
     "output_type": "stream",
     "text": [
      "0.6050552922590837\n"
     ]
    }
   ],
   "source": [
    "naive_bayes_original_data_f1 = f1_score(ytest, naive_bayes_original_data_pred)\n",
    "print(naive_bayes_original_data_f1)"
   ]
  },
  {
   "cell_type": "markdown",
   "id": "91b2f75d",
   "metadata": {},
   "source": [
    "#### Logistic Regression"
   ]
  },
  {
   "cell_type": "code",
   "execution_count": 29,
   "id": "187df874",
   "metadata": {},
   "outputs": [
    {
     "data": {
      "text/plain": [
       "LogisticRegression(max_iter=1000000)"
      ]
     },
     "execution_count": 29,
     "metadata": {},
     "output_type": "execute_result"
    }
   ],
   "source": [
    "log = LogisticRegression(max_iter=1000000)\n",
    "log.fit(xtrain,ytrain)"
   ]
  },
  {
   "cell_type": "code",
   "execution_count": 30,
   "id": "ded658b8",
   "metadata": {},
   "outputs": [],
   "source": [
    "log_reg_original_data_pred = log.predict(xtest)"
   ]
  },
  {
   "cell_type": "code",
   "execution_count": 31,
   "id": "9709018f",
   "metadata": {},
   "outputs": [
    {
     "data": {
      "text/plain": [
       "array([1, 0, 0, ..., 0, 0, 1], dtype=int64)"
      ]
     },
     "execution_count": 31,
     "metadata": {},
     "output_type": "execute_result"
    }
   ],
   "source": [
    "log_reg_original_data_pred"
   ]
  },
  {
   "cell_type": "code",
   "execution_count": 32,
   "id": "2534bb5f",
   "metadata": {},
   "outputs": [
    {
     "data": {
      "text/plain": [
       "0.8128555176336746"
      ]
     },
     "execution_count": 32,
     "metadata": {},
     "output_type": "execute_result"
    }
   ],
   "source": [
    "log_reg_original_data_accuracy = accuracy_score(ytest, log_reg_original_data_pred)\n",
    "log_reg_original_data_accuracy"
   ]
  },
  {
   "cell_type": "code",
   "execution_count": 33,
   "id": "5d36c3ad",
   "metadata": {},
   "outputs": [
    {
     "data": {
      "text/plain": [
       "array([[0.90335152, 0.09664848],\n",
       "       [0.43157895, 0.56842105]])"
      ]
     },
     "execution_count": 33,
     "metadata": {},
     "output_type": "execute_result"
    }
   ],
   "source": [
    "log_reg_original_data_confusion_matrix = confusion_matrix(ytest, log_reg_original_data_pred)\n",
    "log_reg_original_data_confusion_matrix.astype('float')/ log_reg_original_data_confusion_matrix.sum(axis=1)[:, np.newaxis]"
   ]
  },
  {
   "cell_type": "code",
   "execution_count": 34,
   "id": "df5586b0",
   "metadata": {
    "scrolled": true
   },
   "outputs": [
    {
     "name": "stdout",
     "output_type": "stream",
     "text": [
      "0.6852791878172588\n"
     ]
    }
   ],
   "source": [
    "log_reg_original_data_precision = precision_score(ytest, log_reg_original_data_pred)\n",
    "print(log_reg_original_data_precision)"
   ]
  },
  {
   "cell_type": "code",
   "execution_count": 35,
   "id": "ebfcb5ff",
   "metadata": {},
   "outputs": [
    {
     "name": "stdout",
     "output_type": "stream",
     "text": [
      "0.5684210526315789\n"
     ]
    }
   ],
   "source": [
    "log_reg_original_data_recall = recall_score(ytest, log_reg_original_data_pred)\n",
    "print(log_reg_original_data_recall)"
   ]
  },
  {
   "cell_type": "code",
   "execution_count": 36,
   "id": "ad6cf9fc",
   "metadata": {},
   "outputs": [
    {
     "name": "stdout",
     "output_type": "stream",
     "text": [
      "0.621403912543153\n"
     ]
    }
   ],
   "source": [
    "log_reg_original_data_f1 = f1_score(ytest, log_reg_original_data_pred)\n",
    "print(log_reg_original_data_f1)"
   ]
  },
  {
   "cell_type": "markdown",
   "id": "1fc46375",
   "metadata": {},
   "source": [
    "#### Random Forests"
   ]
  },
  {
   "cell_type": "code",
   "execution_count": 37,
   "id": "5ceff641",
   "metadata": {},
   "outputs": [
    {
     "data": {
      "text/plain": [
       "RandomForestClassifier()"
      ]
     },
     "execution_count": 37,
     "metadata": {},
     "output_type": "execute_result"
    }
   ],
   "source": [
    "ran_for = RandomForestClassifier()\n",
    "ran_for.fit(xtrain, ytrain)"
   ]
  },
  {
   "cell_type": "code",
   "execution_count": 38,
   "id": "7482ce9b",
   "metadata": {},
   "outputs": [
    {
     "data": {
      "text/plain": [
       "array([1, 1, 0, ..., 0, 1, 0], dtype=int64)"
      ]
     },
     "execution_count": 38,
     "metadata": {},
     "output_type": "execute_result"
    }
   ],
   "source": [
    "ran_for_original_data_pred = ran_for.predict(xtest)\n",
    "ran_for_original_data_pred"
   ]
  },
  {
   "cell_type": "code",
   "execution_count": 39,
   "id": "792962e4",
   "metadata": {},
   "outputs": [
    {
     "data": {
      "text/plain": [
       "0.7889647326507395"
      ]
     },
     "execution_count": 39,
     "metadata": {},
     "output_type": "execute_result"
    }
   ],
   "source": [
    "ran_for_original_data_accuracy = accuracy_score(ytest, ran_for_original_data_pred)\n",
    "ran_for_original_data_accuracy"
   ]
  },
  {
   "cell_type": "code",
   "execution_count": 40,
   "id": "88218ec3",
   "metadata": {},
   "outputs": [
    {
     "data": {
      "text/plain": [
       "array([[0.90101325, 0.09898675],\n",
       "       [0.51368421, 0.48631579]])"
      ]
     },
     "execution_count": 40,
     "metadata": {},
     "output_type": "execute_result"
    }
   ],
   "source": [
    "ran_for_original_data_confusion_matrix = confusion_matrix(ytest, ran_for_original_data_pred)\n",
    "ran_for_original_data_confusion_matrix.astype('float')/ ran_for_original_data_confusion_matrix.sum(axis=1)[:, np.newaxis]"
   ]
  },
  {
   "cell_type": "code",
   "execution_count": 41,
   "id": "bede8c89",
   "metadata": {
    "scrolled": true
   },
   "outputs": [
    {
     "name": "stdout",
     "output_type": "stream",
     "text": [
      "0.6452513966480447\n"
     ]
    }
   ],
   "source": [
    "ran_for_original_data_precision = precision_score(ytest, ran_for_original_data_pred)\n",
    "print(ran_for_original_data_precision)"
   ]
  },
  {
   "cell_type": "code",
   "execution_count": 42,
   "id": "89da37dc",
   "metadata": {},
   "outputs": [
    {
     "name": "stdout",
     "output_type": "stream",
     "text": [
      "0.4863157894736842\n"
     ]
    }
   ],
   "source": [
    "ran_for_original_data_recall = recall_score(ytest, ran_for_original_data_pred)\n",
    "print(ran_for_original_data_recall)"
   ]
  },
  {
   "cell_type": "code",
   "execution_count": 43,
   "id": "023bce91",
   "metadata": {},
   "outputs": [
    {
     "name": "stdout",
     "output_type": "stream",
     "text": [
      "0.5546218487394957\n"
     ]
    }
   ],
   "source": [
    "ran_for_original_data_f1 = f1_score(ytest, ran_for_original_data_pred)\n",
    "print(ran_for_original_data_f1)"
   ]
  },
  {
   "cell_type": "code",
   "execution_count": null,
   "id": "6a3a8677",
   "metadata": {},
   "outputs": [],
   "source": []
  },
  {
   "cell_type": "code",
   "execution_count": 143,
   "id": "1f9624a6",
   "metadata": {},
   "outputs": [],
   "source": [
    "n_estimators = [5,20,50,100, 150, 200, 250, 300] # number of trees in the random forest\n",
    "max_features = ['auto', 'sqrt'] # number of features in consideration at every split\n",
    "max_depth = [int(x) for x in np.linspace(10, 120, num = 12)] # maximum number of levels allowed in each decision tree\n",
    "min_samples_split = [2, 6, 10, 12, 14] # minimum sample number to split a node\n",
    "min_samples_leaf = [1, 3, 4, 5, 6] # minimum sample number that can be stored in a leaf node\n",
    "bootstrap = [True, False] # method used to sample data points\n",
    "\n",
    "random_grid = {'n_estimators': n_estimators,\n",
    "'max_features': max_features,\n",
    "'max_depth': max_depth,\n",
    "'min_samples_split': min_samples_split,\n",
    "'min_samples_leaf': min_samples_leaf,\n",
    "'bootstrap': bootstrap}"
   ]
  },
  {
   "cell_type": "code",
   "execution_count": 144,
   "id": "a10b2832",
   "metadata": {},
   "outputs": [],
   "source": [
    "rf_random = RandomizedSearchCV(estimator = ran_for,param_distributions = random_grid,n_iter = 100, cv = 5, verbose=2, random_state=35, n_jobs = -1)"
   ]
  },
  {
   "cell_type": "code",
   "execution_count": 145,
   "id": "a577c8d3",
   "metadata": {},
   "outputs": [
    {
     "name": "stdout",
     "output_type": "stream",
     "text": [
      "Fitting 5 folds for each of 100 candidates, totalling 500 fits\n"
     ]
    },
    {
     "data": {
      "text/plain": [
       "RandomizedSearchCV(cv=5, estimator=RandomForestClassifier(), n_iter=100,\n",
       "                   n_jobs=-1,\n",
       "                   param_distributions={'bootstrap': [True, False],\n",
       "                                        'max_depth': [10, 20, 30, 40, 50, 60,\n",
       "                                                      70, 80, 90, 100, 110,\n",
       "                                                      120],\n",
       "                                        'max_features': ['auto', 'sqrt'],\n",
       "                                        'min_samples_leaf': [1, 3, 4, 5, 6],\n",
       "                                        'min_samples_split': [2, 6, 10, 12, 14],\n",
       "                                        'n_estimators': [5, 20, 50, 100, 150,\n",
       "                                                         200, 250, 300]},\n",
       "                   random_state=35, verbose=2)"
      ]
     },
     "execution_count": 145,
     "metadata": {},
     "output_type": "execute_result"
    }
   ],
   "source": [
    "rf_random.fit(xtrain, ytrain)"
   ]
  },
  {
   "cell_type": "code",
   "execution_count": 147,
   "id": "9b2ab984",
   "metadata": {},
   "outputs": [
    {
     "data": {
      "text/plain": [
       "{'n_estimators': 300,\n",
       " 'min_samples_split': 14,\n",
       " 'min_samples_leaf': 4,\n",
       " 'max_features': 'sqrt',\n",
       " 'max_depth': 70,\n",
       " 'bootstrap': True}"
      ]
     },
     "execution_count": 147,
     "metadata": {},
     "output_type": "execute_result"
    }
   ],
   "source": [
    "rf_random.best_params_"
   ]
  },
  {
   "cell_type": "code",
   "execution_count": 148,
   "id": "241ae4b3",
   "metadata": {},
   "outputs": [
    {
     "name": "stdout",
     "output_type": "stream",
     "text": [
      "accuracy:  0.920135527589545\n",
      "precision:  0.9565217391304348\n",
      "recall:  0.8791423001949318\n",
      "f1:  0.9162011173184358\n"
     ]
    }
   ],
   "source": [
    "ran_for_tuned = RandomForestClassifier(n_estimators = 300, min_samples_split=14, min_samples_leaf=4, \n",
    "                                       max_features='sqrt', max_depth=70, bootstrap=True)\n",
    "ran_for_tuned.fit(xtrain_smot, ytrain_smot)\n",
    "\n",
    "ran_for_tuned_original_data_pred = ran_for.predict(xtest_smot)\n",
    "\n",
    "ran_for_tuned_original_data_accuracy = accuracy_score(ytest_smot, ran_for_tuned_original_data_pred)\n",
    "print('accuracy: ', ran_for_tuned_original_data_accuracy)\n",
    "\n",
    "ran_for_tuned_original_data_precision = precision_score(ytest_smot, ran_for_tuned_original_data_pred)\n",
    "print('precision: ', ran_for_tuned_original_data_precision)\n",
    "\n",
    "ran_for_tuned_original_data_recall = recall_score(ytest_smot, ran_for_tuned_original_data_pred)\n",
    "print('recall: ', ran_for_tuned_smot_recall)\n",
    "\n",
    "ran_for_tuned_original_data_f1 = f1_score(ytest_smot, ran_for_tuned_original_data_pred)\n",
    "print('f1: ', ran_for_tuned_original_data_f1)\n"
   ]
  },
  {
   "cell_type": "code",
   "execution_count": null,
   "id": "8acbc35a",
   "metadata": {},
   "outputs": [],
   "source": []
  },
  {
   "cell_type": "markdown",
   "id": "541893b0",
   "metadata": {},
   "source": [
    "#### XGBoost"
   ]
  },
  {
   "cell_type": "code",
   "execution_count": 44,
   "id": "0d456efc",
   "metadata": {
    "scrolled": true
   },
   "outputs": [
    {
     "data": {
      "text/plain": [
       "XGBRegressor(base_score=0.5, booster='gbtree', colsample_bylevel=1,\n",
       "             colsample_bynode=1, colsample_bytree=1, enable_categorical=False,\n",
       "             gamma=0, gpu_id=-1, importance_type=None,\n",
       "             interaction_constraints='', learning_rate=0.300000012,\n",
       "             max_delta_step=0, max_depth=6, min_child_weight=1, missing=nan,\n",
       "             monotone_constraints='()', n_estimators=100, n_jobs=12,\n",
       "             num_parallel_tree=1, predictor='auto', random_state=0, reg_alpha=0,\n",
       "             reg_lambda=1, scale_pos_weight=1, subsample=1, tree_method='exact',\n",
       "             validate_parameters=1, verbosity=None)"
      ]
     },
     "execution_count": 44,
     "metadata": {},
     "output_type": "execute_result"
    }
   ],
   "source": [
    "xg_boost = XGBRegressor()\n",
    "xg_boost.fit(xtrain, ytrain)"
   ]
  },
  {
   "cell_type": "code",
   "execution_count": 45,
   "id": "d6c94ead",
   "metadata": {},
   "outputs": [],
   "source": [
    "xgb_original_data_pred = xg_boost.predict(xtest)\n",
    "xgb_original_data_pred = np.round(xgb_original_data_pred)"
   ]
  },
  {
   "cell_type": "code",
   "execution_count": 48,
   "id": "0ae15031",
   "metadata": {},
   "outputs": [
    {
     "data": {
      "text/plain": [
       "0.7821387940841866"
      ]
     },
     "execution_count": 48,
     "metadata": {},
     "output_type": "execute_result"
    }
   ],
   "source": [
    "xgb_original_data_accuracy = accuracy_score(ytest, xgb_original_data_pred)\n",
    "xgb_original_data_accuracy"
   ]
  },
  {
   "cell_type": "code",
   "execution_count": 55,
   "id": "f66489a6",
   "metadata": {},
   "outputs": [
    {
     "data": {
      "text/plain": [
       "array([[0.87685113, 0.12314887],\n",
       "       [0.47368421, 0.52631579]])"
      ]
     },
     "execution_count": 55,
     "metadata": {},
     "output_type": "execute_result"
    }
   ],
   "source": [
    "xgb_original_data_confusion_matrix = confusion_matrix(ytest, xgb_original_data_pred)\n",
    "xgb_original_data_confusion_matrix.astype('float')/ xgb_original_data_confusion_matrix.sum(axis=1)[:,np.newaxis]"
   ]
  },
  {
   "cell_type": "code",
   "execution_count": 56,
   "id": "41126794",
   "metadata": {
    "scrolled": true
   },
   "outputs": [
    {
     "name": "stdout",
     "output_type": "stream",
     "text": [
      "0.6127450980392157\n"
     ]
    }
   ],
   "source": [
    "xgb_original_data_precision = precision_score(ytest, xgb_original_data_pred)\n",
    "print(xgb_original_data_precision)"
   ]
  },
  {
   "cell_type": "code",
   "execution_count": 57,
   "id": "f21a4c98",
   "metadata": {},
   "outputs": [
    {
     "name": "stdout",
     "output_type": "stream",
     "text": [
      "0.5263157894736842\n"
     ]
    }
   ],
   "source": [
    "xgb_original_data_recall = recall_score(ytest, xgb_original_data_pred)\n",
    "print(xgb_original_data_recall)"
   ]
  },
  {
   "cell_type": "code",
   "execution_count": 58,
   "id": "efcaac66",
   "metadata": {},
   "outputs": [
    {
     "name": "stdout",
     "output_type": "stream",
     "text": [
      "0.5662514156285392\n"
     ]
    }
   ],
   "source": [
    "xgb_original_data_f1 = f1_score(ytest, xgb_original_data_pred)\n",
    "print(xgb_original_data_f1)"
   ]
  },
  {
   "cell_type": "markdown",
   "id": "e1c72915",
   "metadata": {},
   "source": [
    "### Brief comparision (original data)\n",
    "\n",
    "    model                Accuracy       Precision       Recall       F1 score\n",
    "\n",
    "    Naive bayes          0.7224         0.507           0.802        0.621\n",
    "\n",
    "    Logistic regression  0.816          0.259           0.194        0.221\n",
    "\n",
    "    Random forest        0.795          0.25            0.172        0.203\n",
    "\n",
    "    XGBoost              0.7633         0.611           0.462        0.526"
   ]
  },
  {
   "cell_type": "markdown",
   "id": "67cb5a21",
   "metadata": {},
   "source": [
    "Accuracy: quality of prediction\n",
    "\n",
    "Prediction: quality of positive predictions\n",
    "\n",
    "recall: ratio of actually positive values to precicted positive values\n",
    "\n",
    "F1: harmonic mean of precision and recall "
   ]
  },
  {
   "cell_type": "markdown",
   "id": "1be0927a",
   "metadata": {},
   "source": [
    "---"
   ]
  },
  {
   "cell_type": "markdown",
   "id": "99ef4abe",
   "metadata": {},
   "source": [
    "# SMOTE"
   ]
  },
  {
   "cell_type": "code",
   "execution_count": 59,
   "id": "1776c3cb",
   "metadata": {},
   "outputs": [],
   "source": [
    "smot = SMOTE(random_state=101)\n",
    "x_resamples, y_resamples = smot.fit_resample(original_data_copy[colu[1:len(colu)-1]], original_data_copy['Churn'])"
   ]
  },
  {
   "cell_type": "code",
   "execution_count": 60,
   "id": "b1bf918a",
   "metadata": {},
   "outputs": [
    {
     "data": {
      "text/html": [
       "<div>\n",
       "<style scoped>\n",
       "    .dataframe tbody tr th:only-of-type {\n",
       "        vertical-align: middle;\n",
       "    }\n",
       "\n",
       "    .dataframe tbody tr th {\n",
       "        vertical-align: top;\n",
       "    }\n",
       "\n",
       "    .dataframe thead th {\n",
       "        text-align: right;\n",
       "    }\n",
       "</style>\n",
       "<table border=\"1\" class=\"dataframe\">\n",
       "  <thead>\n",
       "    <tr style=\"text-align: right;\">\n",
       "      <th></th>\n",
       "      <th>gender</th>\n",
       "      <th>SeniorCitizen</th>\n",
       "      <th>Partner</th>\n",
       "      <th>Dependents</th>\n",
       "      <th>tenure</th>\n",
       "      <th>PhoneService</th>\n",
       "      <th>MultipleLines</th>\n",
       "      <th>InternetService</th>\n",
       "      <th>OnlineSecurity</th>\n",
       "      <th>OnlineBackup</th>\n",
       "      <th>DeviceProtection</th>\n",
       "      <th>TechSupport</th>\n",
       "      <th>StreamingTV</th>\n",
       "      <th>StreamingMovies</th>\n",
       "      <th>Contract</th>\n",
       "      <th>PaperlessBilling</th>\n",
       "      <th>PaymentMethod</th>\n",
       "      <th>MonthlyCharges</th>\n",
       "      <th>TotalCharges</th>\n",
       "    </tr>\n",
       "  </thead>\n",
       "  <tbody>\n",
       "    <tr>\n",
       "      <th>0</th>\n",
       "      <td>0</td>\n",
       "      <td>0</td>\n",
       "      <td>0</td>\n",
       "      <td>0</td>\n",
       "      <td>1</td>\n",
       "      <td>0</td>\n",
       "      <td>0</td>\n",
       "      <td>0</td>\n",
       "      <td>0</td>\n",
       "      <td>0</td>\n",
       "      <td>0</td>\n",
       "      <td>0</td>\n",
       "      <td>0</td>\n",
       "      <td>0</td>\n",
       "      <td>0</td>\n",
       "      <td>0</td>\n",
       "      <td>0</td>\n",
       "      <td>29.850000</td>\n",
       "      <td>29.850000</td>\n",
       "    </tr>\n",
       "    <tr>\n",
       "      <th>1</th>\n",
       "      <td>1</td>\n",
       "      <td>0</td>\n",
       "      <td>1</td>\n",
       "      <td>0</td>\n",
       "      <td>34</td>\n",
       "      <td>1</td>\n",
       "      <td>1</td>\n",
       "      <td>0</td>\n",
       "      <td>1</td>\n",
       "      <td>1</td>\n",
       "      <td>1</td>\n",
       "      <td>0</td>\n",
       "      <td>0</td>\n",
       "      <td>0</td>\n",
       "      <td>1</td>\n",
       "      <td>1</td>\n",
       "      <td>1</td>\n",
       "      <td>56.950000</td>\n",
       "      <td>1889.500000</td>\n",
       "    </tr>\n",
       "    <tr>\n",
       "      <th>2</th>\n",
       "      <td>1</td>\n",
       "      <td>0</td>\n",
       "      <td>1</td>\n",
       "      <td>0</td>\n",
       "      <td>2</td>\n",
       "      <td>1</td>\n",
       "      <td>1</td>\n",
       "      <td>0</td>\n",
       "      <td>1</td>\n",
       "      <td>0</td>\n",
       "      <td>0</td>\n",
       "      <td>0</td>\n",
       "      <td>0</td>\n",
       "      <td>0</td>\n",
       "      <td>0</td>\n",
       "      <td>0</td>\n",
       "      <td>1</td>\n",
       "      <td>53.850000</td>\n",
       "      <td>108.150000</td>\n",
       "    </tr>\n",
       "    <tr>\n",
       "      <th>3</th>\n",
       "      <td>1</td>\n",
       "      <td>0</td>\n",
       "      <td>1</td>\n",
       "      <td>0</td>\n",
       "      <td>45</td>\n",
       "      <td>0</td>\n",
       "      <td>0</td>\n",
       "      <td>0</td>\n",
       "      <td>1</td>\n",
       "      <td>1</td>\n",
       "      <td>1</td>\n",
       "      <td>1</td>\n",
       "      <td>0</td>\n",
       "      <td>0</td>\n",
       "      <td>1</td>\n",
       "      <td>1</td>\n",
       "      <td>2</td>\n",
       "      <td>42.300000</td>\n",
       "      <td>1840.750000</td>\n",
       "    </tr>\n",
       "    <tr>\n",
       "      <th>4</th>\n",
       "      <td>0</td>\n",
       "      <td>0</td>\n",
       "      <td>1</td>\n",
       "      <td>0</td>\n",
       "      <td>2</td>\n",
       "      <td>1</td>\n",
       "      <td>1</td>\n",
       "      <td>1</td>\n",
       "      <td>0</td>\n",
       "      <td>1</td>\n",
       "      <td>0</td>\n",
       "      <td>0</td>\n",
       "      <td>0</td>\n",
       "      <td>0</td>\n",
       "      <td>0</td>\n",
       "      <td>0</td>\n",
       "      <td>0</td>\n",
       "      <td>70.700000</td>\n",
       "      <td>151.650000</td>\n",
       "    </tr>\n",
       "    <tr>\n",
       "      <th>...</th>\n",
       "      <td>...</td>\n",
       "      <td>...</td>\n",
       "      <td>...</td>\n",
       "      <td>...</td>\n",
       "      <td>...</td>\n",
       "      <td>...</td>\n",
       "      <td>...</td>\n",
       "      <td>...</td>\n",
       "      <td>...</td>\n",
       "      <td>...</td>\n",
       "      <td>...</td>\n",
       "      <td>...</td>\n",
       "      <td>...</td>\n",
       "      <td>...</td>\n",
       "      <td>...</td>\n",
       "      <td>...</td>\n",
       "      <td>...</td>\n",
       "      <td>...</td>\n",
       "      <td>...</td>\n",
       "    </tr>\n",
       "    <tr>\n",
       "      <th>10321</th>\n",
       "      <td>0</td>\n",
       "      <td>0</td>\n",
       "      <td>1</td>\n",
       "      <td>0</td>\n",
       "      <td>16</td>\n",
       "      <td>1</td>\n",
       "      <td>1</td>\n",
       "      <td>0</td>\n",
       "      <td>0</td>\n",
       "      <td>1</td>\n",
       "      <td>1</td>\n",
       "      <td>0</td>\n",
       "      <td>0</td>\n",
       "      <td>0</td>\n",
       "      <td>0</td>\n",
       "      <td>0</td>\n",
       "      <td>0</td>\n",
       "      <td>58.209558</td>\n",
       "      <td>937.864485</td>\n",
       "    </tr>\n",
       "    <tr>\n",
       "      <th>10322</th>\n",
       "      <td>1</td>\n",
       "      <td>0</td>\n",
       "      <td>0</td>\n",
       "      <td>0</td>\n",
       "      <td>54</td>\n",
       "      <td>1</td>\n",
       "      <td>1</td>\n",
       "      <td>1</td>\n",
       "      <td>1</td>\n",
       "      <td>0</td>\n",
       "      <td>0</td>\n",
       "      <td>0</td>\n",
       "      <td>0</td>\n",
       "      <td>1</td>\n",
       "      <td>1</td>\n",
       "      <td>0</td>\n",
       "      <td>2</td>\n",
       "      <td>109.528404</td>\n",
       "      <td>6109.574554</td>\n",
       "    </tr>\n",
       "    <tr>\n",
       "      <th>10323</th>\n",
       "      <td>0</td>\n",
       "      <td>0</td>\n",
       "      <td>1</td>\n",
       "      <td>0</td>\n",
       "      <td>1</td>\n",
       "      <td>1</td>\n",
       "      <td>1</td>\n",
       "      <td>1</td>\n",
       "      <td>0</td>\n",
       "      <td>1</td>\n",
       "      <td>0</td>\n",
       "      <td>0</td>\n",
       "      <td>0</td>\n",
       "      <td>0</td>\n",
       "      <td>0</td>\n",
       "      <td>0</td>\n",
       "      <td>0</td>\n",
       "      <td>70.114711</td>\n",
       "      <td>70.114711</td>\n",
       "    </tr>\n",
       "    <tr>\n",
       "      <th>10324</th>\n",
       "      <td>1</td>\n",
       "      <td>0</td>\n",
       "      <td>0</td>\n",
       "      <td>0</td>\n",
       "      <td>7</td>\n",
       "      <td>1</td>\n",
       "      <td>1</td>\n",
       "      <td>1</td>\n",
       "      <td>0</td>\n",
       "      <td>0</td>\n",
       "      <td>0</td>\n",
       "      <td>0</td>\n",
       "      <td>1</td>\n",
       "      <td>1</td>\n",
       "      <td>0</td>\n",
       "      <td>0</td>\n",
       "      <td>0</td>\n",
       "      <td>97.604865</td>\n",
       "      <td>666.618046</td>\n",
       "    </tr>\n",
       "    <tr>\n",
       "      <th>10325</th>\n",
       "      <td>0</td>\n",
       "      <td>0</td>\n",
       "      <td>0</td>\n",
       "      <td>0</td>\n",
       "      <td>12</td>\n",
       "      <td>1</td>\n",
       "      <td>2</td>\n",
       "      <td>1</td>\n",
       "      <td>0</td>\n",
       "      <td>0</td>\n",
       "      <td>1</td>\n",
       "      <td>0</td>\n",
       "      <td>0</td>\n",
       "      <td>1</td>\n",
       "      <td>0</td>\n",
       "      <td>0</td>\n",
       "      <td>0</td>\n",
       "      <td>99.972540</td>\n",
       "      <td>1255.525659</td>\n",
       "    </tr>\n",
       "  </tbody>\n",
       "</table>\n",
       "<p>10326 rows × 19 columns</p>\n",
       "</div>"
      ],
      "text/plain": [
       "       gender  SeniorCitizen  Partner  Dependents  tenure  PhoneService  \\\n",
       "0           0              0        0           0       1             0   \n",
       "1           1              0        1           0      34             1   \n",
       "2           1              0        1           0       2             1   \n",
       "3           1              0        1           0      45             0   \n",
       "4           0              0        1           0       2             1   \n",
       "...       ...            ...      ...         ...     ...           ...   \n",
       "10321       0              0        1           0      16             1   \n",
       "10322       1              0        0           0      54             1   \n",
       "10323       0              0        1           0       1             1   \n",
       "10324       1              0        0           0       7             1   \n",
       "10325       0              0        0           0      12             1   \n",
       "\n",
       "       MultipleLines  InternetService  OnlineSecurity  OnlineBackup  \\\n",
       "0                  0                0               0             0   \n",
       "1                  1                0               1             1   \n",
       "2                  1                0               1             0   \n",
       "3                  0                0               1             1   \n",
       "4                  1                1               0             1   \n",
       "...              ...              ...             ...           ...   \n",
       "10321              1                0               0             1   \n",
       "10322              1                1               1             0   \n",
       "10323              1                1               0             1   \n",
       "10324              1                1               0             0   \n",
       "10325              2                1               0             0   \n",
       "\n",
       "       DeviceProtection  TechSupport  StreamingTV  StreamingMovies  Contract  \\\n",
       "0                     0            0            0                0         0   \n",
       "1                     1            0            0                0         1   \n",
       "2                     0            0            0                0         0   \n",
       "3                     1            1            0                0         1   \n",
       "4                     0            0            0                0         0   \n",
       "...                 ...          ...          ...              ...       ...   \n",
       "10321                 1            0            0                0         0   \n",
       "10322                 0            0            0                1         1   \n",
       "10323                 0            0            0                0         0   \n",
       "10324                 0            0            1                1         0   \n",
       "10325                 1            0            0                1         0   \n",
       "\n",
       "       PaperlessBilling  PaymentMethod  MonthlyCharges  TotalCharges  \n",
       "0                     0              0       29.850000     29.850000  \n",
       "1                     1              1       56.950000   1889.500000  \n",
       "2                     0              1       53.850000    108.150000  \n",
       "3                     1              2       42.300000   1840.750000  \n",
       "4                     0              0       70.700000    151.650000  \n",
       "...                 ...            ...             ...           ...  \n",
       "10321                 0              0       58.209558    937.864485  \n",
       "10322                 0              2      109.528404   6109.574554  \n",
       "10323                 0              0       70.114711     70.114711  \n",
       "10324                 0              0       97.604865    666.618046  \n",
       "10325                 0              0       99.972540   1255.525659  \n",
       "\n",
       "[10326 rows x 19 columns]"
      ]
     },
     "execution_count": 60,
     "metadata": {},
     "output_type": "execute_result"
    }
   ],
   "source": [
    "x_resamples"
   ]
  },
  {
   "cell_type": "code",
   "execution_count": 61,
   "id": "bb42ad60",
   "metadata": {},
   "outputs": [
    {
     "data": {
      "text/plain": [
       "0        0\n",
       "1        0\n",
       "2        1\n",
       "3        0\n",
       "4        1\n",
       "        ..\n",
       "10321    1\n",
       "10322    1\n",
       "10323    1\n",
       "10324    1\n",
       "10325    1\n",
       "Name: Churn, Length: 10326, dtype: int64"
      ]
     },
     "execution_count": 61,
     "metadata": {},
     "output_type": "execute_result"
    }
   ],
   "source": [
    "y_resamples"
   ]
  },
  {
   "cell_type": "code",
   "execution_count": 62,
   "id": "c81ec6bc",
   "metadata": {
    "scrolled": true
   },
   "outputs": [
    {
     "name": "stdout",
     "output_type": "stream",
     "text": [
      "10326 \n",
      "----------\n",
      "\n",
      "gender\n",
      "0    5852\n",
      "1    4474\n",
      "Name: gender, dtype: int64 \n",
      "\n",
      "SeniorCitizen\n",
      "0    8923\n",
      "1    1403\n",
      "Name: SeniorCitizen, dtype: int64 \n",
      "\n",
      "Partner\n",
      "0    5195\n",
      "1    5131\n",
      "Name: Partner, dtype: int64 \n",
      "\n",
      "Dependents\n",
      "0    8106\n",
      "1    2220\n",
      "Name: Dependents, dtype: int64 \n",
      "\n",
      "tenure\n",
      "1     1270\n",
      "2      469\n",
      "3      385\n",
      "72     362\n",
      "4      322\n",
      "      ... \n",
      "38      75\n",
      "59      73\n",
      "39      73\n",
      "44      72\n",
      "36      70\n",
      "Name: tenure, Length: 72, dtype: int64 \n",
      "\n",
      "PhoneService\n",
      "1    9253\n",
      "0    1073\n",
      "Name: PhoneService, dtype: int64 \n",
      "\n",
      "MultipleLines\n",
      "1    5334\n",
      "2    3952\n",
      "0    1040\n",
      "Name: MultipleLines, dtype: int64 \n",
      "\n",
      "InternetService\n",
      "1    5294\n",
      "0    3350\n",
      "2    1682\n",
      "Name: InternetService, dtype: int64 \n",
      "\n",
      "OnlineSecurity\n",
      "0    6485\n",
      "1    2159\n",
      "2    1682\n",
      "Name: OnlineSecurity, dtype: int64 \n",
      "\n",
      "OnlineBackup\n",
      "1    4827\n",
      "0    3817\n",
      "2    1682\n",
      "Name: OnlineBackup, dtype: int64 \n",
      "\n",
      "DeviceProtection\n",
      "0    5751\n",
      "1    2893\n",
      "2    1682\n",
      "Name: DeviceProtection, dtype: int64 \n",
      "\n",
      "TechSupport\n",
      "0    6456\n",
      "1    2188\n",
      "2    1682\n",
      "Name: TechSupport, dtype: int64 \n",
      "\n",
      "StreamingTV\n",
      "0    4954\n",
      "1    3690\n",
      "2    1682\n",
      "Name: StreamingTV, dtype: int64 \n",
      "\n",
      "StreamingMovies\n",
      "0    4943\n",
      "1    3701\n",
      "2    1682\n",
      "Name: StreamingMovies, dtype: int64 \n",
      "\n",
      "Contract\n",
      "0    7019\n",
      "2    1700\n",
      "1    1607\n",
      "Name: Contract, dtype: int64 \n",
      "\n",
      "PaperlessBilling\n",
      "0    7192\n",
      "1    3134\n",
      "Name: PaperlessBilling, dtype: int64 \n",
      "\n",
      "PaymentMethod\n",
      "0    4452\n",
      "1    2370\n",
      "2    1931\n",
      "3    1573\n",
      "Name: PaymentMethod, dtype: int64 \n",
      "\n"
     ]
    }
   ],
   "source": [
    "print(len(x_resamples),'\\n----------\\n')\n",
    "for x in graph_colu:\n",
    "    print(x)\n",
    "    print(x_resamples[x].value_counts(),'\\n')"
   ]
  },
  {
   "cell_type": "markdown",
   "id": "a732e75a",
   "metadata": {},
   "source": [
    "#### SMOTE-NC"
   ]
  },
  {
   "cell_type": "code",
   "execution_count": 63,
   "id": "a37b0976",
   "metadata": {},
   "outputs": [
    {
     "data": {
      "text/plain": [
       "Index(['gender', 'SeniorCitizen', 'Partner', 'Dependents', 'tenure',\n",
       "       'PhoneService', 'MultipleLines', 'InternetService', 'OnlineSecurity',\n",
       "       'OnlineBackup', 'DeviceProtection', 'TechSupport', 'StreamingTV',\n",
       "       'StreamingMovies', 'Contract', 'PaperlessBilling', 'PaymentMethod',\n",
       "       'MonthlyCharges', 'TotalCharges'],\n",
       "      dtype='object')"
      ]
     },
     "execution_count": 63,
     "metadata": {},
     "output_type": "execute_result"
    }
   ],
   "source": [
    "xtrain.columns"
   ]
  },
  {
   "cell_type": "code",
   "execution_count": 64,
   "id": "97ae4882",
   "metadata": {},
   "outputs": [],
   "source": [
    "smotnc = SMOTENC([0,1,2,3,5,6,7,8,9,10,11,12,13,14,15,16,17], random_state=101)\n",
    "x_resamples_nc, y_resamples_nc = smotnc.fit_resample(original_data_copy[colu[1:len(colu)-1]], original_data_copy['Churn'])"
   ]
  },
  {
   "cell_type": "code",
   "execution_count": 65,
   "id": "ae0848f4",
   "metadata": {},
   "outputs": [
    {
     "data": {
      "text/html": [
       "<div>\n",
       "<style scoped>\n",
       "    .dataframe tbody tr th:only-of-type {\n",
       "        vertical-align: middle;\n",
       "    }\n",
       "\n",
       "    .dataframe tbody tr th {\n",
       "        vertical-align: top;\n",
       "    }\n",
       "\n",
       "    .dataframe thead th {\n",
       "        text-align: right;\n",
       "    }\n",
       "</style>\n",
       "<table border=\"1\" class=\"dataframe\">\n",
       "  <thead>\n",
       "    <tr style=\"text-align: right;\">\n",
       "      <th></th>\n",
       "      <th>gender</th>\n",
       "      <th>SeniorCitizen</th>\n",
       "      <th>Partner</th>\n",
       "      <th>Dependents</th>\n",
       "      <th>tenure</th>\n",
       "      <th>PhoneService</th>\n",
       "      <th>MultipleLines</th>\n",
       "      <th>InternetService</th>\n",
       "      <th>OnlineSecurity</th>\n",
       "      <th>OnlineBackup</th>\n",
       "      <th>DeviceProtection</th>\n",
       "      <th>TechSupport</th>\n",
       "      <th>StreamingTV</th>\n",
       "      <th>StreamingMovies</th>\n",
       "      <th>Contract</th>\n",
       "      <th>PaperlessBilling</th>\n",
       "      <th>PaymentMethod</th>\n",
       "      <th>MonthlyCharges</th>\n",
       "      <th>TotalCharges</th>\n",
       "    </tr>\n",
       "  </thead>\n",
       "  <tbody>\n",
       "    <tr>\n",
       "      <th>0</th>\n",
       "      <td>0</td>\n",
       "      <td>0</td>\n",
       "      <td>0</td>\n",
       "      <td>0</td>\n",
       "      <td>1</td>\n",
       "      <td>0</td>\n",
       "      <td>0</td>\n",
       "      <td>0</td>\n",
       "      <td>0</td>\n",
       "      <td>0</td>\n",
       "      <td>0</td>\n",
       "      <td>0</td>\n",
       "      <td>0</td>\n",
       "      <td>0</td>\n",
       "      <td>0</td>\n",
       "      <td>0</td>\n",
       "      <td>0</td>\n",
       "      <td>29.85</td>\n",
       "      <td>29.850000</td>\n",
       "    </tr>\n",
       "    <tr>\n",
       "      <th>1</th>\n",
       "      <td>1</td>\n",
       "      <td>0</td>\n",
       "      <td>1</td>\n",
       "      <td>0</td>\n",
       "      <td>34</td>\n",
       "      <td>1</td>\n",
       "      <td>1</td>\n",
       "      <td>0</td>\n",
       "      <td>1</td>\n",
       "      <td>1</td>\n",
       "      <td>1</td>\n",
       "      <td>0</td>\n",
       "      <td>0</td>\n",
       "      <td>0</td>\n",
       "      <td>1</td>\n",
       "      <td>1</td>\n",
       "      <td>1</td>\n",
       "      <td>56.95</td>\n",
       "      <td>1889.500000</td>\n",
       "    </tr>\n",
       "    <tr>\n",
       "      <th>2</th>\n",
       "      <td>1</td>\n",
       "      <td>0</td>\n",
       "      <td>1</td>\n",
       "      <td>0</td>\n",
       "      <td>2</td>\n",
       "      <td>1</td>\n",
       "      <td>1</td>\n",
       "      <td>0</td>\n",
       "      <td>1</td>\n",
       "      <td>0</td>\n",
       "      <td>0</td>\n",
       "      <td>0</td>\n",
       "      <td>0</td>\n",
       "      <td>0</td>\n",
       "      <td>0</td>\n",
       "      <td>0</td>\n",
       "      <td>1</td>\n",
       "      <td>53.85</td>\n",
       "      <td>108.150000</td>\n",
       "    </tr>\n",
       "    <tr>\n",
       "      <th>3</th>\n",
       "      <td>1</td>\n",
       "      <td>0</td>\n",
       "      <td>1</td>\n",
       "      <td>0</td>\n",
       "      <td>45</td>\n",
       "      <td>0</td>\n",
       "      <td>0</td>\n",
       "      <td>0</td>\n",
       "      <td>1</td>\n",
       "      <td>1</td>\n",
       "      <td>1</td>\n",
       "      <td>1</td>\n",
       "      <td>0</td>\n",
       "      <td>0</td>\n",
       "      <td>1</td>\n",
       "      <td>1</td>\n",
       "      <td>2</td>\n",
       "      <td>42.30</td>\n",
       "      <td>1840.750000</td>\n",
       "    </tr>\n",
       "    <tr>\n",
       "      <th>4</th>\n",
       "      <td>0</td>\n",
       "      <td>0</td>\n",
       "      <td>1</td>\n",
       "      <td>0</td>\n",
       "      <td>2</td>\n",
       "      <td>1</td>\n",
       "      <td>1</td>\n",
       "      <td>1</td>\n",
       "      <td>0</td>\n",
       "      <td>1</td>\n",
       "      <td>0</td>\n",
       "      <td>0</td>\n",
       "      <td>0</td>\n",
       "      <td>0</td>\n",
       "      <td>0</td>\n",
       "      <td>0</td>\n",
       "      <td>0</td>\n",
       "      <td>70.70</td>\n",
       "      <td>151.650000</td>\n",
       "    </tr>\n",
       "    <tr>\n",
       "      <th>...</th>\n",
       "      <td>...</td>\n",
       "      <td>...</td>\n",
       "      <td>...</td>\n",
       "      <td>...</td>\n",
       "      <td>...</td>\n",
       "      <td>...</td>\n",
       "      <td>...</td>\n",
       "      <td>...</td>\n",
       "      <td>...</td>\n",
       "      <td>...</td>\n",
       "      <td>...</td>\n",
       "      <td>...</td>\n",
       "      <td>...</td>\n",
       "      <td>...</td>\n",
       "      <td>...</td>\n",
       "      <td>...</td>\n",
       "      <td>...</td>\n",
       "      <td>...</td>\n",
       "      <td>...</td>\n",
       "    </tr>\n",
       "    <tr>\n",
       "      <th>10321</th>\n",
       "      <td>0</td>\n",
       "      <td>0</td>\n",
       "      <td>1</td>\n",
       "      <td>0</td>\n",
       "      <td>17</td>\n",
       "      <td>1</td>\n",
       "      <td>2</td>\n",
       "      <td>0</td>\n",
       "      <td>0</td>\n",
       "      <td>1</td>\n",
       "      <td>0</td>\n",
       "      <td>0</td>\n",
       "      <td>0</td>\n",
       "      <td>0</td>\n",
       "      <td>0</td>\n",
       "      <td>0</td>\n",
       "      <td>1</td>\n",
       "      <td>55.70</td>\n",
       "      <td>954.080850</td>\n",
       "    </tr>\n",
       "    <tr>\n",
       "      <th>10322</th>\n",
       "      <td>0</td>\n",
       "      <td>0</td>\n",
       "      <td>0</td>\n",
       "      <td>0</td>\n",
       "      <td>53</td>\n",
       "      <td>1</td>\n",
       "      <td>1</td>\n",
       "      <td>1</td>\n",
       "      <td>1</td>\n",
       "      <td>0</td>\n",
       "      <td>0</td>\n",
       "      <td>0</td>\n",
       "      <td>1</td>\n",
       "      <td>1</td>\n",
       "      <td>1</td>\n",
       "      <td>0</td>\n",
       "      <td>3</td>\n",
       "      <td>105.40</td>\n",
       "      <td>5773.064110</td>\n",
       "    </tr>\n",
       "    <tr>\n",
       "      <th>10323</th>\n",
       "      <td>0</td>\n",
       "      <td>0</td>\n",
       "      <td>1</td>\n",
       "      <td>0</td>\n",
       "      <td>1</td>\n",
       "      <td>1</td>\n",
       "      <td>1</td>\n",
       "      <td>1</td>\n",
       "      <td>0</td>\n",
       "      <td>1</td>\n",
       "      <td>0</td>\n",
       "      <td>0</td>\n",
       "      <td>0</td>\n",
       "      <td>0</td>\n",
       "      <td>0</td>\n",
       "      <td>0</td>\n",
       "      <td>0</td>\n",
       "      <td>70.10</td>\n",
       "      <td>70.114711</td>\n",
       "    </tr>\n",
       "    <tr>\n",
       "      <th>10324</th>\n",
       "      <td>1</td>\n",
       "      <td>0</td>\n",
       "      <td>1</td>\n",
       "      <td>0</td>\n",
       "      <td>6</td>\n",
       "      <td>1</td>\n",
       "      <td>1</td>\n",
       "      <td>1</td>\n",
       "      <td>0</td>\n",
       "      <td>0</td>\n",
       "      <td>0</td>\n",
       "      <td>0</td>\n",
       "      <td>1</td>\n",
       "      <td>1</td>\n",
       "      <td>0</td>\n",
       "      <td>0</td>\n",
       "      <td>0</td>\n",
       "      <td>96.25</td>\n",
       "      <td>593.414894</td>\n",
       "    </tr>\n",
       "    <tr>\n",
       "      <th>10325</th>\n",
       "      <td>1</td>\n",
       "      <td>0</td>\n",
       "      <td>1</td>\n",
       "      <td>0</td>\n",
       "      <td>12</td>\n",
       "      <td>1</td>\n",
       "      <td>2</td>\n",
       "      <td>1</td>\n",
       "      <td>0</td>\n",
       "      <td>0</td>\n",
       "      <td>1</td>\n",
       "      <td>0</td>\n",
       "      <td>1</td>\n",
       "      <td>1</td>\n",
       "      <td>0</td>\n",
       "      <td>0</td>\n",
       "      <td>0</td>\n",
       "      <td>94.00</td>\n",
       "      <td>1235.308689</td>\n",
       "    </tr>\n",
       "  </tbody>\n",
       "</table>\n",
       "<p>10326 rows × 19 columns</p>\n",
       "</div>"
      ],
      "text/plain": [
       "       gender  SeniorCitizen  Partner  Dependents  tenure  PhoneService  \\\n",
       "0           0              0        0           0       1             0   \n",
       "1           1              0        1           0      34             1   \n",
       "2           1              0        1           0       2             1   \n",
       "3           1              0        1           0      45             0   \n",
       "4           0              0        1           0       2             1   \n",
       "...       ...            ...      ...         ...     ...           ...   \n",
       "10321       0              0        1           0      17             1   \n",
       "10322       0              0        0           0      53             1   \n",
       "10323       0              0        1           0       1             1   \n",
       "10324       1              0        1           0       6             1   \n",
       "10325       1              0        1           0      12             1   \n",
       "\n",
       "       MultipleLines  InternetService  OnlineSecurity  OnlineBackup  \\\n",
       "0                  0                0               0             0   \n",
       "1                  1                0               1             1   \n",
       "2                  1                0               1             0   \n",
       "3                  0                0               1             1   \n",
       "4                  1                1               0             1   \n",
       "...              ...              ...             ...           ...   \n",
       "10321              2                0               0             1   \n",
       "10322              1                1               1             0   \n",
       "10323              1                1               0             1   \n",
       "10324              1                1               0             0   \n",
       "10325              2                1               0             0   \n",
       "\n",
       "       DeviceProtection  TechSupport  StreamingTV  StreamingMovies  Contract  \\\n",
       "0                     0            0            0                0         0   \n",
       "1                     1            0            0                0         1   \n",
       "2                     0            0            0                0         0   \n",
       "3                     1            1            0                0         1   \n",
       "4                     0            0            0                0         0   \n",
       "...                 ...          ...          ...              ...       ...   \n",
       "10321                 0            0            0                0         0   \n",
       "10322                 0            0            1                1         1   \n",
       "10323                 0            0            0                0         0   \n",
       "10324                 0            0            1                1         0   \n",
       "10325                 1            0            1                1         0   \n",
       "\n",
       "       PaperlessBilling  PaymentMethod  MonthlyCharges  TotalCharges  \n",
       "0                     0              0           29.85     29.850000  \n",
       "1                     1              1           56.95   1889.500000  \n",
       "2                     0              1           53.85    108.150000  \n",
       "3                     1              2           42.30   1840.750000  \n",
       "4                     0              0           70.70    151.650000  \n",
       "...                 ...            ...             ...           ...  \n",
       "10321                 0              1           55.70    954.080850  \n",
       "10322                 0              3          105.40   5773.064110  \n",
       "10323                 0              0           70.10     70.114711  \n",
       "10324                 0              0           96.25    593.414894  \n",
       "10325                 0              0           94.00   1235.308689  \n",
       "\n",
       "[10326 rows x 19 columns]"
      ]
     },
     "execution_count": 65,
     "metadata": {},
     "output_type": "execute_result"
    }
   ],
   "source": [
    "x_resamples_nc"
   ]
  },
  {
   "cell_type": "code",
   "execution_count": 66,
   "id": "e08f06e9",
   "metadata": {
    "scrolled": true
   },
   "outputs": [
    {
     "name": "stdout",
     "output_type": "stream",
     "text": [
      "10326 \n",
      "----------\n",
      "\n",
      "gender\n",
      "1    5243\n",
      "0    5083\n",
      "Name: gender, dtype: int64 \n",
      "\n",
      "SeniorCitizen\n",
      "0    8479\n",
      "1    1847\n",
      "Name: SeniorCitizen, dtype: int64 \n",
      "\n",
      "Partner\n",
      "1    5853\n",
      "0    4473\n",
      "Name: Partner, dtype: int64 \n",
      "\n",
      "Dependents\n",
      "0    7829\n",
      "1    2497\n",
      "Name: Dependents, dtype: int64 \n",
      "\n",
      "tenure\n",
      "1     1334\n",
      "2      479\n",
      "3      370\n",
      "72     364\n",
      "4      317\n",
      "      ... \n",
      "36      73\n",
      "45      73\n",
      "38      72\n",
      "59      70\n",
      "44      62\n",
      "Name: tenure, Length: 72, dtype: int64 \n",
      "\n",
      "PhoneService\n",
      "1    9342\n",
      "0     984\n",
      "Name: PhoneService, dtype: int64 \n",
      "\n",
      "MultipleLines\n",
      "1    4883\n",
      "2    4459\n",
      "0     984\n",
      "Name: MultipleLines, dtype: int64 \n",
      "\n",
      "InternetService\n",
      "1    5451\n",
      "0    3144\n",
      "2    1731\n",
      "Name: InternetService, dtype: int64 \n",
      "\n",
      "OnlineSecurity\n",
      "0    6280\n",
      "1    2315\n",
      "2    1731\n",
      "Name: OnlineSecurity, dtype: int64 \n",
      "\n",
      "OnlineBackup\n",
      "1    5330\n",
      "0    3265\n",
      "2    1731\n",
      "Name: OnlineBackup, dtype: int64 \n",
      "\n",
      "DeviceProtection\n",
      "0    5274\n",
      "1    3321\n",
      "2    1731\n",
      "Name: DeviceProtection, dtype: int64 \n",
      "\n",
      "TechSupport\n",
      "0    6207\n",
      "1    2388\n",
      "2    1731\n",
      "Name: TechSupport, dtype: int64 \n",
      "\n",
      "StreamingTV\n",
      "0    4416\n",
      "1    4179\n",
      "2    1731\n",
      "Name: StreamingTV, dtype: int64 \n",
      "\n",
      "StreamingMovies\n",
      "0    4404\n",
      "1    4191\n",
      "2    1731\n",
      "Name: StreamingMovies, dtype: int64 \n",
      "\n",
      "Contract\n",
      "0    6964\n",
      "2    1716\n",
      "1    1646\n",
      "Name: Contract, dtype: int64 \n",
      "\n",
      "PaperlessBilling\n",
      "0    6830\n",
      "1    3496\n",
      "Name: PaperlessBilling, dtype: int64 \n",
      "\n",
      "PaymentMethod\n",
      "0    4657\n",
      "1    2129\n",
      "2    1795\n",
      "3    1745\n",
      "Name: PaymentMethod, dtype: int64 \n",
      "\n"
     ]
    }
   ],
   "source": [
    "print(len(x_resamples_nc),'\\n----------\\n')\n",
    "for x in graph_colu:\n",
    "    print(x)\n",
    "    print(x_resamples_nc[x].value_counts(),'\\n')"
   ]
  },
  {
   "cell_type": "markdown",
   "id": "486fcbc4",
   "metadata": {},
   "source": [
    "---"
   ]
  },
  {
   "cell_type": "markdown",
   "id": "afef9ece",
   "metadata": {},
   "source": [
    "## Using SMOT data"
   ]
  },
  {
   "cell_type": "code",
   "execution_count": 67,
   "id": "16ad0820",
   "metadata": {},
   "outputs": [],
   "source": [
    "xtrain_smot, xtest_smot, ytrain_smot, ytest_smot = train_test_split(x_resamples, y_resamples, test_size=0.20)"
   ]
  },
  {
   "cell_type": "markdown",
   "id": "004d1ece",
   "metadata": {},
   "source": [
    "#### naive bayes smot"
   ]
  },
  {
   "cell_type": "code",
   "execution_count": 68,
   "id": "c24d340f",
   "metadata": {
    "scrolled": true
   },
   "outputs": [
    {
     "name": "stdout",
     "output_type": "stream",
     "text": [
      "accuracy:  0.7894482090997096\n",
      "precision:  0.7432098765432099\n",
      "recall:  0.8801169590643275\n",
      "f1:  0.8058902275769746\n"
     ]
    },
    {
     "data": {
      "text/plain": [
       "array([[0.7       , 0.3       ],\n",
       "       [0.11988304, 0.88011696]])"
      ]
     },
     "execution_count": 68,
     "metadata": {},
     "output_type": "execute_result"
    }
   ],
   "source": [
    "naive = GaussianNB()\n",
    "model = naive.fit(xtrain_smot, ytrain_smot)\n",
    "#naive_bayes_original_data_pred = naive.predict(xtest.iloc[0].to_numpy().reshape(1,-1))\n",
    "naive_bayes_smot_pred = naive.predict(xtest_smot)\n",
    "\n",
    "naive_bayes_smot_accuracy = accuracy_score(ytest_smot,naive_bayes_smot_pred)\n",
    "print('accuracy: ', naive_bayes_smot_accuracy)\n",
    "\n",
    "naive_bayes_smot_precision = precision_score(ytest_smot, naive_bayes_smot_pred)\n",
    "print('precision: ', naive_bayes_smot_precision)\n",
    "\n",
    "naive_bayes_smot_recall = recall_score(ytest_smot, naive_bayes_smot_pred)\n",
    "print('recall: ', naive_bayes_smot_recall)\n",
    "\n",
    "naive_bayes_smot_f1 = f1_score(ytest_smot, naive_bayes_smot_pred)\n",
    "print('f1: ', naive_bayes_smot_f1)\n",
    "\n",
    "naive_bayes_smot_confusion_matrix = confusion_matrix(ytest_smot, naive_bayes_smot_pred)\n",
    "naive_bayes_smot_confusion_matrix.astype('float')/ naive_bayes_smot_confusion_matrix.sum(axis=1)[:, np.newaxis]"
   ]
  },
  {
   "cell_type": "markdown",
   "id": "be945022",
   "metadata": {},
   "source": [
    "#### Logistic regression smot"
   ]
  },
  {
   "cell_type": "code",
   "execution_count": 69,
   "id": "32ffea93",
   "metadata": {
    "scrolled": true
   },
   "outputs": [
    {
     "name": "stdout",
     "output_type": "stream",
     "text": [
      "accuracy:  0.8112294288480155\n",
      "precision:  0.797752808988764\n",
      "recall:  0.8304093567251462\n",
      "f1:  0.8137535816618909\n"
     ]
    },
    {
     "data": {
      "text/plain": [
       "array([[0.79230769, 0.20769231],\n",
       "       [0.16959064, 0.83040936]])"
      ]
     },
     "execution_count": 69,
     "metadata": {},
     "output_type": "execute_result"
    }
   ],
   "source": [
    "log = LogisticRegression(max_iter=1000000)\n",
    "log.fit(xtrain_smot, ytrain_smot)\n",
    "log_reg_smot_pred = log.predict(xtest_smot)\n",
    "\n",
    "log_reg_smot_accuracy = accuracy_score(ytest_smot, log_reg_smot_pred)\n",
    "print('accuracy: ', log_reg_smot_accuracy)\n",
    "\n",
    "log_reg_smot_precision = precision_score(ytest_smot, log_reg_smot_pred)\n",
    "print('precision: ', log_reg_smot_precision)\n",
    "\n",
    "log_reg_smot_recall = recall_score(ytest_smot, log_reg_smot_pred)\n",
    "print('recall: ', log_reg_smot_recall)\n",
    "\n",
    "log_reg_smot_f1 = f1_score(ytest_smot, log_reg_smot_pred)\n",
    "print('f1: ', log_reg_smot_f1)\n",
    "\n",
    "log_reg_smot_confusion_matrix = confusion_matrix(ytest_smot, log_reg_smot_pred)\n",
    "log_reg_smot_confusion_matrix.astype('float')/ log_reg_smot_confusion_matrix.sum(axis=1)[:, np.newaxis]"
   ]
  },
  {
   "cell_type": "markdown",
   "id": "eac4da6c",
   "metadata": {},
   "source": [
    "#### Random forest smot"
   ]
  },
  {
   "cell_type": "code",
   "execution_count": 70,
   "id": "a114dc1c",
   "metadata": {},
   "outputs": [
    {
     "name": "stdout",
     "output_type": "stream",
     "text": [
      "accuracy:  0.8441432720232332\n",
      "precision:  0.8333333333333334\n",
      "recall:  0.8576998050682261\n",
      "f1:  0.845341018251681\n"
     ]
    },
    {
     "data": {
      "text/plain": [
       "array([[0.83076923, 0.16923077],\n",
       "       [0.14230019, 0.85769981]])"
      ]
     },
     "execution_count": 70,
     "metadata": {},
     "output_type": "execute_result"
    }
   ],
   "source": [
    "ran_for = RandomForestClassifier()\n",
    "ran_for.fit(xtrain_smot, ytrain_smot)\n",
    "\n",
    "ran_for_smot_pred = ran_for.predict(xtest_smot)\n",
    "\n",
    "ran_for_smot_accuracy = accuracy_score(ytest_smot, ran_for_smot_pred)\n",
    "print('accuracy: ', ran_for_smot_accuracy)\n",
    "\n",
    "ran_for_smot_precision = precision_score(ytest_smot, ran_for_smot_pred)\n",
    "print('precision: ', ran_for_smot_precision)\n",
    "\n",
    "ran_for_smot_recall = recall_score(ytest_smot, ran_for_smot_pred)\n",
    "print('recall: ', ran_for_smot_recall)\n",
    "\n",
    "ran_for_smot_f1 = f1_score(ytest_smot, ran_for_smot_pred)\n",
    "print('f1: ', ran_for_smot_f1)\n",
    "\n",
    "\n",
    "ran_for_smot_confusion_matrix = confusion_matrix(ytest_smot, ran_for_smot_pred)\n",
    "ran_for_smot_confusion_matrix.astype('float')/ ran_for_smot_confusion_matrix.sum(axis=1)[:, np.newaxis]"
   ]
  },
  {
   "cell_type": "markdown",
   "id": "8829499b",
   "metadata": {},
   "source": [
    "### Hyperparameter tuning for Random forest"
   ]
  },
  {
   "cell_type": "code",
   "execution_count": 110,
   "id": "da0277d6",
   "metadata": {},
   "outputs": [],
   "source": [
    "n_estimators = [5,20,50,100, 150, 200, 250, 300] # number of trees in the random forest\n",
    "max_features = ['auto', 'sqrt'] # number of features in consideration at every split\n",
    "max_depth = [int(x) for x in np.linspace(10, 120, num = 12)] # maximum number of levels allowed in each decision tree\n",
    "min_samples_split = [2, 6, 10, 12, 14] # minimum sample number to split a node\n",
    "min_samples_leaf = [1, 3, 4, 5, 6] # minimum sample number that can be stored in a leaf node\n",
    "bootstrap = [True, False] # method used to sample data points\n",
    "\n",
    "random_grid = {'n_estimators': n_estimators,\n",
    "'max_features': max_features,\n",
    "'max_depth': max_depth,\n",
    "'min_samples_split': min_samples_split,\n",
    "'min_samples_leaf': min_samples_leaf,\n",
    "'bootstrap': bootstrap}"
   ]
  },
  {
   "cell_type": "code",
   "execution_count": 111,
   "id": "69cd83dc",
   "metadata": {},
   "outputs": [],
   "source": [
    "rf_random = RandomizedSearchCV(estimator = ran_for,param_distributions = random_grid,n_iter = 100, cv = 5, verbose=2, random_state=35, n_jobs = -1)"
   ]
  },
  {
   "cell_type": "code",
   "execution_count": 112,
   "id": "ff7c819f",
   "metadata": {},
   "outputs": [
    {
     "name": "stdout",
     "output_type": "stream",
     "text": [
      "Fitting 5 folds for each of 100 candidates, totalling 500 fits\n"
     ]
    },
    {
     "data": {
      "text/plain": [
       "RandomizedSearchCV(cv=5, estimator=RandomForestClassifier(), n_iter=100,\n",
       "                   n_jobs=-1,\n",
       "                   param_distributions={'bootstrap': [True, False],\n",
       "                                        'max_depth': [10, 20, 30, 40, 50, 60,\n",
       "                                                      70, 80, 90, 100, 110,\n",
       "                                                      120],\n",
       "                                        'max_features': ['auto', 'sqrt'],\n",
       "                                        'min_samples_leaf': [1, 3, 4, 5, 6],\n",
       "                                        'min_samples_split': [2, 6, 10, 12, 14],\n",
       "                                        'n_estimators': [5, 20, 50, 100, 150,\n",
       "                                                         200, 250, 300]},\n",
       "                   random_state=35, verbose=2)"
      ]
     },
     "execution_count": 112,
     "metadata": {},
     "output_type": "execute_result"
    }
   ],
   "source": [
    "rf_random.fit(xtrain_smot, ytrain_smot)"
   ]
  },
  {
   "cell_type": "code",
   "execution_count": 113,
   "id": "93cab6c0",
   "metadata": {},
   "outputs": [
    {
     "data": {
      "text/plain": [
       "{'n_estimators': 250,\n",
       " 'min_samples_split': 2,\n",
       " 'min_samples_leaf': 1,\n",
       " 'max_features': 'sqrt',\n",
       " 'max_depth': 120,\n",
       " 'bootstrap': True}"
      ]
     },
     "execution_count": 113,
     "metadata": {},
     "output_type": "execute_result"
    }
   ],
   "source": [
    "rf_random.best_params_"
   ]
  },
  {
   "cell_type": "code",
   "execution_count": 114,
   "id": "2fe0a2ec",
   "metadata": {},
   "outputs": [
    {
     "name": "stdout",
     "output_type": "stream",
     "text": [
      "accuracy:  0.8441432720232332\n",
      "precision:  0.9565217391304348\n",
      "recall:  0.8791423001949318\n",
      "f1:  0.9162011173184358\n"
     ]
    }
   ],
   "source": [
    "ran_for_tuned = RandomForestClassifier(n_estimators = 250, min_samples_split=2, min_samples_leaf=1, \n",
    "                                       max_features='sqrt', max_depth=120, bootstrap=True)\n",
    "ran_for_tuned.fit(xtrain_smot, ytrain_smot)\n",
    "\n",
    "ran_for_tuned_smot_pred = ran_for.predict(xtest_smot)\n",
    "\n",
    "ran_for_tuned_smot_accuracy = accuracy_score(ytest_smot, ran_for_smot_pred)\n",
    "print('accuracy: ', ran_for_tuned_smot_accuracy)\n",
    "\n",
    "ran_for_tuned_smot_precision = precision_score(ytest_smot, ran_for_tuned_smot_pred)\n",
    "print('precision: ', ran_for_tuned_smot_precision)\n",
    "\n",
    "ran_for_tuned_smot_recall = recall_score(ytest_smot, ran_for_tuned_smot_pred)\n",
    "print('recall: ', ran_for_tuned_smot_recall)\n",
    "\n",
    "ran_for_tuned_smot_f1 = f1_score(ytest_smot, ran_for_tuned_smot_pred)\n",
    "print('f1: ', ran_for_tuned_smot_f1)\n"
   ]
  },
  {
   "cell_type": "markdown",
   "id": "442c0524",
   "metadata": {},
   "source": [
    "#### xgboost smot"
   ]
  },
  {
   "cell_type": "code",
   "execution_count": 71,
   "id": "3c240245",
   "metadata": {},
   "outputs": [
    {
     "name": "stdout",
     "output_type": "stream",
     "text": [
      "accuracy:  0.8397870280735721\n",
      "precision:  0.8377065111758989\n",
      "recall:  0.8401559454191033\n",
      "f1:  0.8389294403892944\n"
     ]
    },
    {
     "data": {
      "text/plain": [
       "array([[0.83942308, 0.16057692],\n",
       "       [0.15984405, 0.84015595]])"
      ]
     },
     "execution_count": 71,
     "metadata": {},
     "output_type": "execute_result"
    }
   ],
   "source": [
    "xg_boost = XGBRegressor()\n",
    "xg_boost.fit(xtrain_smot, ytrain_smot)\n",
    "\n",
    "xgb_smot_prediction = xg_boost.predict(xtest_smot)\n",
    "xgb_smot_pred = np.round(xgb_smot_prediction)\n",
    "\n",
    "xgb_smot_accuracy = accuracy_score(ytest_smot, xgb_smot_pred)\n",
    "print('accuracy: ', xgb_smot_accuracy)\n",
    "\n",
    "xgb_smot_precision = precision_score(ytest_smot, xgb_smot_pred)\n",
    "print('precision: ', xgb_smot_precision)\n",
    "\n",
    "xgb_smot_recall = recall_score(ytest_smot, xgb_smot_pred)\n",
    "print('recall: ', xgb_smot_recall)\n",
    "\n",
    "xgb_smot_f1 = f1_score(ytest_smot, xgb_smot_pred)\n",
    "print('f1: ', xgb_smot_f1)\n",
    "\n",
    "xgb_smot_confusion_matrix = confusion_matrix(ytest_smot, xgb_smot_pred)\n",
    "xgb_smot_confusion_matrix.astype('float')/ xgb_smot_confusion_matrix.sum(axis=1)[:,np.newaxis]"
   ]
  },
  {
   "cell_type": "markdown",
   "id": "f7872999",
   "metadata": {},
   "source": [
    "### Brief comparision (original data)\n",
    "\n",
    "    model                Accuracy       Precision       Recall       F1 score\n",
    "\n",
    "    Naive bayes          0.7224         0.507           0.802        0.621\n",
    "\n",
    "    Logistic regression  0.816          0.259           0.194        0.221\n",
    "\n",
    "    Random forest        0.795          0.25            0.172        0.203\n",
    "\n",
    "    XGBoost              0.7633         0.611           0.462        0.526"
   ]
  },
  {
   "cell_type": "markdown",
   "id": "ef6453ef",
   "metadata": {},
   "source": [
    "### Hyperparameter tuning for XGBoost"
   ]
  },
  {
   "cell_type": "code",
   "execution_count": null,
   "id": "28146aca",
   "metadata": {},
   "outputs": [],
   "source": []
  },
  {
   "cell_type": "markdown",
   "id": "ffb34cdd",
   "metadata": {},
   "source": [
    "### Brief comparision (SMOT data)\n",
    "\n",
    "    model                Accuracy       Precision       Recall       F1 score\n",
    "\n",
    "    Naive bayes          0.733          0.732           0.854        0.788       \n",
    "\n",
    "    Logistic regression  0.862          0.259           0.863        0.831\n",
    "\n",
    "    Random forest        0.849          0.25            0.847        0.847\n",
    "\n",
    "    XGBoost              0.846          0.838           0.853        0.845"
   ]
  },
  {
   "cell_type": "code",
   "execution_count": 126,
   "id": "23d1ac11",
   "metadata": {},
   "outputs": [],
   "source": [
    "def objective(space):\n",
    "    clf=xgb.XGBClassifier(n_estimators =space['n_estimators'], max_depth = int(space['max_depth']), \n",
    "                          gamma = space['gamma'],reg_alpha = int(space['reg_alpha']),\n",
    "                          min_child_weight=int(space['min_child_weight']),\n",
    "                          colsample_bytree=int(space['colsample_bytree']))\n",
    "    \n",
    "    evaluation = [(xtrain_smot, ytrain_smot), (xtest_smot, ytest_smot)]\n",
    "    \n",
    "    clf.fit(xtrain_smot, ytrain_smot,eval_set=evaluation, eval_metric=\"auc\",early_stopping_rounds=10,verbose=False)\n",
    "    \n",
    "\n",
    "    xg_triasl_pred = clf.predict(xtest_smot)\n",
    "    accuracy = accuracy_score(ytest_smot, xg_triasl_pred>0.5)\n",
    "    print (\"SCORE:\", accuracy)\n",
    "    return {'loss': -accuracy, 'status': STATUS_OK }"
   ]
  },
  {
   "cell_type": "code",
   "execution_count": 136,
   "id": "fcd68a98",
   "metadata": {},
   "outputs": [
    {
     "name": "stderr",
     "output_type": "stream",
     "text": [
      "D:\\Folder\\main\\Anaconda\\lib\\site-packages\\xgboost\\core.py:502: FutureWarning: Pass `objective` as keyword args.  Passing these as positional arguments will be considered as error in future releases.\n",
      "  format(\", \".join(args_msg)), FutureWarning\n"
     ]
    },
    {
     "ename": "XGBoostError",
     "evalue": "[21:04:22] C:\\Windows\\Temp\\abs_557yfx631l\\croots\\recipe\\xgboost-split_1659548953302\\work\\src\\objective\\objective.cc:26: Unknown objective function: `{'colsample_bytree': 0.9905250031928715, 'gamma': 1.0311980465001422, 'max_depth': 5.0, 'min_child_weight': 9.0, 'reg_alpha': 41.0, 'reg_lambda': 0.6118439059582054}`\nObjective candidate: survival:aft\nObjective candidate: binary:hinge\nObjective candidate: multi:softmax\nObjective candidate: multi:softprob\nObjective candidate: rank:pairwise\nObjective candidate: rank:ndcg\nObjective candidate: rank:map\nObjective candidate: reg:squarederror\nObjective candidate: reg:squaredlogerror\nObjective candidate: reg:logistic\nObjective candidate: reg:pseudohubererror\nObjective candidate: binary:logistic\nObjective candidate: binary:logitraw\nObjective candidate: reg:linear\nObjective candidate: count:poisson\nObjective candidate: survival:cox\nObjective candidate: reg:gamma\nObjective candidate: reg:tweedie\n",
     "output_type": "error",
     "traceback": [
      "\u001b[1;31m---------------------------------------------------------------------------\u001b[0m",
      "\u001b[1;31mXGBoostError\u001b[0m                              Traceback (most recent call last)",
      "\u001b[1;32m~\\AppData\\Local\\Temp/ipykernel_10760/1668526112.py\u001b[0m in \u001b[0;36m<module>\u001b[1;34m\u001b[0m\n\u001b[0;32m      2\u001b[0m \u001b[1;31m#xgt.set_params(**best_hyperparams)\u001b[0m\u001b[1;33m\u001b[0m\u001b[1;33m\u001b[0m\u001b[1;33m\u001b[0m\u001b[0m\n\u001b[0;32m      3\u001b[0m \u001b[1;33m\u001b[0m\u001b[0m\n\u001b[1;32m----> 4\u001b[1;33m \u001b[0mxgt\u001b[0m\u001b[1;33m.\u001b[0m\u001b[0mfit\u001b[0m\u001b[1;33m(\u001b[0m\u001b[0mxtrain_smot\u001b[0m\u001b[1;33m,\u001b[0m \u001b[0mytrain_smot\u001b[0m\u001b[1;33m)\u001b[0m\u001b[1;33m\u001b[0m\u001b[1;33m\u001b[0m\u001b[0m\n\u001b[0m\u001b[0;32m      5\u001b[0m \u001b[1;33m\u001b[0m\u001b[0m\n\u001b[0;32m      6\u001b[0m \u001b[0mxgb_tuned_smot_prediction\u001b[0m \u001b[1;33m=\u001b[0m \u001b[0mxgt\u001b[0m\u001b[1;33m.\u001b[0m\u001b[0mpredict\u001b[0m\u001b[1;33m(\u001b[0m\u001b[0mxtest_smot\u001b[0m\u001b[1;33m)\u001b[0m\u001b[1;33m\u001b[0m\u001b[1;33m\u001b[0m\u001b[0m\n",
      "\u001b[1;32mD:\\Folder\\main\\Anaconda\\lib\\site-packages\\xgboost\\core.py\u001b[0m in \u001b[0;36minner_f\u001b[1;34m(*args, **kwargs)\u001b[0m\n\u001b[0;32m    504\u001b[0m         \u001b[1;32mfor\u001b[0m \u001b[0mk\u001b[0m\u001b[1;33m,\u001b[0m \u001b[0marg\u001b[0m \u001b[1;32min\u001b[0m \u001b[0mzip\u001b[0m\u001b[1;33m(\u001b[0m\u001b[0msig\u001b[0m\u001b[1;33m.\u001b[0m\u001b[0mparameters\u001b[0m\u001b[1;33m,\u001b[0m \u001b[0margs\u001b[0m\u001b[1;33m)\u001b[0m\u001b[1;33m:\u001b[0m\u001b[1;33m\u001b[0m\u001b[1;33m\u001b[0m\u001b[0m\n\u001b[0;32m    505\u001b[0m             \u001b[0mkwargs\u001b[0m\u001b[1;33m[\u001b[0m\u001b[0mk\u001b[0m\u001b[1;33m]\u001b[0m \u001b[1;33m=\u001b[0m \u001b[0marg\u001b[0m\u001b[1;33m\u001b[0m\u001b[1;33m\u001b[0m\u001b[0m\n\u001b[1;32m--> 506\u001b[1;33m         \u001b[1;32mreturn\u001b[0m \u001b[0mf\u001b[0m\u001b[1;33m(\u001b[0m\u001b[1;33m**\u001b[0m\u001b[0mkwargs\u001b[0m\u001b[1;33m)\u001b[0m\u001b[1;33m\u001b[0m\u001b[1;33m\u001b[0m\u001b[0m\n\u001b[0m\u001b[0;32m    507\u001b[0m \u001b[1;33m\u001b[0m\u001b[0m\n\u001b[0;32m    508\u001b[0m     \u001b[1;32mreturn\u001b[0m \u001b[0minner_f\u001b[0m\u001b[1;33m\u001b[0m\u001b[1;33m\u001b[0m\u001b[0m\n",
      "\u001b[1;32mD:\\Folder\\main\\Anaconda\\lib\\site-packages\\xgboost\\sklearn.py\u001b[0m in \u001b[0;36mfit\u001b[1;34m(self, X, y, sample_weight, base_margin, eval_set, eval_metric, early_stopping_rounds, verbose, xgb_model, sample_weight_eval_set, base_margin_eval_set, feature_weights, callbacks)\u001b[0m\n\u001b[0;32m    798\u001b[0m             \u001b[0mverbose_eval\u001b[0m\u001b[1;33m=\u001b[0m\u001b[0mverbose\u001b[0m\u001b[1;33m,\u001b[0m\u001b[1;33m\u001b[0m\u001b[1;33m\u001b[0m\u001b[0m\n\u001b[0;32m    799\u001b[0m             \u001b[0mxgb_model\u001b[0m\u001b[1;33m=\u001b[0m\u001b[0mmodel\u001b[0m\u001b[1;33m,\u001b[0m\u001b[1;33m\u001b[0m\u001b[1;33m\u001b[0m\u001b[0m\n\u001b[1;32m--> 800\u001b[1;33m             \u001b[0mcallbacks\u001b[0m\u001b[1;33m=\u001b[0m\u001b[0mcallbacks\u001b[0m\u001b[1;33m,\u001b[0m\u001b[1;33m\u001b[0m\u001b[1;33m\u001b[0m\u001b[0m\n\u001b[0m\u001b[0;32m    801\u001b[0m         )\n\u001b[0;32m    802\u001b[0m \u001b[1;33m\u001b[0m\u001b[0m\n",
      "\u001b[1;32mD:\\Folder\\main\\Anaconda\\lib\\site-packages\\xgboost\\training.py\u001b[0m in \u001b[0;36mtrain\u001b[1;34m(params, dtrain, num_boost_round, evals, obj, feval, maximize, early_stopping_rounds, evals_result, verbose_eval, xgb_model, callbacks)\u001b[0m\n\u001b[0;32m    194\u001b[0m                           \u001b[0mevals_result\u001b[0m\u001b[1;33m=\u001b[0m\u001b[0mevals_result\u001b[0m\u001b[1;33m,\u001b[0m\u001b[1;33m\u001b[0m\u001b[1;33m\u001b[0m\u001b[0m\n\u001b[0;32m    195\u001b[0m                           \u001b[0mmaximize\u001b[0m\u001b[1;33m=\u001b[0m\u001b[0mmaximize\u001b[0m\u001b[1;33m,\u001b[0m\u001b[1;33m\u001b[0m\u001b[1;33m\u001b[0m\u001b[0m\n\u001b[1;32m--> 196\u001b[1;33m                           early_stopping_rounds=early_stopping_rounds)\n\u001b[0m\u001b[0;32m    197\u001b[0m     \u001b[1;32mreturn\u001b[0m \u001b[0mbst\u001b[0m\u001b[1;33m\u001b[0m\u001b[1;33m\u001b[0m\u001b[0m\n\u001b[0;32m    198\u001b[0m \u001b[1;33m\u001b[0m\u001b[0m\n",
      "\u001b[1;32mD:\\Folder\\main\\Anaconda\\lib\\site-packages\\xgboost\\training.py\u001b[0m in \u001b[0;36m_train_internal\u001b[1;34m(params, dtrain, num_boost_round, evals, obj, feval, xgb_model, callbacks, evals_result, maximize, verbose_eval, early_stopping_rounds)\u001b[0m\n\u001b[0;32m     79\u001b[0m         \u001b[1;32mif\u001b[0m \u001b[0mcallbacks\u001b[0m\u001b[1;33m.\u001b[0m\u001b[0mbefore_iteration\u001b[0m\u001b[1;33m(\u001b[0m\u001b[0mbst\u001b[0m\u001b[1;33m,\u001b[0m \u001b[0mi\u001b[0m\u001b[1;33m,\u001b[0m \u001b[0mdtrain\u001b[0m\u001b[1;33m,\u001b[0m \u001b[0mevals\u001b[0m\u001b[1;33m)\u001b[0m\u001b[1;33m:\u001b[0m\u001b[1;33m\u001b[0m\u001b[1;33m\u001b[0m\u001b[0m\n\u001b[0;32m     80\u001b[0m             \u001b[1;32mbreak\u001b[0m\u001b[1;33m\u001b[0m\u001b[1;33m\u001b[0m\u001b[0m\n\u001b[1;32m---> 81\u001b[1;33m         \u001b[0mbst\u001b[0m\u001b[1;33m.\u001b[0m\u001b[0mupdate\u001b[0m\u001b[1;33m(\u001b[0m\u001b[0mdtrain\u001b[0m\u001b[1;33m,\u001b[0m \u001b[0mi\u001b[0m\u001b[1;33m,\u001b[0m \u001b[0mobj\u001b[0m\u001b[1;33m)\u001b[0m\u001b[1;33m\u001b[0m\u001b[1;33m\u001b[0m\u001b[0m\n\u001b[0m\u001b[0;32m     82\u001b[0m         \u001b[1;32mif\u001b[0m \u001b[0mcallbacks\u001b[0m\u001b[1;33m.\u001b[0m\u001b[0mafter_iteration\u001b[0m\u001b[1;33m(\u001b[0m\u001b[0mbst\u001b[0m\u001b[1;33m,\u001b[0m \u001b[0mi\u001b[0m\u001b[1;33m,\u001b[0m \u001b[0mdtrain\u001b[0m\u001b[1;33m,\u001b[0m \u001b[0mevals\u001b[0m\u001b[1;33m)\u001b[0m\u001b[1;33m:\u001b[0m\u001b[1;33m\u001b[0m\u001b[1;33m\u001b[0m\u001b[0m\n\u001b[0;32m     83\u001b[0m             \u001b[1;32mbreak\u001b[0m\u001b[1;33m\u001b[0m\u001b[1;33m\u001b[0m\u001b[0m\n",
      "\u001b[1;32mD:\\Folder\\main\\Anaconda\\lib\\site-packages\\xgboost\\core.py\u001b[0m in \u001b[0;36mupdate\u001b[1;34m(self, dtrain, iteration, fobj)\u001b[0m\n\u001b[0;32m   1680\u001b[0m             _check_call(_LIB.XGBoosterUpdateOneIter(self.handle,\n\u001b[0;32m   1681\u001b[0m                                                     \u001b[0mctypes\u001b[0m\u001b[1;33m.\u001b[0m\u001b[0mc_int\u001b[0m\u001b[1;33m(\u001b[0m\u001b[0miteration\u001b[0m\u001b[1;33m)\u001b[0m\u001b[1;33m,\u001b[0m\u001b[1;33m\u001b[0m\u001b[1;33m\u001b[0m\u001b[0m\n\u001b[1;32m-> 1682\u001b[1;33m                                                     dtrain.handle))\n\u001b[0m\u001b[0;32m   1683\u001b[0m         \u001b[1;32melse\u001b[0m\u001b[1;33m:\u001b[0m\u001b[1;33m\u001b[0m\u001b[1;33m\u001b[0m\u001b[0m\n\u001b[0;32m   1684\u001b[0m             \u001b[0mpred\u001b[0m \u001b[1;33m=\u001b[0m \u001b[0mself\u001b[0m\u001b[1;33m.\u001b[0m\u001b[0mpredict\u001b[0m\u001b[1;33m(\u001b[0m\u001b[0mdtrain\u001b[0m\u001b[1;33m,\u001b[0m \u001b[0moutput_margin\u001b[0m\u001b[1;33m=\u001b[0m\u001b[1;32mTrue\u001b[0m\u001b[1;33m,\u001b[0m \u001b[0mtraining\u001b[0m\u001b[1;33m=\u001b[0m\u001b[1;32mTrue\u001b[0m\u001b[1;33m)\u001b[0m\u001b[1;33m\u001b[0m\u001b[1;33m\u001b[0m\u001b[0m\n",
      "\u001b[1;32mD:\\Folder\\main\\Anaconda\\lib\\site-packages\\xgboost\\core.py\u001b[0m in \u001b[0;36m_check_call\u001b[1;34m(ret)\u001b[0m\n\u001b[0;32m    216\u001b[0m     \"\"\"\n\u001b[0;32m    217\u001b[0m     \u001b[1;32mif\u001b[0m \u001b[0mret\u001b[0m \u001b[1;33m!=\u001b[0m \u001b[1;36m0\u001b[0m\u001b[1;33m:\u001b[0m\u001b[1;33m\u001b[0m\u001b[1;33m\u001b[0m\u001b[0m\n\u001b[1;32m--> 218\u001b[1;33m         \u001b[1;32mraise\u001b[0m \u001b[0mXGBoostError\u001b[0m\u001b[1;33m(\u001b[0m\u001b[0mpy_str\u001b[0m\u001b[1;33m(\u001b[0m\u001b[0m_LIB\u001b[0m\u001b[1;33m.\u001b[0m\u001b[0mXGBGetLastError\u001b[0m\u001b[1;33m(\u001b[0m\u001b[1;33m)\u001b[0m\u001b[1;33m)\u001b[0m\u001b[1;33m)\u001b[0m\u001b[1;33m\u001b[0m\u001b[1;33m\u001b[0m\u001b[0m\n\u001b[0m\u001b[0;32m    219\u001b[0m \u001b[1;33m\u001b[0m\u001b[0m\n\u001b[0;32m    220\u001b[0m \u001b[1;33m\u001b[0m\u001b[0m\n",
      "\u001b[1;31mXGBoostError\u001b[0m: [21:04:22] C:\\Windows\\Temp\\abs_557yfx631l\\croots\\recipe\\xgboost-split_1659548953302\\work\\src\\objective\\objective.cc:26: Unknown objective function: `{'colsample_bytree': 0.9905250031928715, 'gamma': 1.0311980465001422, 'max_depth': 5.0, 'min_child_weight': 9.0, 'reg_alpha': 41.0, 'reg_lambda': 0.6118439059582054}`\nObjective candidate: survival:aft\nObjective candidate: binary:hinge\nObjective candidate: multi:softmax\nObjective candidate: multi:softprob\nObjective candidate: rank:pairwise\nObjective candidate: rank:ndcg\nObjective candidate: rank:map\nObjective candidate: reg:squarederror\nObjective candidate: reg:squaredlogerror\nObjective candidate: reg:logistic\nObjective candidate: reg:pseudohubererror\nObjective candidate: binary:logistic\nObjective candidate: binary:logitraw\nObjective candidate: reg:linear\nObjective candidate: count:poisson\nObjective candidate: survival:cox\nObjective candidate: reg:gamma\nObjective candidate: reg:tweedie\n"
     ]
    }
   ],
   "source": [
    "xgt = XGBRegressor(best_hyperparams)\n",
    "#xgt.set_params(**best_hyperparams)\n",
    "\n",
    "model = xgt\n",
    "xgt.fit(xtrain_smot, ytrain_smot)\n",
    "\n",
    "xgb_tuned_smot_prediction = xgt.predict(xtest_smot)\n",
    "xgb_tuned_smot_pred = np.round(xgb_tuned_smot_prediction)\n",
    "\n",
    "xgb_tuned_smot_accuracy = accuracy_score(ytest_smot, xgb_tuned_smot_pred)\n",
    "print('accuracy: ', xgb_tuned_smot_accuracy)\n",
    "\n",
    "xgb_tuned_smot_precision = precision_score(ytest_smot, xgb_tuned_smot_pred)\n",
    "print('precision: ', xgb_tuned_smot_precision)\n",
    "\n",
    "xgb_tuned_smot_recall = recall_score(ytest_smot, xgb_tuned_smot_pred)\n",
    "print('recall: ', xgb_tuned_smot_recall)\n",
    "\n",
    "xgb_tuned_smot_f1 = f1_score(ytest_smot, xgb_tuned_smot_pred)\n",
    "print('f1: ', xgb_tuned_smot_f1)\n",
    "\n",
    "xgb_tuned_smot_confusion_matrix = confusion_matrix(ytest_smot, xgb_tuned_smot_pred)\n",
    "xgb_tuned_smot_confusion_matrix.astype('float')/ xgb_tuned_smot_confusion_matrix.sum(axis=1)[:,np.newaxis]"
   ]
  },
  {
   "cell_type": "code",
   "execution_count": 132,
   "id": "0600174d",
   "metadata": {},
   "outputs": [
    {
     "data": {
      "text/plain": [
       "XGBRegressor(base_score=None, booster=None, colsample_bylevel=None,\n",
       "             colsample_bynode=None, colsample_bytree=0.9905250031928715,\n",
       "             enable_categorical=False, gamma=1.0311980465001422, gpu_id=None,\n",
       "             importance_type=None, interaction_constraints=None,\n",
       "             learning_rate=None, max_delta_step=None, max_depth=5.0,\n",
       "             min_child_weight=9.0, missing=nan, monotone_constraints=None,\n",
       "             n_e...el_tree=None,\n",
       "             objective={'colsample_bytree': 0.9905250031928715,\n",
       "                        'gamma': 1.0311980465001422, 'max_depth': 5.0,\n",
       "                        'min_child_weight': 9.0, 'reg_alpha': 41.0,\n",
       "                        'reg_lambda': 0.6118439059582054},\n",
       "             predictor=None, random_state=None, reg_alpha=41.0,\n",
       "             reg_lambda=0.6118439059582054, scale_pos_weight=None,\n",
       "             subsample=None, tree_method=None, validate_parameters=None,\n",
       "             verbosity=None)"
      ]
     },
     "execution_count": 132,
     "metadata": {},
     "output_type": "execute_result"
    }
   ],
   "source": []
  },
  {
   "cell_type": "markdown",
   "id": "b9a746c9",
   "metadata": {},
   "source": [
    "---"
   ]
  },
  {
   "cell_type": "code",
   "execution_count": 118,
   "id": "2813e7dd",
   "metadata": {},
   "outputs": [],
   "source": [
    "space={'max_depth': hp.quniform(\"max_depth\", 3, 18, 1),\n",
    "        'gamma': hp.uniform ('gamma', 1,9),\n",
    "        'reg_alpha' : hp.quniform('reg_alpha', 40,180,1),\n",
    "        'reg_lambda' : hp.uniform('reg_lambda', 0,1),\n",
    "        'colsample_bytree' : hp.uniform('colsample_bytree', 0.5,1),\n",
    "        'min_child_weight' : hp.quniform('min_child_weight', 0, 10, 1),\n",
    "        'n_estimators': 180,\n",
    "        'seed': 0\n",
    "    }"
   ]
  },
  {
   "cell_type": "markdown",
   "id": "b5155ad7",
   "metadata": {},
   "source": [
    "## Using SMOTE-NC data"
   ]
  },
  {
   "cell_type": "code",
   "execution_count": 127,
   "id": "33f5f2f8",
   "metadata": {},
   "outputs": [
    {
     "name": "stdout",
     "output_type": "stream",
     "text": [
      "\r",
      "  0%|                                                                          | 0/100 [00:00<?, ?trial/s, best loss=?]"
     ]
    },
    {
     "name": "stderr",
     "output_type": "stream",
     "text": [
      "D:\\Folder\\main\\Anaconda\\lib\\site-packages\\xgboost\\sklearn.py:1224: UserWarning: The use of label encoder in XGBClassifier is deprecated and will be removed in a future release. To remove this warning, do the following: 1) Pass option use_label_encoder=False when constructing XGBClassifier object; and 2) Encode your labels (y) as integers starting with 0, i.e. 0, 1, 2, ..., [num_class - 1].\n",
      "  warnings.warn(label_encoder_deprecation_msg, UserWarning)\n",
      "\n"
     ]
    },
    {
     "name": "stdout",
     "output_type": "stream",
     "text": [
      "SCORE:                                                                                                                 \n",
      "0.8000968054211036                                                                                                     \n",
      "  1%|▍                                              | 1/100 [00:00<01:22,  1.20trial/s, best loss: -0.8000968054211036]"
     ]
    },
    {
     "name": "stderr",
     "output_type": "stream",
     "text": [
      "D:\\Folder\\main\\Anaconda\\lib\\site-packages\\xgboost\\sklearn.py:1224: UserWarning: The use of label encoder in XGBClassifier is deprecated and will be removed in a future release. To remove this warning, do the following: 1) Pass option use_label_encoder=False when constructing XGBClassifier object; and 2) Encode your labels (y) as integers starting with 0, i.e. 0, 1, 2, ..., [num_class - 1].\n",
      "  warnings.warn(label_encoder_deprecation_msg, UserWarning)\n",
      "\n"
     ]
    },
    {
     "name": "stdout",
     "output_type": "stream",
     "text": [
      "SCORE:                                                                                                                 \n",
      "0.7996127783155856                                                                                                     \n",
      "  2%|▉                                              | 2/100 [00:01<01:21,  1.21trial/s, best loss: -0.8000968054211036]"
     ]
    },
    {
     "name": "stderr",
     "output_type": "stream",
     "text": [
      "D:\\Folder\\main\\Anaconda\\lib\\site-packages\\xgboost\\sklearn.py:1224: UserWarning: The use of label encoder in XGBClassifier is deprecated and will be removed in a future release. To remove this warning, do the following: 1) Pass option use_label_encoder=False when constructing XGBClassifier object; and 2) Encode your labels (y) as integers starting with 0, i.e. 0, 1, 2, ..., [num_class - 1].\n",
      "  warnings.warn(label_encoder_deprecation_msg, UserWarning)\n",
      "\n"
     ]
    },
    {
     "name": "stdout",
     "output_type": "stream",
     "text": [
      "SCORE:                                                                                                                 \n",
      "0.8015488867376573                                                                                                     \n",
      "  3%|█▍                                             | 3/100 [00:01<00:53,  1.82trial/s, best loss: -0.8015488867376573]"
     ]
    },
    {
     "name": "stderr",
     "output_type": "stream",
     "text": [
      "D:\\Folder\\main\\Anaconda\\lib\\site-packages\\xgboost\\sklearn.py:1224: UserWarning: The use of label encoder in XGBClassifier is deprecated and will be removed in a future release. To remove this warning, do the following: 1) Pass option use_label_encoder=False when constructing XGBClassifier object; and 2) Encode your labels (y) as integers starting with 0, i.e. 0, 1, 2, ..., [num_class - 1].\n",
      "  warnings.warn(label_encoder_deprecation_msg, UserWarning)\n",
      "\n"
     ]
    },
    {
     "name": "stdout",
     "output_type": "stream",
     "text": [
      "SCORE:                                                                                                                 \n",
      "0.7991287512100678                                                                                                     \n",
      "  4%|█▉                                             | 4/100 [00:02<00:39,  2.42trial/s, best loss: -0.8015488867376573]"
     ]
    },
    {
     "name": "stderr",
     "output_type": "stream",
     "text": [
      "D:\\Folder\\main\\Anaconda\\lib\\site-packages\\xgboost\\sklearn.py:1224: UserWarning: The use of label encoder in XGBClassifier is deprecated and will be removed in a future release. To remove this warning, do the following: 1) Pass option use_label_encoder=False when constructing XGBClassifier object; and 2) Encode your labels (y) as integers starting with 0, i.e. 0, 1, 2, ..., [num_class - 1].\n",
      "  warnings.warn(label_encoder_deprecation_msg, UserWarning)\n",
      "\n"
     ]
    },
    {
     "name": "stdout",
     "output_type": "stream",
     "text": [
      "SCORE:                                                                                                                 \n",
      "0.8034849951597289                                                                                                     \n",
      "  5%|██▎                                            | 5/100 [00:02<00:32,  2.93trial/s, best loss: -0.8034849951597289]"
     ]
    },
    {
     "name": "stderr",
     "output_type": "stream",
     "text": [
      "D:\\Folder\\main\\Anaconda\\lib\\site-packages\\xgboost\\sklearn.py:1224: UserWarning: The use of label encoder in XGBClassifier is deprecated and will be removed in a future release. To remove this warning, do the following: 1) Pass option use_label_encoder=False when constructing XGBClassifier object; and 2) Encode your labels (y) as integers starting with 0, i.e. 0, 1, 2, ..., [num_class - 1].\n",
      "  warnings.warn(label_encoder_deprecation_msg, UserWarning)\n",
      "\n"
     ]
    },
    {
     "name": "stdout",
     "output_type": "stream",
     "text": [
      "SCORE:                                                                                                                 \n",
      "0.8020329138431752                                                                                                     \n",
      "SCORE:                                                                                                                 \n",
      "0.7879961277831559                                                                                                     \n",
      "  7%|███▎                                           | 7/100 [00:02<00:23,  4.02trial/s, best loss: -0.8034849951597289]"
     ]
    },
    {
     "name": "stderr",
     "output_type": "stream",
     "text": [
      "D:\\Folder\\main\\Anaconda\\lib\\site-packages\\xgboost\\sklearn.py:1224: UserWarning: The use of label encoder in XGBClassifier is deprecated and will be removed in a future release. To remove this warning, do the following: 1) Pass option use_label_encoder=False when constructing XGBClassifier object; and 2) Encode your labels (y) as integers starting with 0, i.e. 0, 1, 2, ..., [num_class - 1].\n",
      "  warnings.warn(label_encoder_deprecation_msg, UserWarning)\n",
      "\n",
      "D:\\Folder\\main\\Anaconda\\lib\\site-packages\\xgboost\\sklearn.py:1224: UserWarning: The use of label encoder in XGBClassifier is deprecated and will be removed in a future release. To remove this warning, do the following: 1) Pass option use_label_encoder=False when constructing XGBClassifier object; and 2) Encode your labels (y) as integers starting with 0, i.e. 0, 1, 2, ..., [num_class - 1].\n",
      "  warnings.warn(label_encoder_deprecation_msg, UserWarning)\n",
      "\n"
     ]
    },
    {
     "name": "stdout",
     "output_type": "stream",
     "text": [
      "SCORE:                                                                                                                 \n",
      "0.7933204259438529                                                                                                     \n",
      "  8%|███▊                                           | 8/100 [00:02<00:21,  4.19trial/s, best loss: -0.8034849951597289]"
     ]
    },
    {
     "name": "stderr",
     "output_type": "stream",
     "text": [
      "D:\\Folder\\main\\Anaconda\\lib\\site-packages\\xgboost\\sklearn.py:1224: UserWarning: The use of label encoder in XGBClassifier is deprecated and will be removed in a future release. To remove this warning, do the following: 1) Pass option use_label_encoder=False when constructing XGBClassifier object; and 2) Encode your labels (y) as integers starting with 0, i.e. 0, 1, 2, ..., [num_class - 1].\n",
      "  warnings.warn(label_encoder_deprecation_msg, UserWarning)\n",
      "\n"
     ]
    },
    {
     "name": "stdout",
     "output_type": "stream",
     "text": [
      "SCORE:                                                                                                                 \n",
      "0.8020329138431752                                                                                                     \n",
      "  9%|████▏                                          | 9/100 [00:03<00:20,  4.37trial/s, best loss: -0.8034849951597289]"
     ]
    },
    {
     "name": "stderr",
     "output_type": "stream",
     "text": [
      "D:\\Folder\\main\\Anaconda\\lib\\site-packages\\xgboost\\sklearn.py:1224: UserWarning: The use of label encoder in XGBClassifier is deprecated and will be removed in a future release. To remove this warning, do the following: 1) Pass option use_label_encoder=False when constructing XGBClassifier object; and 2) Encode your labels (y) as integers starting with 0, i.e. 0, 1, 2, ..., [num_class - 1].\n",
      "  warnings.warn(label_encoder_deprecation_msg, UserWarning)\n",
      "\n"
     ]
    },
    {
     "name": "stdout",
     "output_type": "stream",
     "text": [
      "SCORE:                                                                                                                 \n",
      "0.7996127783155856                                                                                                     \n",
      " 10%|████▌                                         | 10/100 [00:03<00:19,  4.51trial/s, best loss: -0.8034849951597289]"
     ]
    },
    {
     "name": "stderr",
     "output_type": "stream",
     "text": [
      "D:\\Folder\\main\\Anaconda\\lib\\site-packages\\xgboost\\sklearn.py:1224: UserWarning: The use of label encoder in XGBClassifier is deprecated and will be removed in a future release. To remove this warning, do the following: 1) Pass option use_label_encoder=False when constructing XGBClassifier object; and 2) Encode your labels (y) as integers starting with 0, i.e. 0, 1, 2, ..., [num_class - 1].\n",
      "  warnings.warn(label_encoder_deprecation_msg, UserWarning)\n",
      "\n"
     ]
    },
    {
     "name": "stdout",
     "output_type": "stream",
     "text": [
      "SCORE:                                                                                                                 \n",
      "0.7957405614714425                                                                                                     \n",
      " 11%|█████                                         | 11/100 [00:03<00:21,  4.22trial/s, best loss: -0.8034849951597289]"
     ]
    },
    {
     "name": "stderr",
     "output_type": "stream",
     "text": [
      "D:\\Folder\\main\\Anaconda\\lib\\site-packages\\xgboost\\sklearn.py:1224: UserWarning: The use of label encoder in XGBClassifier is deprecated and will be removed in a future release. To remove this warning, do the following: 1) Pass option use_label_encoder=False when constructing XGBClassifier object; and 2) Encode your labels (y) as integers starting with 0, i.e. 0, 1, 2, ..., [num_class - 1].\n",
      "  warnings.warn(label_encoder_deprecation_msg, UserWarning)\n",
      "\n"
     ]
    },
    {
     "name": "stdout",
     "output_type": "stream",
     "text": [
      "SCORE:                                                                                                                 \n",
      "0.7952565343659245                                                                                                     \n",
      " 12%|█████▌                                        | 12/100 [00:03<00:20,  4.36trial/s, best loss: -0.8034849951597289]"
     ]
    },
    {
     "name": "stderr",
     "output_type": "stream",
     "text": [
      "D:\\Folder\\main\\Anaconda\\lib\\site-packages\\xgboost\\sklearn.py:1224: UserWarning: The use of label encoder in XGBClassifier is deprecated and will be removed in a future release. To remove this warning, do the following: 1) Pass option use_label_encoder=False when constructing XGBClassifier object; and 2) Encode your labels (y) as integers starting with 0, i.e. 0, 1, 2, ..., [num_class - 1].\n",
      "  warnings.warn(label_encoder_deprecation_msg, UserWarning)\n",
      "\n"
     ]
    },
    {
     "name": "stdout",
     "output_type": "stream",
     "text": [
      "SCORE:                                                                                                                 \n",
      "0.7991287512100678                                                                                                     \n",
      " 13%|█████▉                                        | 13/100 [00:03<00:19,  4.51trial/s, best loss: -0.8034849951597289]"
     ]
    },
    {
     "name": "stderr",
     "output_type": "stream",
     "text": [
      "D:\\Folder\\main\\Anaconda\\lib\\site-packages\\xgboost\\sklearn.py:1224: UserWarning: The use of label encoder in XGBClassifier is deprecated and will be removed in a future release. To remove this warning, do the following: 1) Pass option use_label_encoder=False when constructing XGBClassifier object; and 2) Encode your labels (y) as integers starting with 0, i.e. 0, 1, 2, ..., [num_class - 1].\n",
      "  warnings.warn(label_encoder_deprecation_msg, UserWarning)\n",
      "\n"
     ]
    },
    {
     "name": "stdout",
     "output_type": "stream",
     "text": [
      "SCORE:                                                                                                                 \n",
      "0.7986447241045499                                                                                                     \n",
      " 14%|██████▍                                       | 14/100 [00:04<00:18,  4.61trial/s, best loss: -0.8034849951597289]"
     ]
    },
    {
     "name": "stderr",
     "output_type": "stream",
     "text": [
      "D:\\Folder\\main\\Anaconda\\lib\\site-packages\\xgboost\\sklearn.py:1224: UserWarning: The use of label encoder in XGBClassifier is deprecated and will be removed in a future release. To remove this warning, do the following: 1) Pass option use_label_encoder=False when constructing XGBClassifier object; and 2) Encode your labels (y) as integers starting with 0, i.e. 0, 1, 2, ..., [num_class - 1].\n",
      "  warnings.warn(label_encoder_deprecation_msg, UserWarning)\n",
      "\n"
     ]
    },
    {
     "name": "stdout",
     "output_type": "stream",
     "text": [
      "SCORE:                                                                                                                 \n",
      "0.7991287512100678                                                                                                     \n",
      " 15%|██████▉                                       | 15/100 [00:04<00:18,  4.63trial/s, best loss: -0.8034849951597289]"
     ]
    },
    {
     "name": "stderr",
     "output_type": "stream",
     "text": [
      "D:\\Folder\\main\\Anaconda\\lib\\site-packages\\xgboost\\sklearn.py:1224: UserWarning: The use of label encoder in XGBClassifier is deprecated and will be removed in a future release. To remove this warning, do the following: 1) Pass option use_label_encoder=False when constructing XGBClassifier object; and 2) Encode your labels (y) as integers starting with 0, i.e. 0, 1, 2, ..., [num_class - 1].\n",
      "  warnings.warn(label_encoder_deprecation_msg, UserWarning)\n",
      "\n"
     ]
    },
    {
     "name": "stdout",
     "output_type": "stream",
     "text": [
      "SCORE:                                                                                                                 \n",
      "0.797676669893514                                                                                                      \n",
      " 16%|███████▎                                      | 16/100 [00:04<00:18,  4.62trial/s, best loss: -0.8034849951597289]"
     ]
    },
    {
     "name": "stderr",
     "output_type": "stream",
     "text": [
      "D:\\Folder\\main\\Anaconda\\lib\\site-packages\\xgboost\\sklearn.py:1224: UserWarning: The use of label encoder in XGBClassifier is deprecated and will be removed in a future release. To remove this warning, do the following: 1) Pass option use_label_encoder=False when constructing XGBClassifier object; and 2) Encode your labels (y) as integers starting with 0, i.e. 0, 1, 2, ..., [num_class - 1].\n",
      "  warnings.warn(label_encoder_deprecation_msg, UserWarning)\n",
      "\n"
     ]
    },
    {
     "name": "stdout",
     "output_type": "stream",
     "text": [
      "SCORE:                                                                                                                 \n",
      "0.7996127783155856                                                                                                     \n",
      " 17%|███████▊                                      | 17/100 [00:04<00:18,  4.51trial/s, best loss: -0.8034849951597289]"
     ]
    },
    {
     "name": "stderr",
     "output_type": "stream",
     "text": [
      "D:\\Folder\\main\\Anaconda\\lib\\site-packages\\xgboost\\sklearn.py:1224: UserWarning: The use of label encoder in XGBClassifier is deprecated and will be removed in a future release. To remove this warning, do the following: 1) Pass option use_label_encoder=False when constructing XGBClassifier object; and 2) Encode your labels (y) as integers starting with 0, i.e. 0, 1, 2, ..., [num_class - 1].\n",
      "  warnings.warn(label_encoder_deprecation_msg, UserWarning)\n",
      "\n"
     ]
    },
    {
     "name": "stdout",
     "output_type": "stream",
     "text": [
      "SCORE:                                                                                                                 \n",
      "0.8054211035818006                                                                                                     \n",
      " 18%|████████▎                                     | 18/100 [00:05<00:18,  4.45trial/s, best loss: -0.8054211035818006]"
     ]
    },
    {
     "name": "stderr",
     "output_type": "stream",
     "text": [
      "D:\\Folder\\main\\Anaconda\\lib\\site-packages\\xgboost\\sklearn.py:1224: UserWarning: The use of label encoder in XGBClassifier is deprecated and will be removed in a future release. To remove this warning, do the following: 1) Pass option use_label_encoder=False when constructing XGBClassifier object; and 2) Encode your labels (y) as integers starting with 0, i.e. 0, 1, 2, ..., [num_class - 1].\n",
      "  warnings.warn(label_encoder_deprecation_msg, UserWarning)\n",
      "\n"
     ]
    },
    {
     "name": "stdout",
     "output_type": "stream",
     "text": [
      "SCORE:                                                                                                                 \n",
      "0.8005808325266215                                                                                                     \n",
      "SCORE:                                                                                                                 \n",
      "0.7879961277831559                                                                                                     \n",
      " 20%|█████████▏                                    | 20/100 [00:05<00:15,  5.17trial/s, best loss: -0.8054211035818006]"
     ]
    },
    {
     "name": "stderr",
     "output_type": "stream",
     "text": [
      "D:\\Folder\\main\\Anaconda\\lib\\site-packages\\xgboost\\sklearn.py:1224: UserWarning: The use of label encoder in XGBClassifier is deprecated and will be removed in a future release. To remove this warning, do the following: 1) Pass option use_label_encoder=False when constructing XGBClassifier object; and 2) Encode your labels (y) as integers starting with 0, i.e. 0, 1, 2, ..., [num_class - 1].\n",
      "  warnings.warn(label_encoder_deprecation_msg, UserWarning)\n",
      "\n",
      "D:\\Folder\\main\\Anaconda\\lib\\site-packages\\xgboost\\sklearn.py:1224: UserWarning: The use of label encoder in XGBClassifier is deprecated and will be removed in a future release. To remove this warning, do the following: 1) Pass option use_label_encoder=False when constructing XGBClassifier object; and 2) Encode your labels (y) as integers starting with 0, i.e. 0, 1, 2, ..., [num_class - 1].\n",
      "  warnings.warn(label_encoder_deprecation_msg, UserWarning)\n",
      "\n"
     ]
    },
    {
     "name": "stdout",
     "output_type": "stream",
     "text": [
      "SCORE:                                                                                                                 \n",
      "0.8034849951597289                                                                                                     \n",
      " 21%|█████████▋                                    | 21/100 [00:05<00:19,  4.01trial/s, best loss: -0.8054211035818006]"
     ]
    },
    {
     "name": "stderr",
     "output_type": "stream",
     "text": [
      "D:\\Folder\\main\\Anaconda\\lib\\site-packages\\xgboost\\sklearn.py:1224: UserWarning: The use of label encoder in XGBClassifier is deprecated and will be removed in a future release. To remove this warning, do the following: 1) Pass option use_label_encoder=False when constructing XGBClassifier object; and 2) Encode your labels (y) as integers starting with 0, i.e. 0, 1, 2, ..., [num_class - 1].\n",
      "  warnings.warn(label_encoder_deprecation_msg, UserWarning)\n",
      "\n"
     ]
    },
    {
     "name": "stdout",
     "output_type": "stream",
     "text": [
      "SCORE:                                                                                                                 \n",
      "0.8015488867376573                                                                                                     \n",
      "SCORE:                                                                                                                 \n",
      "0.7947725072604066                                                                                                     \n",
      " 23%|██████████▌                                   | 23/100 [00:06<00:16,  4.80trial/s, best loss: -0.8054211035818006]"
     ]
    },
    {
     "name": "stderr",
     "output_type": "stream",
     "text": [
      "D:\\Folder\\main\\Anaconda\\lib\\site-packages\\xgboost\\sklearn.py:1224: UserWarning: The use of label encoder in XGBClassifier is deprecated and will be removed in a future release. To remove this warning, do the following: 1) Pass option use_label_encoder=False when constructing XGBClassifier object; and 2) Encode your labels (y) as integers starting with 0, i.e. 0, 1, 2, ..., [num_class - 1].\n",
      "  warnings.warn(label_encoder_deprecation_msg, UserWarning)\n",
      "\n",
      "D:\\Folder\\main\\Anaconda\\lib\\site-packages\\xgboost\\sklearn.py:1224: UserWarning: The use of label encoder in XGBClassifier is deprecated and will be removed in a future release. To remove this warning, do the following: 1) Pass option use_label_encoder=False when constructing XGBClassifier object; and 2) Encode your labels (y) as integers starting with 0, i.e. 0, 1, 2, ..., [num_class - 1].\n",
      "  warnings.warn(label_encoder_deprecation_msg, UserWarning)\n",
      "\n"
     ]
    },
    {
     "name": "stdout",
     "output_type": "stream",
     "text": [
      "SCORE:                                                                                                                 \n",
      "0.8034849951597289                                                                                                     \n",
      " 24%|███████████                                   | 24/100 [00:06<00:16,  4.69trial/s, best loss: -0.8054211035818006]"
     ]
    },
    {
     "name": "stderr",
     "output_type": "stream",
     "text": [
      "D:\\Folder\\main\\Anaconda\\lib\\site-packages\\xgboost\\sklearn.py:1224: UserWarning: The use of label encoder in XGBClassifier is deprecated and will be removed in a future release. To remove this warning, do the following: 1) Pass option use_label_encoder=False when constructing XGBClassifier object; and 2) Encode your labels (y) as integers starting with 0, i.e. 0, 1, 2, ..., [num_class - 1].\n",
      "  warnings.warn(label_encoder_deprecation_msg, UserWarning)\n",
      "\n"
     ]
    },
    {
     "name": "stdout",
     "output_type": "stream",
     "text": [
      "SCORE:                                                                                                                 \n",
      "0.7996127783155856                                                                                                     \n",
      " 25%|███████████▌                                  | 25/100 [00:06<00:16,  4.62trial/s, best loss: -0.8054211035818006]"
     ]
    },
    {
     "name": "stderr",
     "output_type": "stream",
     "text": [
      "D:\\Folder\\main\\Anaconda\\lib\\site-packages\\xgboost\\sklearn.py:1224: UserWarning: The use of label encoder in XGBClassifier is deprecated and will be removed in a future release. To remove this warning, do the following: 1) Pass option use_label_encoder=False when constructing XGBClassifier object; and 2) Encode your labels (y) as integers starting with 0, i.e. 0, 1, 2, ..., [num_class - 1].\n",
      "  warnings.warn(label_encoder_deprecation_msg, UserWarning)\n",
      "\n"
     ]
    },
    {
     "name": "stdout",
     "output_type": "stream",
     "text": [
      "SCORE:                                                                                                                 \n",
      "0.8030009680542111                                                                                                     \n",
      " 26%|███████████▉                                  | 26/100 [00:06<00:16,  4.47trial/s, best loss: -0.8054211035818006]"
     ]
    },
    {
     "name": "stderr",
     "output_type": "stream",
     "text": [
      "D:\\Folder\\main\\Anaconda\\lib\\site-packages\\xgboost\\sklearn.py:1224: UserWarning: The use of label encoder in XGBClassifier is deprecated and will be removed in a future release. To remove this warning, do the following: 1) Pass option use_label_encoder=False when constructing XGBClassifier object; and 2) Encode your labels (y) as integers starting with 0, i.e. 0, 1, 2, ..., [num_class - 1].\n",
      "  warnings.warn(label_encoder_deprecation_msg, UserWarning)\n",
      "\n"
     ]
    },
    {
     "name": "stdout",
     "output_type": "stream",
     "text": [
      "SCORE:                                                                                                                 \n",
      "0.8005808325266215                                                                                                     \n",
      " 27%|████████████▍                                 | 27/100 [00:07<00:16,  4.43trial/s, best loss: -0.8054211035818006]"
     ]
    },
    {
     "name": "stderr",
     "output_type": "stream",
     "text": [
      "D:\\Folder\\main\\Anaconda\\lib\\site-packages\\xgboost\\sklearn.py:1224: UserWarning: The use of label encoder in XGBClassifier is deprecated and will be removed in a future release. To remove this warning, do the following: 1) Pass option use_label_encoder=False when constructing XGBClassifier object; and 2) Encode your labels (y) as integers starting with 0, i.e. 0, 1, 2, ..., [num_class - 1].\n",
      "  warnings.warn(label_encoder_deprecation_msg, UserWarning)\n",
      "\n"
     ]
    },
    {
     "name": "stdout",
     "output_type": "stream",
     "text": [
      "SCORE:                                                                                                                 \n",
      "0.7986447241045499                                                                                                     \n",
      " 28%|████████████▉                                 | 28/100 [00:07<00:16,  4.42trial/s, best loss: -0.8054211035818006]"
     ]
    },
    {
     "name": "stderr",
     "output_type": "stream",
     "text": [
      "D:\\Folder\\main\\Anaconda\\lib\\site-packages\\xgboost\\sklearn.py:1224: UserWarning: The use of label encoder in XGBClassifier is deprecated and will be removed in a future release. To remove this warning, do the following: 1) Pass option use_label_encoder=False when constructing XGBClassifier object; and 2) Encode your labels (y) as integers starting with 0, i.e. 0, 1, 2, ..., [num_class - 1].\n",
      "  warnings.warn(label_encoder_deprecation_msg, UserWarning)\n",
      "\n"
     ]
    },
    {
     "name": "stdout",
     "output_type": "stream",
     "text": [
      "SCORE:                                                                                                                 \n",
      "0.8059051306873185                                                                                                     \n",
      " 29%|█████████████▎                                | 29/100 [00:07<00:16,  4.28trial/s, best loss: -0.8059051306873185]"
     ]
    },
    {
     "name": "stderr",
     "output_type": "stream",
     "text": [
      "D:\\Folder\\main\\Anaconda\\lib\\site-packages\\xgboost\\sklearn.py:1224: UserWarning: The use of label encoder in XGBClassifier is deprecated and will be removed in a future release. To remove this warning, do the following: 1) Pass option use_label_encoder=False when constructing XGBClassifier object; and 2) Encode your labels (y) as integers starting with 0, i.e. 0, 1, 2, ..., [num_class - 1].\n",
      "  warnings.warn(label_encoder_deprecation_msg, UserWarning)\n",
      "\n"
     ]
    },
    {
     "name": "stdout",
     "output_type": "stream",
     "text": [
      "SCORE:                                                                                                                 \n",
      "0.8063891577928364                                                                                                     \n",
      " 30%|█████████████▊                                | 30/100 [00:07<00:16,  4.14trial/s, best loss: -0.8063891577928364]"
     ]
    },
    {
     "name": "stderr",
     "output_type": "stream",
     "text": [
      "D:\\Folder\\main\\Anaconda\\lib\\site-packages\\xgboost\\sklearn.py:1224: UserWarning: The use of label encoder in XGBClassifier is deprecated and will be removed in a future release. To remove this warning, do the following: 1) Pass option use_label_encoder=False when constructing XGBClassifier object; and 2) Encode your labels (y) as integers starting with 0, i.e. 0, 1, 2, ..., [num_class - 1].\n",
      "  warnings.warn(label_encoder_deprecation_msg, UserWarning)\n",
      "\n"
     ]
    },
    {
     "name": "stdout",
     "output_type": "stream",
     "text": [
      "SCORE:                                                                                                                 \n",
      "0.7991287512100678                                                                                                     \n",
      "SCORE:                                                                                                                 \n",
      "0.8005808325266215                                                                                                     \n",
      " 31%|██████████████▎                               | 31/100 [00:08<00:16,  4.22trial/s, best loss: -0.8063891577928364]"
     ]
    },
    {
     "name": "stderr",
     "output_type": "stream",
     "text": [
      "D:\\Folder\\main\\Anaconda\\lib\\site-packages\\xgboost\\sklearn.py:1224: UserWarning: The use of label encoder in XGBClassifier is deprecated and will be removed in a future release. To remove this warning, do the following: 1) Pass option use_label_encoder=False when constructing XGBClassifier object; and 2) Encode your labels (y) as integers starting with 0, i.e. 0, 1, 2, ..., [num_class - 1].\n",
      "  warnings.warn(label_encoder_deprecation_msg, UserWarning)\n",
      "\n"
     ]
    },
    {
     "name": "stdout",
     "output_type": "stream",
     "text": [
      "\r",
      " 32%|██████████████▋                               | 32/100 [00:08<00:15,  4.31trial/s, best loss: -0.8063891577928364]"
     ]
    },
    {
     "name": "stderr",
     "output_type": "stream",
     "text": [
      "D:\\Folder\\main\\Anaconda\\lib\\site-packages\\xgboost\\sklearn.py:1224: UserWarning: The use of label encoder in XGBClassifier is deprecated and will be removed in a future release. To remove this warning, do the following: 1) Pass option use_label_encoder=False when constructing XGBClassifier object; and 2) Encode your labels (y) as integers starting with 0, i.e. 0, 1, 2, ..., [num_class - 1].\n",
      "  warnings.warn(label_encoder_deprecation_msg, UserWarning)\n",
      "\n"
     ]
    },
    {
     "name": "stdout",
     "output_type": "stream",
     "text": [
      "SCORE:                                                                                                                 \n",
      "0.8030009680542111                                                                                                     \n",
      " 33%|███████████████▏                              | 33/100 [00:08<00:16,  4.13trial/s, best loss: -0.8063891577928364]"
     ]
    },
    {
     "name": "stderr",
     "output_type": "stream",
     "text": [
      "D:\\Folder\\main\\Anaconda\\lib\\site-packages\\xgboost\\sklearn.py:1224: UserWarning: The use of label encoder in XGBClassifier is deprecated and will be removed in a future release. To remove this warning, do the following: 1) Pass option use_label_encoder=False when constructing XGBClassifier object; and 2) Encode your labels (y) as integers starting with 0, i.e. 0, 1, 2, ..., [num_class - 1].\n",
      "  warnings.warn(label_encoder_deprecation_msg, UserWarning)\n",
      "\n"
     ]
    },
    {
     "name": "stdout",
     "output_type": "stream",
     "text": [
      "SCORE:                                                                                                                 \n",
      "0.7991287512100678                                                                                                     \n",
      " 34%|███████████████▋                              | 34/100 [00:08<00:15,  4.20trial/s, best loss: -0.8063891577928364]"
     ]
    },
    {
     "name": "stderr",
     "output_type": "stream",
     "text": [
      "D:\\Folder\\main\\Anaconda\\lib\\site-packages\\xgboost\\sklearn.py:1224: UserWarning: The use of label encoder in XGBClassifier is deprecated and will be removed in a future release. To remove this warning, do the following: 1) Pass option use_label_encoder=False when constructing XGBClassifier object; and 2) Encode your labels (y) as integers starting with 0, i.e. 0, 1, 2, ..., [num_class - 1].\n",
      "  warnings.warn(label_encoder_deprecation_msg, UserWarning)\n",
      "\n"
     ]
    },
    {
     "name": "stdout",
     "output_type": "stream",
     "text": [
      "SCORE:                                                                                                                 \n",
      "0.7933204259438529                                                                                                     \n",
      " 35%|████████████████                              | 35/100 [00:08<00:15,  4.29trial/s, best loss: -0.8063891577928364]"
     ]
    },
    {
     "name": "stderr",
     "output_type": "stream",
     "text": [
      "D:\\Folder\\main\\Anaconda\\lib\\site-packages\\xgboost\\sklearn.py:1224: UserWarning: The use of label encoder in XGBClassifier is deprecated and will be removed in a future release. To remove this warning, do the following: 1) Pass option use_label_encoder=False when constructing XGBClassifier object; and 2) Encode your labels (y) as integers starting with 0, i.e. 0, 1, 2, ..., [num_class - 1].\n",
      "  warnings.warn(label_encoder_deprecation_msg, UserWarning)\n",
      "\n"
     ]
    },
    {
     "name": "stdout",
     "output_type": "stream",
     "text": [
      "SCORE:                                                                                                                 \n",
      "0.8034849951597289                                                                                                     \n",
      " 36%|████████████████▌                             | 36/100 [00:09<00:15,  4.19trial/s, best loss: -0.8063891577928364]"
     ]
    },
    {
     "name": "stderr",
     "output_type": "stream",
     "text": [
      "D:\\Folder\\main\\Anaconda\\lib\\site-packages\\xgboost\\sklearn.py:1224: UserWarning: The use of label encoder in XGBClassifier is deprecated and will be removed in a future release. To remove this warning, do the following: 1) Pass option use_label_encoder=False when constructing XGBClassifier object; and 2) Encode your labels (y) as integers starting with 0, i.e. 0, 1, 2, ..., [num_class - 1].\n",
      "  warnings.warn(label_encoder_deprecation_msg, UserWarning)\n",
      "\n"
     ]
    },
    {
     "name": "stdout",
     "output_type": "stream",
     "text": [
      "SCORE:                                                                                                                 \n",
      "0.8039690222652468                                                                                                     \n",
      " 37%|█████████████████                             | 37/100 [00:09<00:14,  4.23trial/s, best loss: -0.8063891577928364]"
     ]
    },
    {
     "name": "stderr",
     "output_type": "stream",
     "text": [
      "D:\\Folder\\main\\Anaconda\\lib\\site-packages\\xgboost\\sklearn.py:1224: UserWarning: The use of label encoder in XGBClassifier is deprecated and will be removed in a future release. To remove this warning, do the following: 1) Pass option use_label_encoder=False when constructing XGBClassifier object; and 2) Encode your labels (y) as integers starting with 0, i.e. 0, 1, 2, ..., [num_class - 1].\n",
      "  warnings.warn(label_encoder_deprecation_msg, UserWarning)\n",
      "\n"
     ]
    },
    {
     "name": "stdout",
     "output_type": "stream",
     "text": [
      "SCORE:                                                                                                                 \n",
      "0.797676669893514                                                                                                      \n",
      " 38%|█████████████████▍                            | 38/100 [00:09<00:14,  4.20trial/s, best loss: -0.8063891577928364]"
     ]
    },
    {
     "name": "stderr",
     "output_type": "stream",
     "text": [
      "D:\\Folder\\main\\Anaconda\\lib\\site-packages\\xgboost\\sklearn.py:1224: UserWarning: The use of label encoder in XGBClassifier is deprecated and will be removed in a future release. To remove this warning, do the following: 1) Pass option use_label_encoder=False when constructing XGBClassifier object; and 2) Encode your labels (y) as integers starting with 0, i.e. 0, 1, 2, ..., [num_class - 1].\n",
      "  warnings.warn(label_encoder_deprecation_msg, UserWarning)\n",
      "\n"
     ]
    },
    {
     "name": "stdout",
     "output_type": "stream",
     "text": [
      "SCORE:                                                                                                                 \n",
      "0.7991287512100678                                                                                                     \n",
      " 39%|█████████████████▉                            | 39/100 [00:09<00:14,  4.17trial/s, best loss: -0.8063891577928364]"
     ]
    },
    {
     "name": "stderr",
     "output_type": "stream",
     "text": [
      "D:\\Folder\\main\\Anaconda\\lib\\site-packages\\xgboost\\sklearn.py:1224: UserWarning: The use of label encoder in XGBClassifier is deprecated and will be removed in a future release. To remove this warning, do the following: 1) Pass option use_label_encoder=False when constructing XGBClassifier object; and 2) Encode your labels (y) as integers starting with 0, i.e. 0, 1, 2, ..., [num_class - 1].\n",
      "  warnings.warn(label_encoder_deprecation_msg, UserWarning)\n",
      "\n"
     ]
    },
    {
     "name": "stdout",
     "output_type": "stream",
     "text": [
      "SCORE:                                                                                                                 \n",
      "0.8039690222652468                                                                                                     \n",
      " 40%|██████████████████▍                           | 40/100 [00:10<00:14,  4.09trial/s, best loss: -0.8063891577928364]"
     ]
    },
    {
     "name": "stderr",
     "output_type": "stream",
     "text": [
      "D:\\Folder\\main\\Anaconda\\lib\\site-packages\\xgboost\\sklearn.py:1224: UserWarning: The use of label encoder in XGBClassifier is deprecated and will be removed in a future release. To remove this warning, do the following: 1) Pass option use_label_encoder=False when constructing XGBClassifier object; and 2) Encode your labels (y) as integers starting with 0, i.e. 0, 1, 2, ..., [num_class - 1].\n",
      "  warnings.warn(label_encoder_deprecation_msg, UserWarning)\n",
      "\n"
     ]
    },
    {
     "name": "stdout",
     "output_type": "stream",
     "text": [
      "SCORE:                                                                                                                 \n",
      "0.8010648596321394                                                                                                     \n",
      " 41%|██████████████████▊                           | 41/100 [00:10<00:14,  4.14trial/s, best loss: -0.8063891577928364]"
     ]
    },
    {
     "name": "stderr",
     "output_type": "stream",
     "text": [
      "D:\\Folder\\main\\Anaconda\\lib\\site-packages\\xgboost\\sklearn.py:1224: UserWarning: The use of label encoder in XGBClassifier is deprecated and will be removed in a future release. To remove this warning, do the following: 1) Pass option use_label_encoder=False when constructing XGBClassifier object; and 2) Encode your labels (y) as integers starting with 0, i.e. 0, 1, 2, ..., [num_class - 1].\n",
      "  warnings.warn(label_encoder_deprecation_msg, UserWarning)\n",
      "\n"
     ]
    },
    {
     "name": "stdout",
     "output_type": "stream",
     "text": [
      "SCORE:                                                                                                                 \n",
      "0.8039690222652468                                                                                                     \n",
      " 42%|███████████████████▎                          | 42/100 [00:10<00:14,  3.93trial/s, best loss: -0.8063891577928364]"
     ]
    },
    {
     "name": "stderr",
     "output_type": "stream",
     "text": [
      "D:\\Folder\\main\\Anaconda\\lib\\site-packages\\xgboost\\sklearn.py:1224: UserWarning: The use of label encoder in XGBClassifier is deprecated and will be removed in a future release. To remove this warning, do the following: 1) Pass option use_label_encoder=False when constructing XGBClassifier object; and 2) Encode your labels (y) as integers starting with 0, i.e. 0, 1, 2, ..., [num_class - 1].\n",
      "  warnings.warn(label_encoder_deprecation_msg, UserWarning)\n",
      "\n"
     ]
    },
    {
     "name": "stdout",
     "output_type": "stream",
     "text": [
      "SCORE:                                                                                                                 \n",
      "0.7981606969990319                                                                                                     \n",
      " 43%|███████████████████▊                          | 43/100 [00:10<00:14,  4.02trial/s, best loss: -0.8063891577928364]"
     ]
    },
    {
     "name": "stderr",
     "output_type": "stream",
     "text": [
      "D:\\Folder\\main\\Anaconda\\lib\\site-packages\\xgboost\\sklearn.py:1224: UserWarning: The use of label encoder in XGBClassifier is deprecated and will be removed in a future release. To remove this warning, do the following: 1) Pass option use_label_encoder=False when constructing XGBClassifier object; and 2) Encode your labels (y) as integers starting with 0, i.e. 0, 1, 2, ..., [num_class - 1].\n",
      "  warnings.warn(label_encoder_deprecation_msg, UserWarning)\n",
      "\n"
     ]
    },
    {
     "name": "stdout",
     "output_type": "stream",
     "text": [
      "SCORE:                                                                                                                 \n",
      "0.8034849951597289                                                                                                     \n",
      " 44%|████████████████████▏                         | 44/100 [00:11<00:14,  3.96trial/s, best loss: -0.8063891577928364]"
     ]
    },
    {
     "name": "stderr",
     "output_type": "stream",
     "text": [
      "D:\\Folder\\main\\Anaconda\\lib\\site-packages\\xgboost\\sklearn.py:1224: UserWarning: The use of label encoder in XGBClassifier is deprecated and will be removed in a future release. To remove this warning, do the following: 1) Pass option use_label_encoder=False when constructing XGBClassifier object; and 2) Encode your labels (y) as integers starting with 0, i.e. 0, 1, 2, ..., [num_class - 1].\n",
      "  warnings.warn(label_encoder_deprecation_msg, UserWarning)\n",
      "\n"
     ]
    },
    {
     "name": "stdout",
     "output_type": "stream",
     "text": [
      "SCORE:                                                                                                                 \n",
      "0.7957405614714425                                                                                                     \n",
      " 45%|████████████████████▋                         | 45/100 [00:11<00:13,  4.01trial/s, best loss: -0.8063891577928364]"
     ]
    },
    {
     "name": "stderr",
     "output_type": "stream",
     "text": [
      "D:\\Folder\\main\\Anaconda\\lib\\site-packages\\xgboost\\sklearn.py:1224: UserWarning: The use of label encoder in XGBClassifier is deprecated and will be removed in a future release. To remove this warning, do the following: 1) Pass option use_label_encoder=False when constructing XGBClassifier object; and 2) Encode your labels (y) as integers starting with 0, i.e. 0, 1, 2, ..., [num_class - 1].\n",
      "  warnings.warn(label_encoder_deprecation_msg, UserWarning)\n",
      "\n"
     ]
    },
    {
     "name": "stdout",
     "output_type": "stream",
     "text": [
      "SCORE:                                                                                                                 \n",
      "0.8020329138431752                                                                                                     \n",
      " 46%|█████████████████████▏                        | 46/100 [00:11<00:13,  4.06trial/s, best loss: -0.8063891577928364]"
     ]
    },
    {
     "name": "stderr",
     "output_type": "stream",
     "text": [
      "D:\\Folder\\main\\Anaconda\\lib\\site-packages\\xgboost\\sklearn.py:1224: UserWarning: The use of label encoder in XGBClassifier is deprecated and will be removed in a future release. To remove this warning, do the following: 1) Pass option use_label_encoder=False when constructing XGBClassifier object; and 2) Encode your labels (y) as integers starting with 0, i.e. 0, 1, 2, ..., [num_class - 1].\n",
      "  warnings.warn(label_encoder_deprecation_msg, UserWarning)\n",
      "\n"
     ]
    },
    {
     "name": "stdout",
     "output_type": "stream",
     "text": [
      "SCORE:                                                                                                                 \n",
      "0.7991287512100678                                                                                                     \n",
      "SCORE:                                                                                                                 \n",
      "0.7894482090997096                                                                                                     \n",
      " 48%|██████████████████████                        | 48/100 [00:12<00:11,  4.56trial/s, best loss: -0.8063891577928364]"
     ]
    },
    {
     "name": "stderr",
     "output_type": "stream",
     "text": [
      "D:\\Folder\\main\\Anaconda\\lib\\site-packages\\xgboost\\sklearn.py:1224: UserWarning: The use of label encoder in XGBClassifier is deprecated and will be removed in a future release. To remove this warning, do the following: 1) Pass option use_label_encoder=False when constructing XGBClassifier object; and 2) Encode your labels (y) as integers starting with 0, i.e. 0, 1, 2, ..., [num_class - 1].\n",
      "  warnings.warn(label_encoder_deprecation_msg, UserWarning)\n",
      "\n",
      "D:\\Folder\\main\\Anaconda\\lib\\site-packages\\xgboost\\sklearn.py:1224: UserWarning: The use of label encoder in XGBClassifier is deprecated and will be removed in a future release. To remove this warning, do the following: 1) Pass option use_label_encoder=False when constructing XGBClassifier object; and 2) Encode your labels (y) as integers starting with 0, i.e. 0, 1, 2, ..., [num_class - 1].\n",
      "  warnings.warn(label_encoder_deprecation_msg, UserWarning)\n",
      "\n"
     ]
    },
    {
     "name": "stdout",
     "output_type": "stream",
     "text": [
      "SCORE:                                                                                                                 \n",
      "0.8020329138431752                                                                                                     \n",
      " 49%|██████████████████████▌                       | 49/100 [00:12<00:11,  4.48trial/s, best loss: -0.8063891577928364]"
     ]
    },
    {
     "name": "stderr",
     "output_type": "stream",
     "text": [
      "D:\\Folder\\main\\Anaconda\\lib\\site-packages\\xgboost\\sklearn.py:1224: UserWarning: The use of label encoder in XGBClassifier is deprecated and will be removed in a future release. To remove this warning, do the following: 1) Pass option use_label_encoder=False when constructing XGBClassifier object; and 2) Encode your labels (y) as integers starting with 0, i.e. 0, 1, 2, ..., [num_class - 1].\n",
      "  warnings.warn(label_encoder_deprecation_msg, UserWarning)\n",
      "\n"
     ]
    },
    {
     "name": "stdout",
     "output_type": "stream",
     "text": [
      "SCORE:                                                                                                                 \n",
      "0.7996127783155856                                                                                                     \n",
      " 50%|███████████████████████                       | 50/100 [00:12<00:11,  4.28trial/s, best loss: -0.8063891577928364]"
     ]
    },
    {
     "name": "stderr",
     "output_type": "stream",
     "text": [
      "D:\\Folder\\main\\Anaconda\\lib\\site-packages\\xgboost\\sklearn.py:1224: UserWarning: The use of label encoder in XGBClassifier is deprecated and will be removed in a future release. To remove this warning, do the following: 1) Pass option use_label_encoder=False when constructing XGBClassifier object; and 2) Encode your labels (y) as integers starting with 0, i.e. 0, 1, 2, ..., [num_class - 1].\n",
      "  warnings.warn(label_encoder_deprecation_msg, UserWarning)\n",
      "\n"
     ]
    },
    {
     "name": "stdout",
     "output_type": "stream",
     "text": [
      "SCORE:                                                                                                                 \n",
      "0.797676669893514                                                                                                      \n",
      " 51%|███████████████████████▍                      | 51/100 [00:12<00:11,  4.28trial/s, best loss: -0.8063891577928364]"
     ]
    },
    {
     "name": "stderr",
     "output_type": "stream",
     "text": [
      "D:\\Folder\\main\\Anaconda\\lib\\site-packages\\xgboost\\sklearn.py:1224: UserWarning: The use of label encoder in XGBClassifier is deprecated and will be removed in a future release. To remove this warning, do the following: 1) Pass option use_label_encoder=False when constructing XGBClassifier object; and 2) Encode your labels (y) as integers starting with 0, i.e. 0, 1, 2, ..., [num_class - 1].\n",
      "  warnings.warn(label_encoder_deprecation_msg, UserWarning)\n",
      "\n"
     ]
    },
    {
     "name": "stdout",
     "output_type": "stream",
     "text": [
      "SCORE:                                                                                                                 \n",
      "0.7981606969990319                                                                                                     \n",
      " 52%|███████████████████████▉                      | 52/100 [00:13<00:11,  4.32trial/s, best loss: -0.8063891577928364]"
     ]
    },
    {
     "name": "stderr",
     "output_type": "stream",
     "text": [
      "D:\\Folder\\main\\Anaconda\\lib\\site-packages\\xgboost\\sklearn.py:1224: UserWarning: The use of label encoder in XGBClassifier is deprecated and will be removed in a future release. To remove this warning, do the following: 1) Pass option use_label_encoder=False when constructing XGBClassifier object; and 2) Encode your labels (y) as integers starting with 0, i.e. 0, 1, 2, ..., [num_class - 1].\n",
      "  warnings.warn(label_encoder_deprecation_msg, UserWarning)\n",
      "\n"
     ]
    },
    {
     "name": "stdout",
     "output_type": "stream",
     "text": [
      "SCORE:                                                                                                                 \n",
      "0.8054211035818006                                                                                                     \n",
      " 53%|████████████████████████▍                     | 53/100 [00:13<00:11,  4.22trial/s, best loss: -0.8063891577928364]"
     ]
    },
    {
     "name": "stderr",
     "output_type": "stream",
     "text": [
      "D:\\Folder\\main\\Anaconda\\lib\\site-packages\\xgboost\\sklearn.py:1224: UserWarning: The use of label encoder in XGBClassifier is deprecated and will be removed in a future release. To remove this warning, do the following: 1) Pass option use_label_encoder=False when constructing XGBClassifier object; and 2) Encode your labels (y) as integers starting with 0, i.e. 0, 1, 2, ..., [num_class - 1].\n",
      "  warnings.warn(label_encoder_deprecation_msg, UserWarning)\n",
      "\n"
     ]
    },
    {
     "name": "stdout",
     "output_type": "stream",
     "text": [
      "SCORE:                                                                                                                 \n",
      "0.8015488867376573                                                                                                     \n",
      " 54%|████████████████████████▊                     | 54/100 [00:13<00:10,  4.20trial/s, best loss: -0.8063891577928364]"
     ]
    },
    {
     "name": "stderr",
     "output_type": "stream",
     "text": [
      "D:\\Folder\\main\\Anaconda\\lib\\site-packages\\xgboost\\sklearn.py:1224: UserWarning: The use of label encoder in XGBClassifier is deprecated and will be removed in a future release. To remove this warning, do the following: 1) Pass option use_label_encoder=False when constructing XGBClassifier object; and 2) Encode your labels (y) as integers starting with 0, i.e. 0, 1, 2, ..., [num_class - 1].\n",
      "  warnings.warn(label_encoder_deprecation_msg, UserWarning)\n",
      "\n"
     ]
    },
    {
     "name": "stdout",
     "output_type": "stream",
     "text": [
      "SCORE:                                                                                                                 \n",
      "0.7947725072604066                                                                                                     \n",
      " 55%|█████████████████████████▎                    | 55/100 [00:13<00:10,  4.23trial/s, best loss: -0.8063891577928364]"
     ]
    },
    {
     "name": "stderr",
     "output_type": "stream",
     "text": [
      "D:\\Folder\\main\\Anaconda\\lib\\site-packages\\xgboost\\sklearn.py:1224: UserWarning: The use of label encoder in XGBClassifier is deprecated and will be removed in a future release. To remove this warning, do the following: 1) Pass option use_label_encoder=False when constructing XGBClassifier object; and 2) Encode your labels (y) as integers starting with 0, i.e. 0, 1, 2, ..., [num_class - 1].\n",
      "  warnings.warn(label_encoder_deprecation_msg, UserWarning)\n",
      "\n"
     ]
    },
    {
     "name": "stdout",
     "output_type": "stream",
     "text": [
      "SCORE:                                                                                                                 \n",
      "0.8020329138431752                                                                                                     \n",
      " 56%|█████████████████████████▊                    | 56/100 [00:14<00:10,  4.19trial/s, best loss: -0.8063891577928364]"
     ]
    },
    {
     "name": "stderr",
     "output_type": "stream",
     "text": [
      "D:\\Folder\\main\\Anaconda\\lib\\site-packages\\xgboost\\sklearn.py:1224: UserWarning: The use of label encoder in XGBClassifier is deprecated and will be removed in a future release. To remove this warning, do the following: 1) Pass option use_label_encoder=False when constructing XGBClassifier object; and 2) Encode your labels (y) as integers starting with 0, i.e. 0, 1, 2, ..., [num_class - 1].\n",
      "  warnings.warn(label_encoder_deprecation_msg, UserWarning)\n",
      "\n"
     ]
    },
    {
     "name": "stdout",
     "output_type": "stream",
     "text": [
      "SCORE:                                                                                                                 \n",
      "0.8054211035818006                                                                                                     \n",
      " 57%|██████████████████████████▏                   | 57/100 [00:14<00:10,  4.26trial/s, best loss: -0.8063891577928364]"
     ]
    },
    {
     "name": "stderr",
     "output_type": "stream",
     "text": [
      "D:\\Folder\\main\\Anaconda\\lib\\site-packages\\xgboost\\sklearn.py:1224: UserWarning: The use of label encoder in XGBClassifier is deprecated and will be removed in a future release. To remove this warning, do the following: 1) Pass option use_label_encoder=False when constructing XGBClassifier object; and 2) Encode your labels (y) as integers starting with 0, i.e. 0, 1, 2, ..., [num_class - 1].\n",
      "  warnings.warn(label_encoder_deprecation_msg, UserWarning)\n",
      "\n"
     ]
    },
    {
     "name": "stdout",
     "output_type": "stream",
     "text": [
      "SCORE:                                                                                                                 \n",
      "0.8005808325266215                                                                                                     \n",
      " 58%|██████████████████████████▋                   | 58/100 [00:14<00:09,  4.24trial/s, best loss: -0.8063891577928364]"
     ]
    },
    {
     "name": "stderr",
     "output_type": "stream",
     "text": [
      "D:\\Folder\\main\\Anaconda\\lib\\site-packages\\xgboost\\sklearn.py:1224: UserWarning: The use of label encoder in XGBClassifier is deprecated and will be removed in a future release. To remove this warning, do the following: 1) Pass option use_label_encoder=False when constructing XGBClassifier object; and 2) Encode your labels (y) as integers starting with 0, i.e. 0, 1, 2, ..., [num_class - 1].\n",
      "  warnings.warn(label_encoder_deprecation_msg, UserWarning)\n",
      "\n"
     ]
    },
    {
     "name": "stdout",
     "output_type": "stream",
     "text": [
      "SCORE:                                                                                                                 \n",
      "0.7991287512100678                                                                                                     \n",
      " 59%|███████████████████████████▏                  | 59/100 [00:14<00:09,  4.25trial/s, best loss: -0.8063891577928364]"
     ]
    },
    {
     "name": "stderr",
     "output_type": "stream",
     "text": [
      "D:\\Folder\\main\\Anaconda\\lib\\site-packages\\xgboost\\sklearn.py:1224: UserWarning: The use of label encoder in XGBClassifier is deprecated and will be removed in a future release. To remove this warning, do the following: 1) Pass option use_label_encoder=False when constructing XGBClassifier object; and 2) Encode your labels (y) as integers starting with 0, i.e. 0, 1, 2, ..., [num_class - 1].\n",
      "  warnings.warn(label_encoder_deprecation_msg, UserWarning)\n",
      "\n"
     ]
    },
    {
     "name": "stdout",
     "output_type": "stream",
     "text": [
      "SCORE:                                                                                                                 \n",
      "0.8030009680542111                                                                                                     \n",
      " 60%|███████████████████████████▌                  | 60/100 [00:14<00:09,  4.23trial/s, best loss: -0.8063891577928364]"
     ]
    },
    {
     "name": "stderr",
     "output_type": "stream",
     "text": [
      "D:\\Folder\\main\\Anaconda\\lib\\site-packages\\xgboost\\sklearn.py:1224: UserWarning: The use of label encoder in XGBClassifier is deprecated and will be removed in a future release. To remove this warning, do the following: 1) Pass option use_label_encoder=False when constructing XGBClassifier object; and 2) Encode your labels (y) as integers starting with 0, i.e. 0, 1, 2, ..., [num_class - 1].\n",
      "  warnings.warn(label_encoder_deprecation_msg, UserWarning)\n",
      "\n"
     ]
    },
    {
     "name": "stdout",
     "output_type": "stream",
     "text": [
      "SCORE:                                                                                                                 \n",
      "0.7986447241045499                                                                                                     \n",
      " 61%|████████████████████████████                  | 61/100 [00:15<00:09,  4.26trial/s, best loss: -0.8063891577928364]"
     ]
    },
    {
     "name": "stderr",
     "output_type": "stream",
     "text": [
      "D:\\Folder\\main\\Anaconda\\lib\\site-packages\\xgboost\\sklearn.py:1224: UserWarning: The use of label encoder in XGBClassifier is deprecated and will be removed in a future release. To remove this warning, do the following: 1) Pass option use_label_encoder=False when constructing XGBClassifier object; and 2) Encode your labels (y) as integers starting with 0, i.e. 0, 1, 2, ..., [num_class - 1].\n",
      "  warnings.warn(label_encoder_deprecation_msg, UserWarning)\n",
      "\n"
     ]
    },
    {
     "name": "stdout",
     "output_type": "stream",
     "text": [
      "SCORE:                                                                                                                 \n",
      "0.8044530493707648                                                                                                     \n",
      " 62%|████████████████████████████▌                 | 62/100 [00:15<00:08,  4.23trial/s, best loss: -0.8063891577928364]"
     ]
    },
    {
     "name": "stderr",
     "output_type": "stream",
     "text": [
      "D:\\Folder\\main\\Anaconda\\lib\\site-packages\\xgboost\\sklearn.py:1224: UserWarning: The use of label encoder in XGBClassifier is deprecated and will be removed in a future release. To remove this warning, do the following: 1) Pass option use_label_encoder=False when constructing XGBClassifier object; and 2) Encode your labels (y) as integers starting with 0, i.e. 0, 1, 2, ..., [num_class - 1].\n",
      "  warnings.warn(label_encoder_deprecation_msg, UserWarning)\n",
      "\n"
     ]
    },
    {
     "name": "stdout",
     "output_type": "stream",
     "text": [
      "SCORE:                                                                                                                 \n",
      "0.7986447241045499                                                                                                     \n",
      "SCORE:                                                                                                                 \n",
      "0.7879961277831559                                                                                                     \n",
      " 64%|█████████████████████████████▍                | 64/100 [00:15<00:07,  4.61trial/s, best loss: -0.8063891577928364]"
     ]
    },
    {
     "name": "stderr",
     "output_type": "stream",
     "text": [
      "D:\\Folder\\main\\Anaconda\\lib\\site-packages\\xgboost\\sklearn.py:1224: UserWarning: The use of label encoder in XGBClassifier is deprecated and will be removed in a future release. To remove this warning, do the following: 1) Pass option use_label_encoder=False when constructing XGBClassifier object; and 2) Encode your labels (y) as integers starting with 0, i.e. 0, 1, 2, ..., [num_class - 1].\n",
      "  warnings.warn(label_encoder_deprecation_msg, UserWarning)\n",
      "\n",
      "D:\\Folder\\main\\Anaconda\\lib\\site-packages\\xgboost\\sklearn.py:1224: UserWarning: The use of label encoder in XGBClassifier is deprecated and will be removed in a future release. To remove this warning, do the following: 1) Pass option use_label_encoder=False when constructing XGBClassifier object; and 2) Encode your labels (y) as integers starting with 0, i.e. 0, 1, 2, ..., [num_class - 1].\n",
      "  warnings.warn(label_encoder_deprecation_msg, UserWarning)\n",
      "\n"
     ]
    },
    {
     "name": "stdout",
     "output_type": "stream",
     "text": [
      "SCORE:                                                                                                                 \n",
      "0.8000968054211036                                                                                                     \n",
      " 65%|█████████████████████████████▉                | 65/100 [00:16<00:07,  4.59trial/s, best loss: -0.8063891577928364]"
     ]
    },
    {
     "name": "stderr",
     "output_type": "stream",
     "text": [
      "D:\\Folder\\main\\Anaconda\\lib\\site-packages\\xgboost\\sklearn.py:1224: UserWarning: The use of label encoder in XGBClassifier is deprecated and will be removed in a future release. To remove this warning, do the following: 1) Pass option use_label_encoder=False when constructing XGBClassifier object; and 2) Encode your labels (y) as integers starting with 0, i.e. 0, 1, 2, ..., [num_class - 1].\n",
      "  warnings.warn(label_encoder_deprecation_msg, UserWarning)\n",
      "\n"
     ]
    },
    {
     "name": "stdout",
     "output_type": "stream",
     "text": [
      "SCORE:                                                                                                                 \n",
      "0.8049370764762827                                                                                                     \n",
      " 66%|██████████████████████████████▎               | 66/100 [00:16<00:07,  4.51trial/s, best loss: -0.8063891577928364]"
     ]
    },
    {
     "name": "stderr",
     "output_type": "stream",
     "text": [
      "D:\\Folder\\main\\Anaconda\\lib\\site-packages\\xgboost\\sklearn.py:1224: UserWarning: The use of label encoder in XGBClassifier is deprecated and will be removed in a future release. To remove this warning, do the following: 1) Pass option use_label_encoder=False when constructing XGBClassifier object; and 2) Encode your labels (y) as integers starting with 0, i.e. 0, 1, 2, ..., [num_class - 1].\n",
      "  warnings.warn(label_encoder_deprecation_msg, UserWarning)\n",
      "\n"
     ]
    },
    {
     "name": "stdout",
     "output_type": "stream",
     "text": [
      "SCORE:                                                                                                                 \n",
      "0.8020329138431752                                                                                                     \n",
      " 67%|██████████████████████████████▊               | 67/100 [00:16<00:07,  4.33trial/s, best loss: -0.8063891577928364]"
     ]
    },
    {
     "name": "stderr",
     "output_type": "stream",
     "text": [
      "D:\\Folder\\main\\Anaconda\\lib\\site-packages\\xgboost\\sklearn.py:1224: UserWarning: The use of label encoder in XGBClassifier is deprecated and will be removed in a future release. To remove this warning, do the following: 1) Pass option use_label_encoder=False when constructing XGBClassifier object; and 2) Encode your labels (y) as integers starting with 0, i.e. 0, 1, 2, ..., [num_class - 1].\n",
      "  warnings.warn(label_encoder_deprecation_msg, UserWarning)\n",
      "\n"
     ]
    },
    {
     "name": "stdout",
     "output_type": "stream",
     "text": [
      "SCORE:                                                                                                                 \n",
      "0.8063891577928364                                                                                                     \n",
      " 68%|███████████████████████████████▎              | 68/100 [00:16<00:07,  4.25trial/s, best loss: -0.8063891577928364]"
     ]
    },
    {
     "name": "stderr",
     "output_type": "stream",
     "text": [
      "D:\\Folder\\main\\Anaconda\\lib\\site-packages\\xgboost\\sklearn.py:1224: UserWarning: The use of label encoder in XGBClassifier is deprecated and will be removed in a future release. To remove this warning, do the following: 1) Pass option use_label_encoder=False when constructing XGBClassifier object; and 2) Encode your labels (y) as integers starting with 0, i.e. 0, 1, 2, ..., [num_class - 1].\n",
      "  warnings.warn(label_encoder_deprecation_msg, UserWarning)\n",
      "\n"
     ]
    },
    {
     "name": "stdout",
     "output_type": "stream",
     "text": [
      "SCORE:                                                                                                                 \n",
      "0.8068731848983544                                                                                                     \n",
      " 69%|███████████████████████████████▋              | 69/100 [00:17<00:07,  4.02trial/s, best loss: -0.8068731848983544]"
     ]
    },
    {
     "name": "stderr",
     "output_type": "stream",
     "text": [
      "D:\\Folder\\main\\Anaconda\\lib\\site-packages\\xgboost\\sklearn.py:1224: UserWarning: The use of label encoder in XGBClassifier is deprecated and will be removed in a future release. To remove this warning, do the following: 1) Pass option use_label_encoder=False when constructing XGBClassifier object; and 2) Encode your labels (y) as integers starting with 0, i.e. 0, 1, 2, ..., [num_class - 1].\n",
      "  warnings.warn(label_encoder_deprecation_msg, UserWarning)\n",
      "\n"
     ]
    },
    {
     "name": "stdout",
     "output_type": "stream",
     "text": [
      "SCORE:                                                                                                                 \n",
      "0.8039690222652468                                                                                                     \n",
      " 70%|████████████████████████████████▏             | 70/100 [00:17<00:07,  3.95trial/s, best loss: -0.8068731848983544]"
     ]
    },
    {
     "name": "stderr",
     "output_type": "stream",
     "text": [
      "D:\\Folder\\main\\Anaconda\\lib\\site-packages\\xgboost\\sklearn.py:1224: UserWarning: The use of label encoder in XGBClassifier is deprecated and will be removed in a future release. To remove this warning, do the following: 1) Pass option use_label_encoder=False when constructing XGBClassifier object; and 2) Encode your labels (y) as integers starting with 0, i.e. 0, 1, 2, ..., [num_class - 1].\n",
      "  warnings.warn(label_encoder_deprecation_msg, UserWarning)\n",
      "\n"
     ]
    },
    {
     "name": "stdout",
     "output_type": "stream",
     "text": [
      "SCORE:                                                                                                                 \n",
      "0.8049370764762827                                                                                                     \n",
      " 71%|████████████████████████████████▋             | 71/100 [00:17<00:07,  3.93trial/s, best loss: -0.8068731848983544]"
     ]
    },
    {
     "name": "stderr",
     "output_type": "stream",
     "text": [
      "D:\\Folder\\main\\Anaconda\\lib\\site-packages\\xgboost\\sklearn.py:1224: UserWarning: The use of label encoder in XGBClassifier is deprecated and will be removed in a future release. To remove this warning, do the following: 1) Pass option use_label_encoder=False when constructing XGBClassifier object; and 2) Encode your labels (y) as integers starting with 0, i.e. 0, 1, 2, ..., [num_class - 1].\n",
      "  warnings.warn(label_encoder_deprecation_msg, UserWarning)\n",
      "\n"
     ]
    },
    {
     "name": "stdout",
     "output_type": "stream",
     "text": [
      "SCORE:                                                                                                                 \n",
      "0.8044530493707648                                                                                                     \n",
      " 72%|█████████████████████████████████             | 72/100 [00:17<00:07,  3.80trial/s, best loss: -0.8068731848983544]"
     ]
    },
    {
     "name": "stderr",
     "output_type": "stream",
     "text": [
      "D:\\Folder\\main\\Anaconda\\lib\\site-packages\\xgboost\\sklearn.py:1224: UserWarning: The use of label encoder in XGBClassifier is deprecated and will be removed in a future release. To remove this warning, do the following: 1) Pass option use_label_encoder=False when constructing XGBClassifier object; and 2) Encode your labels (y) as integers starting with 0, i.e. 0, 1, 2, ..., [num_class - 1].\n",
      "  warnings.warn(label_encoder_deprecation_msg, UserWarning)\n",
      "\n"
     ]
    },
    {
     "name": "stdout",
     "output_type": "stream",
     "text": [
      "SCORE:                                                                                                                 \n",
      "0.8005808325266215                                                                                                     \n",
      " 73%|█████████████████████████████████▌            | 73/100 [00:18<00:07,  3.81trial/s, best loss: -0.8068731848983544]"
     ]
    },
    {
     "name": "stderr",
     "output_type": "stream",
     "text": [
      "D:\\Folder\\main\\Anaconda\\lib\\site-packages\\xgboost\\sklearn.py:1224: UserWarning: The use of label encoder in XGBClassifier is deprecated and will be removed in a future release. To remove this warning, do the following: 1) Pass option use_label_encoder=False when constructing XGBClassifier object; and 2) Encode your labels (y) as integers starting with 0, i.e. 0, 1, 2, ..., [num_class - 1].\n",
      "  warnings.warn(label_encoder_deprecation_msg, UserWarning)\n",
      "\n"
     ]
    },
    {
     "name": "stdout",
     "output_type": "stream",
     "text": [
      "SCORE:                                                                                                                 \n",
      "0.8020329138431752                                                                                                     \n",
      " 74%|██████████████████████████████████            | 74/100 [00:18<00:06,  3.76trial/s, best loss: -0.8068731848983544]"
     ]
    },
    {
     "name": "stderr",
     "output_type": "stream",
     "text": [
      "D:\\Folder\\main\\Anaconda\\lib\\site-packages\\xgboost\\sklearn.py:1224: UserWarning: The use of label encoder in XGBClassifier is deprecated and will be removed in a future release. To remove this warning, do the following: 1) Pass option use_label_encoder=False when constructing XGBClassifier object; and 2) Encode your labels (y) as integers starting with 0, i.e. 0, 1, 2, ..., [num_class - 1].\n",
      "  warnings.warn(label_encoder_deprecation_msg, UserWarning)\n",
      "\n"
     ]
    },
    {
     "name": "stdout",
     "output_type": "stream",
     "text": [
      "SCORE:                                                                                                                 \n",
      "0.8010648596321394                                                                                                     \n",
      " 75%|██████████████████████████████████▌           | 75/100 [00:18<00:06,  3.77trial/s, best loss: -0.8068731848983544]"
     ]
    },
    {
     "name": "stderr",
     "output_type": "stream",
     "text": [
      "D:\\Folder\\main\\Anaconda\\lib\\site-packages\\xgboost\\sklearn.py:1224: UserWarning: The use of label encoder in XGBClassifier is deprecated and will be removed in a future release. To remove this warning, do the following: 1) Pass option use_label_encoder=False when constructing XGBClassifier object; and 2) Encode your labels (y) as integers starting with 0, i.e. 0, 1, 2, ..., [num_class - 1].\n",
      "  warnings.warn(label_encoder_deprecation_msg, UserWarning)\n",
      "\n"
     ]
    },
    {
     "name": "stdout",
     "output_type": "stream",
     "text": [
      "SCORE:                                                                                                                 \n",
      "0.8063891577928364                                                                                                     \n",
      " 76%|██████████████████████████████████▉           | 76/100 [00:19<00:07,  3.39trial/s, best loss: -0.8068731848983544]"
     ]
    },
    {
     "name": "stderr",
     "output_type": "stream",
     "text": [
      "D:\\Folder\\main\\Anaconda\\lib\\site-packages\\xgboost\\sklearn.py:1224: UserWarning: The use of label encoder in XGBClassifier is deprecated and will be removed in a future release. To remove this warning, do the following: 1) Pass option use_label_encoder=False when constructing XGBClassifier object; and 2) Encode your labels (y) as integers starting with 0, i.e. 0, 1, 2, ..., [num_class - 1].\n",
      "  warnings.warn(label_encoder_deprecation_msg, UserWarning)\n",
      "\n"
     ]
    },
    {
     "name": "stdout",
     "output_type": "stream",
     "text": [
      "SCORE:                                                                                                                 \n",
      "0.8025169409486931                                                                                                     \n",
      " 77%|███████████████████████████████████▍          | 77/100 [00:19<00:06,  3.53trial/s, best loss: -0.8068731848983544]"
     ]
    },
    {
     "name": "stderr",
     "output_type": "stream",
     "text": [
      "D:\\Folder\\main\\Anaconda\\lib\\site-packages\\xgboost\\sklearn.py:1224: UserWarning: The use of label encoder in XGBClassifier is deprecated and will be removed in a future release. To remove this warning, do the following: 1) Pass option use_label_encoder=False when constructing XGBClassifier object; and 2) Encode your labels (y) as integers starting with 0, i.e. 0, 1, 2, ..., [num_class - 1].\n",
      "  warnings.warn(label_encoder_deprecation_msg, UserWarning)\n",
      "\n"
     ]
    },
    {
     "name": "stdout",
     "output_type": "stream",
     "text": [
      "SCORE:                                                                                                                 \n",
      "0.8044530493707648                                                                                                     \n",
      " 78%|███████████████████████████████████▉          | 78/100 [00:19<00:06,  3.60trial/s, best loss: -0.8068731848983544]"
     ]
    },
    {
     "name": "stderr",
     "output_type": "stream",
     "text": [
      "D:\\Folder\\main\\Anaconda\\lib\\site-packages\\xgboost\\sklearn.py:1224: UserWarning: The use of label encoder in XGBClassifier is deprecated and will be removed in a future release. To remove this warning, do the following: 1) Pass option use_label_encoder=False when constructing XGBClassifier object; and 2) Encode your labels (y) as integers starting with 0, i.e. 0, 1, 2, ..., [num_class - 1].\n",
      "  warnings.warn(label_encoder_deprecation_msg, UserWarning)\n",
      "\n"
     ]
    },
    {
     "name": "stdout",
     "output_type": "stream",
     "text": [
      "SCORE:                                                                                                                 \n",
      "0.8034849951597289                                                                                                     \n",
      " 79%|████████████████████████████████████▎         | 79/100 [00:19<00:05,  3.55trial/s, best loss: -0.8068731848983544]"
     ]
    },
    {
     "name": "stderr",
     "output_type": "stream",
     "text": [
      "D:\\Folder\\main\\Anaconda\\lib\\site-packages\\xgboost\\sklearn.py:1224: UserWarning: The use of label encoder in XGBClassifier is deprecated and will be removed in a future release. To remove this warning, do the following: 1) Pass option use_label_encoder=False when constructing XGBClassifier object; and 2) Encode your labels (y) as integers starting with 0, i.e. 0, 1, 2, ..., [num_class - 1].\n",
      "  warnings.warn(label_encoder_deprecation_msg, UserWarning)\n",
      "\n"
     ]
    },
    {
     "name": "stdout",
     "output_type": "stream",
     "text": [
      "SCORE:                                                                                                                 \n",
      "0.7981606969990319                                                                                                     \n",
      " 80%|████████████████████████████████████▊         | 80/100 [00:20<00:05,  3.69trial/s, best loss: -0.8068731848983544]"
     ]
    },
    {
     "name": "stderr",
     "output_type": "stream",
     "text": [
      "D:\\Folder\\main\\Anaconda\\lib\\site-packages\\xgboost\\sklearn.py:1224: UserWarning: The use of label encoder in XGBClassifier is deprecated and will be removed in a future release. To remove this warning, do the following: 1) Pass option use_label_encoder=False when constructing XGBClassifier object; and 2) Encode your labels (y) as integers starting with 0, i.e. 0, 1, 2, ..., [num_class - 1].\n",
      "  warnings.warn(label_encoder_deprecation_msg, UserWarning)\n",
      "\n"
     ]
    },
    {
     "name": "stdout",
     "output_type": "stream",
     "text": [
      "SCORE:                                                                                                                 \n",
      "0.8034849951597289                                                                                                     \n",
      " 81%|█████████████████████████████████████▎        | 81/100 [00:20<00:05,  3.73trial/s, best loss: -0.8068731848983544]"
     ]
    },
    {
     "name": "stderr",
     "output_type": "stream",
     "text": [
      "D:\\Folder\\main\\Anaconda\\lib\\site-packages\\xgboost\\sklearn.py:1224: UserWarning: The use of label encoder in XGBClassifier is deprecated and will be removed in a future release. To remove this warning, do the following: 1) Pass option use_label_encoder=False when constructing XGBClassifier object; and 2) Encode your labels (y) as integers starting with 0, i.e. 0, 1, 2, ..., [num_class - 1].\n",
      "  warnings.warn(label_encoder_deprecation_msg, UserWarning)\n",
      "\n"
     ]
    },
    {
     "name": "stdout",
     "output_type": "stream",
     "text": [
      "SCORE:                                                                                                                 \n",
      "0.8005808325266215                                                                                                     \n",
      " 82%|█████████████████████████████████████▋        | 82/100 [00:20<00:04,  3.71trial/s, best loss: -0.8068731848983544]"
     ]
    },
    {
     "name": "stderr",
     "output_type": "stream",
     "text": [
      "D:\\Folder\\main\\Anaconda\\lib\\site-packages\\xgboost\\sklearn.py:1224: UserWarning: The use of label encoder in XGBClassifier is deprecated and will be removed in a future release. To remove this warning, do the following: 1) Pass option use_label_encoder=False when constructing XGBClassifier object; and 2) Encode your labels (y) as integers starting with 0, i.e. 0, 1, 2, ..., [num_class - 1].\n",
      "  warnings.warn(label_encoder_deprecation_msg, UserWarning)\n",
      "\n"
     ]
    },
    {
     "name": "stdout",
     "output_type": "stream",
     "text": [
      "SCORE:                                                                                                                 \n",
      "0.8044530493707648                                                                                                     \n",
      " 83%|██████████████████████████████████████▏       | 83/100 [00:20<00:04,  3.54trial/s, best loss: -0.8068731848983544]"
     ]
    },
    {
     "name": "stderr",
     "output_type": "stream",
     "text": [
      "D:\\Folder\\main\\Anaconda\\lib\\site-packages\\xgboost\\sklearn.py:1224: UserWarning: The use of label encoder in XGBClassifier is deprecated and will be removed in a future release. To remove this warning, do the following: 1) Pass option use_label_encoder=False when constructing XGBClassifier object; and 2) Encode your labels (y) as integers starting with 0, i.e. 0, 1, 2, ..., [num_class - 1].\n",
      "  warnings.warn(label_encoder_deprecation_msg, UserWarning)\n",
      "\n"
     ]
    },
    {
     "name": "stdout",
     "output_type": "stream",
     "text": [
      "SCORE:                                                                                                                 \n",
      "0.7957405614714425                                                                                                     \n",
      " 84%|██████████████████████████████████████▋       | 84/100 [00:21<00:04,  3.65trial/s, best loss: -0.8068731848983544]"
     ]
    },
    {
     "name": "stderr",
     "output_type": "stream",
     "text": [
      "D:\\Folder\\main\\Anaconda\\lib\\site-packages\\xgboost\\sklearn.py:1224: UserWarning: The use of label encoder in XGBClassifier is deprecated and will be removed in a future release. To remove this warning, do the following: 1) Pass option use_label_encoder=False when constructing XGBClassifier object; and 2) Encode your labels (y) as integers starting with 0, i.e. 0, 1, 2, ..., [num_class - 1].\n",
      "  warnings.warn(label_encoder_deprecation_msg, UserWarning)\n",
      "\n"
     ]
    },
    {
     "name": "stdout",
     "output_type": "stream",
     "text": [
      "SCORE:                                                                                                                 \n",
      "0.8039690222652468                                                                                                     \n",
      " 85%|███████████████████████████████████████       | 85/100 [00:21<00:04,  3.69trial/s, best loss: -0.8068731848983544]"
     ]
    },
    {
     "name": "stderr",
     "output_type": "stream",
     "text": [
      "D:\\Folder\\main\\Anaconda\\lib\\site-packages\\xgboost\\sklearn.py:1224: UserWarning: The use of label encoder in XGBClassifier is deprecated and will be removed in a future release. To remove this warning, do the following: 1) Pass option use_label_encoder=False when constructing XGBClassifier object; and 2) Encode your labels (y) as integers starting with 0, i.e. 0, 1, 2, ..., [num_class - 1].\n",
      "  warnings.warn(label_encoder_deprecation_msg, UserWarning)\n",
      "\n"
     ]
    },
    {
     "name": "stdout",
     "output_type": "stream",
     "text": [
      "SCORE:                                                                                                                 \n",
      "0.8005808325266215                                                                                                     \n",
      " 86%|███████████████████████████████████████▌      | 86/100 [00:21<00:03,  3.71trial/s, best loss: -0.8068731848983544]"
     ]
    },
    {
     "name": "stderr",
     "output_type": "stream",
     "text": [
      "D:\\Folder\\main\\Anaconda\\lib\\site-packages\\xgboost\\sklearn.py:1224: UserWarning: The use of label encoder in XGBClassifier is deprecated and will be removed in a future release. To remove this warning, do the following: 1) Pass option use_label_encoder=False when constructing XGBClassifier object; and 2) Encode your labels (y) as integers starting with 0, i.e. 0, 1, 2, ..., [num_class - 1].\n",
      "  warnings.warn(label_encoder_deprecation_msg, UserWarning)\n",
      "\n"
     ]
    },
    {
     "name": "stdout",
     "output_type": "stream",
     "text": [
      "SCORE:                                                                                                                 \n",
      "0.7952565343659245                                                                                                     \n",
      " 87%|████████████████████████████████████████      | 87/100 [00:21<00:03,  3.81trial/s, best loss: -0.8068731848983544]"
     ]
    },
    {
     "name": "stderr",
     "output_type": "stream",
     "text": [
      "D:\\Folder\\main\\Anaconda\\lib\\site-packages\\xgboost\\sklearn.py:1224: UserWarning: The use of label encoder in XGBClassifier is deprecated and will be removed in a future release. To remove this warning, do the following: 1) Pass option use_label_encoder=False when constructing XGBClassifier object; and 2) Encode your labels (y) as integers starting with 0, i.e. 0, 1, 2, ..., [num_class - 1].\n",
      "  warnings.warn(label_encoder_deprecation_msg, UserWarning)\n",
      "\n"
     ]
    },
    {
     "name": "stdout",
     "output_type": "stream",
     "text": [
      "SCORE:                                                                                                                 \n",
      "0.7991287512100678                                                                                                     \n",
      " 88%|████████████████████████████████████████▍     | 88/100 [00:22<00:03,  3.77trial/s, best loss: -0.8068731848983544]"
     ]
    },
    {
     "name": "stderr",
     "output_type": "stream",
     "text": [
      "D:\\Folder\\main\\Anaconda\\lib\\site-packages\\xgboost\\sklearn.py:1224: UserWarning: The use of label encoder in XGBClassifier is deprecated and will be removed in a future release. To remove this warning, do the following: 1) Pass option use_label_encoder=False when constructing XGBClassifier object; and 2) Encode your labels (y) as integers starting with 0, i.e. 0, 1, 2, ..., [num_class - 1].\n",
      "  warnings.warn(label_encoder_deprecation_msg, UserWarning)\n",
      "\n"
     ]
    },
    {
     "name": "stdout",
     "output_type": "stream",
     "text": [
      "SCORE:                                                                                                                 \n",
      "0.7991287512100678                                                                                                     \n",
      " 89%|████████████████████████████████████████▉     | 89/100 [00:22<00:02,  3.79trial/s, best loss: -0.8068731848983544]"
     ]
    },
    {
     "name": "stderr",
     "output_type": "stream",
     "text": [
      "D:\\Folder\\main\\Anaconda\\lib\\site-packages\\xgboost\\sklearn.py:1224: UserWarning: The use of label encoder in XGBClassifier is deprecated and will be removed in a future release. To remove this warning, do the following: 1) Pass option use_label_encoder=False when constructing XGBClassifier object; and 2) Encode your labels (y) as integers starting with 0, i.e. 0, 1, 2, ..., [num_class - 1].\n",
      "  warnings.warn(label_encoder_deprecation_msg, UserWarning)\n",
      "\n"
     ]
    },
    {
     "name": "stdout",
     "output_type": "stream",
     "text": [
      "SCORE:                                                                                                                 \n",
      "0.7991287512100678                                                                                                     \n",
      " 90%|█████████████████████████████████████████▍    | 90/100 [00:22<00:02,  3.77trial/s, best loss: -0.8068731848983544]"
     ]
    },
    {
     "name": "stderr",
     "output_type": "stream",
     "text": [
      "D:\\Folder\\main\\Anaconda\\lib\\site-packages\\xgboost\\sklearn.py:1224: UserWarning: The use of label encoder in XGBClassifier is deprecated and will be removed in a future release. To remove this warning, do the following: 1) Pass option use_label_encoder=False when constructing XGBClassifier object; and 2) Encode your labels (y) as integers starting with 0, i.e. 0, 1, 2, ..., [num_class - 1].\n",
      "  warnings.warn(label_encoder_deprecation_msg, UserWarning)\n",
      "\n"
     ]
    },
    {
     "name": "stdout",
     "output_type": "stream",
     "text": [
      "SCORE:                                                                                                                 \n",
      "0.8030009680542111                                                                                                     \n",
      " 91%|█████████████████████████████████████████▊    | 91/100 [00:23<00:02,  3.72trial/s, best loss: -0.8068731848983544]"
     ]
    },
    {
     "name": "stderr",
     "output_type": "stream",
     "text": [
      "D:\\Folder\\main\\Anaconda\\lib\\site-packages\\xgboost\\sklearn.py:1224: UserWarning: The use of label encoder in XGBClassifier is deprecated and will be removed in a future release. To remove this warning, do the following: 1) Pass option use_label_encoder=False when constructing XGBClassifier object; and 2) Encode your labels (y) as integers starting with 0, i.e. 0, 1, 2, ..., [num_class - 1].\n",
      "  warnings.warn(label_encoder_deprecation_msg, UserWarning)\n",
      "\n"
     ]
    },
    {
     "name": "stdout",
     "output_type": "stream",
     "text": [
      "SCORE:                                                                                                                 \n",
      "0.8010648596321394                                                                                                     \n",
      " 92%|██████████████████████████████████████████▎   | 92/100 [00:23<00:02,  3.71trial/s, best loss: -0.8068731848983544]"
     ]
    },
    {
     "name": "stderr",
     "output_type": "stream",
     "text": [
      "D:\\Folder\\main\\Anaconda\\lib\\site-packages\\xgboost\\sklearn.py:1224: UserWarning: The use of label encoder in XGBClassifier is deprecated and will be removed in a future release. To remove this warning, do the following: 1) Pass option use_label_encoder=False when constructing XGBClassifier object; and 2) Encode your labels (y) as integers starting with 0, i.e. 0, 1, 2, ..., [num_class - 1].\n",
      "  warnings.warn(label_encoder_deprecation_msg, UserWarning)\n",
      "\n"
     ]
    },
    {
     "name": "stdout",
     "output_type": "stream",
     "text": [
      "SCORE:                                                                                                                 \n",
      "0.8015488867376573                                                                                                     \n",
      " 93%|██████████████████████████████████████████▊   | 93/100 [00:23<00:01,  3.74trial/s, best loss: -0.8068731848983544]"
     ]
    },
    {
     "name": "stderr",
     "output_type": "stream",
     "text": [
      "D:\\Folder\\main\\Anaconda\\lib\\site-packages\\xgboost\\sklearn.py:1224: UserWarning: The use of label encoder in XGBClassifier is deprecated and will be removed in a future release. To remove this warning, do the following: 1) Pass option use_label_encoder=False when constructing XGBClassifier object; and 2) Encode your labels (y) as integers starting with 0, i.e. 0, 1, 2, ..., [num_class - 1].\n",
      "  warnings.warn(label_encoder_deprecation_msg, UserWarning)\n",
      "\n"
     ]
    },
    {
     "name": "stdout",
     "output_type": "stream",
     "text": [
      "SCORE:                                                                                                                 \n",
      "0.7986447241045499                                                                                                     \n",
      " 94%|███████████████████████████████████████████▏  | 94/100 [00:23<00:01,  3.74trial/s, best loss: -0.8068731848983544]"
     ]
    },
    {
     "name": "stderr",
     "output_type": "stream",
     "text": [
      "D:\\Folder\\main\\Anaconda\\lib\\site-packages\\xgboost\\sklearn.py:1224: UserWarning: The use of label encoder in XGBClassifier is deprecated and will be removed in a future release. To remove this warning, do the following: 1) Pass option use_label_encoder=False when constructing XGBClassifier object; and 2) Encode your labels (y) as integers starting with 0, i.e. 0, 1, 2, ..., [num_class - 1].\n",
      "  warnings.warn(label_encoder_deprecation_msg, UserWarning)\n",
      "\n"
     ]
    },
    {
     "name": "stdout",
     "output_type": "stream",
     "text": [
      "SCORE:                                                                                                                 \n",
      "0.7996127783155856                                                                                                     \n",
      " 95%|███████████████████████████████████████████▋  | 95/100 [00:24<00:01,  3.84trial/s, best loss: -0.8068731848983544]"
     ]
    },
    {
     "name": "stderr",
     "output_type": "stream",
     "text": [
      "D:\\Folder\\main\\Anaconda\\lib\\site-packages\\xgboost\\sklearn.py:1224: UserWarning: The use of label encoder in XGBClassifier is deprecated and will be removed in a future release. To remove this warning, do the following: 1) Pass option use_label_encoder=False when constructing XGBClassifier object; and 2) Encode your labels (y) as integers starting with 0, i.e. 0, 1, 2, ..., [num_class - 1].\n",
      "  warnings.warn(label_encoder_deprecation_msg, UserWarning)\n",
      "\n"
     ]
    },
    {
     "name": "stdout",
     "output_type": "stream",
     "text": [
      "SCORE:                                                                                                                 \n",
      "0.8000968054211036                                                                                                     \n",
      "SCORE:                                                                                                                 \n",
      "0.7952565343659245                                                                                                     \n",
      " 97%|████████████████████████████████████████████▌ | 97/100 [00:24<00:00,  4.37trial/s, best loss: -0.8068731848983544]"
     ]
    },
    {
     "name": "stderr",
     "output_type": "stream",
     "text": [
      "D:\\Folder\\main\\Anaconda\\lib\\site-packages\\xgboost\\sklearn.py:1224: UserWarning: The use of label encoder in XGBClassifier is deprecated and will be removed in a future release. To remove this warning, do the following: 1) Pass option use_label_encoder=False when constructing XGBClassifier object; and 2) Encode your labels (y) as integers starting with 0, i.e. 0, 1, 2, ..., [num_class - 1].\n",
      "  warnings.warn(label_encoder_deprecation_msg, UserWarning)\n",
      "\n",
      "D:\\Folder\\main\\Anaconda\\lib\\site-packages\\xgboost\\sklearn.py:1224: UserWarning: The use of label encoder in XGBClassifier is deprecated and will be removed in a future release. To remove this warning, do the following: 1) Pass option use_label_encoder=False when constructing XGBClassifier object; and 2) Encode your labels (y) as integers starting with 0, i.e. 0, 1, 2, ..., [num_class - 1].\n",
      "  warnings.warn(label_encoder_deprecation_msg, UserWarning)\n",
      "\n"
     ]
    },
    {
     "name": "stdout",
     "output_type": "stream",
     "text": [
      "SCORE:                                                                                                                 \n",
      "0.8039690222652468                                                                                                     \n",
      " 98%|█████████████████████████████████████████████ | 98/100 [00:24<00:00,  4.22trial/s, best loss: -0.8068731848983544]"
     ]
    },
    {
     "name": "stderr",
     "output_type": "stream",
     "text": [
      "D:\\Folder\\main\\Anaconda\\lib\\site-packages\\xgboost\\sklearn.py:1224: UserWarning: The use of label encoder in XGBClassifier is deprecated and will be removed in a future release. To remove this warning, do the following: 1) Pass option use_label_encoder=False when constructing XGBClassifier object; and 2) Encode your labels (y) as integers starting with 0, i.e. 0, 1, 2, ..., [num_class - 1].\n",
      "  warnings.warn(label_encoder_deprecation_msg, UserWarning)\n",
      "\n"
     ]
    },
    {
     "name": "stdout",
     "output_type": "stream",
     "text": [
      "SCORE:                                                                                                                 \n",
      "0.8005808325266215                                                                                                     \n",
      " 99%|█████████████████████████████████████████████▌| 99/100 [00:25<00:00,  4.13trial/s, best loss: -0.8068731848983544]"
     ]
    },
    {
     "name": "stderr",
     "output_type": "stream",
     "text": [
      "D:\\Folder\\main\\Anaconda\\lib\\site-packages\\xgboost\\sklearn.py:1224: UserWarning: The use of label encoder in XGBClassifier is deprecated and will be removed in a future release. To remove this warning, do the following: 1) Pass option use_label_encoder=False when constructing XGBClassifier object; and 2) Encode your labels (y) as integers starting with 0, i.e. 0, 1, 2, ..., [num_class - 1].\n",
      "  warnings.warn(label_encoder_deprecation_msg, UserWarning)\n",
      "\n"
     ]
    },
    {
     "name": "stdout",
     "output_type": "stream",
     "text": [
      "SCORE:                                                                                                                 \n",
      "0.8025169409486931                                                                                                     \n",
      "100%|█████████████████████████████████████████████| 100/100 [00:25<00:00,  3.96trial/s, best loss: -0.8068731848983544]\n"
     ]
    }
   ],
   "source": [
    "tr = Trials()\n",
    "\n",
    "best_hyperparams = fmin(fn = objective,\n",
    "                        space = space,\n",
    "                        algo = tpe.suggest,\n",
    "                        max_evals = 100,\n",
    "                        trials = tr)"
   ]
  },
  {
   "cell_type": "code",
   "execution_count": 72,
   "id": "2c4edf59",
   "metadata": {},
   "outputs": [],
   "source": [
    "xtrain_smotnc, xtest_smotnc, ytrain_smotnc, ytest_smotnc = train_test_split(x_resamples_nc, y_resamples_nc, test_size=0.20)"
   ]
  },
  {
   "cell_type": "code",
   "execution_count": 128,
   "id": "e686e0e5",
   "metadata": {},
   "outputs": [
    {
     "data": {
      "text/plain": [
       "{'colsample_bytree': 0.9905250031928715,\n",
       " 'gamma': 1.0311980465001422,\n",
       " 'max_depth': 5.0,\n",
       " 'min_child_weight': 9.0,\n",
       " 'reg_alpha': 41.0,\n",
       " 'reg_lambda': 0.6118439059582054}"
      ]
     },
     "execution_count": 128,
     "metadata": {},
     "output_type": "execute_result"
    }
   ],
   "source": [
    "best_hyperparams"
   ]
  },
  {
   "cell_type": "markdown",
   "id": "0b93f3a9",
   "metadata": {},
   "source": [
    "#### naive bayes smotnc"
   ]
  },
  {
   "cell_type": "code",
   "execution_count": 73,
   "id": "22f4ce84",
   "metadata": {},
   "outputs": [
    {
     "name": "stdout",
     "output_type": "stream",
     "text": [
      "accuracy:  0.7429816069699903\n",
      "precision:  0.7432098765432099\n",
      "recall:  0.8475551294343241\n",
      "f1:  0.7690300130491518\n"
     ]
    },
    {
     "data": {
      "text/plain": [
       "array([[0.63636364, 0.36363636],\n",
       "       [0.15244487, 0.84755513]])"
      ]
     },
     "execution_count": 73,
     "metadata": {},
     "output_type": "execute_result"
    }
   ],
   "source": [
    "naive = GaussianNB()\n",
    "model = naive.fit(xtrain_smotnc, ytrain_smotnc)\n",
    "#naive_bayes_original_data_pred = naive.predict(xtest.iloc[0].to_numpy().reshape(1,-1))\n",
    "naive_bayes_smotnc_pred = naive.predict(xtest_smotnc)\n",
    "\n",
    "naive_bayes_smotnc_accuracy = accuracy_score(ytest_smotnc,naive_bayes_smotnc_pred)\n",
    "print('accuracy: ', naive_bayes_smotnc_accuracy)\n",
    "\n",
    "naive_bayes_smotnc_precision = precision_score(ytest_smotnc, naive_bayes_smotnc_pred)\n",
    "print('precision: ', naive_bayes_smot_precision)\n",
    "\n",
    "naive_bayes_smotnc_recall = recall_score(ytest_smotnc, naive_bayes_smotnc_pred)\n",
    "print('recall: ', naive_bayes_smotnc_recall)\n",
    "\n",
    "naive_bayes_smotnc_f1 = f1_score(ytest_smotnc, naive_bayes_smotnc_pred)\n",
    "print('f1: ', naive_bayes_smotnc_f1)\n",
    "\n",
    "naive_bayes_smotnc_confusion_matrix = confusion_matrix(ytest_smotnc, naive_bayes_smotnc_pred)\n",
    "naive_bayes_smotnc_confusion_matrix.astype('float')/ naive_bayes_smotnc_confusion_matrix.sum(axis=1)[:, np.newaxis]"
   ]
  },
  {
   "cell_type": "markdown",
   "id": "2fee1580",
   "metadata": {},
   "source": [
    "#### Logistic regression smotnc"
   ]
  },
  {
   "cell_type": "code",
   "execution_count": 74,
   "id": "91420b14",
   "metadata": {},
   "outputs": [
    {
     "name": "stdout",
     "output_type": "stream",
     "text": [
      "accuracy:  0.7831558567279767\n",
      "precision:  0.797752808988764\n",
      "recall:  0.840843720038351\n",
      "f1:  0.7965485921889192\n"
     ]
    },
    {
     "data": {
      "text/plain": [
       "array([[0.72434018, 0.27565982],\n",
       "       [0.15915628, 0.84084372]])"
      ]
     },
     "execution_count": 74,
     "metadata": {},
     "output_type": "execute_result"
    }
   ],
   "source": [
    "log = LogisticRegression(max_iter=1000000)\n",
    "log.fit(xtrain_smotnc, ytrain_smotnc)\n",
    "log_reg_smotnc_pred = log.predict(xtest_smotnc)\n",
    "\n",
    "log_reg_smotnc_accuracy = accuracy_score(ytest_smotnc, log_reg_smotnc_pred)\n",
    "print('accuracy: ', log_reg_smotnc_accuracy)\n",
    "\n",
    "log_reg_smotnc_precision = precision_score(ytest_smotnc, log_reg_smotnc_pred)\n",
    "print('precision: ', log_reg_smot_precision)\n",
    "\n",
    "log_reg_smotnc_recall = recall_score(ytest_smotnc, log_reg_smotnc_pred)\n",
    "print('recall: ', log_reg_smotnc_recall)\n",
    "\n",
    "log_reg_smotnc_f1 = f1_score(ytest_smotnc, log_reg_smotnc_pred)\n",
    "print('f1: ', log_reg_smotnc_f1)\n",
    "\n",
    "log_reg_smotnc_confusion_matrix = confusion_matrix(ytest_smotnc, log_reg_smotnc_pred)\n",
    "log_reg_smotnc_confusion_matrix.astype('float')/ log_reg_smotnc_confusion_matrix.sum(axis=1)[:, np.newaxis]"
   ]
  },
  {
   "cell_type": "code",
   "execution_count": null,
   "id": "de2f4ed1",
   "metadata": {},
   "outputs": [],
   "source": []
  },
  {
   "cell_type": "code",
   "execution_count": 143,
   "id": "6cf9b79b",
   "metadata": {},
   "outputs": [],
   "source": [
    "n_estimators = [5,20,50,100, 150, 200, 250, 300] # number of trees in the random forest\n",
    "max_features = ['auto', 'sqrt'] # number of features in consideration at every split\n",
    "max_depth = [int(x) for x in np.linspace(10, 120, num = 12)] # maximum number of levels allowed in each decision tree\n",
    "min_samples_split = [2, 6, 10, 12, 14] # minimum sample number to split a node\n",
    "min_samples_leaf = [1, 3, 4, 5, 6] # minimum sample number that can be stored in a leaf node\n",
    "bootstrap = [True, False] # method used to sample data points\n",
    "\n",
    "random_grid = {'n_estimators': n_estimators,\n",
    "'max_features': max_features,\n",
    "'max_depth': max_depth,\n",
    "'min_samples_split': min_samples_split,\n",
    "'min_samples_leaf': min_samples_leaf,\n",
    "'bootstrap': bootstrap}"
   ]
  },
  {
   "cell_type": "code",
   "execution_count": 144,
   "id": "0b2533bc",
   "metadata": {},
   "outputs": [],
   "source": [
    "rf_random = RandomizedSearchCV(estimator = ran_for,param_distributions = random_grid,n_iter = 100, cv = 5, verbose=2, random_state=35, n_jobs = -1)"
   ]
  },
  {
   "cell_type": "code",
   "execution_count": 145,
   "id": "e4fc5585",
   "metadata": {},
   "outputs": [
    {
     "name": "stdout",
     "output_type": "stream",
     "text": [
      "Fitting 5 folds for each of 100 candidates, totalling 500 fits\n"
     ]
    },
    {
     "data": {
      "text/plain": [
       "RandomizedSearchCV(cv=5, estimator=RandomForestClassifier(), n_iter=100,\n",
       "                   n_jobs=-1,\n",
       "                   param_distributions={'bootstrap': [True, False],\n",
       "                                        'max_depth': [10, 20, 30, 40, 50, 60,\n",
       "                                                      70, 80, 90, 100, 110,\n",
       "                                                      120],\n",
       "                                        'max_features': ['auto', 'sqrt'],\n",
       "                                        'min_samples_leaf': [1, 3, 4, 5, 6],\n",
       "                                        'min_samples_split': [2, 6, 10, 12, 14],\n",
       "                                        'n_estimators': [5, 20, 50, 100, 150,\n",
       "                                                         200, 250, 300]},\n",
       "                   random_state=35, verbose=2)"
      ]
     },
     "execution_count": 145,
     "metadata": {},
     "output_type": "execute_result"
    }
   ],
   "source": [
    "rf_random.fit(xtrain, ytrain)"
   ]
  },
  {
   "cell_type": "code",
   "execution_count": 147,
   "id": "a1788256",
   "metadata": {},
   "outputs": [
    {
     "data": {
      "text/plain": [
       "{'n_estimators': 300,\n",
       " 'min_samples_split': 14,\n",
       " 'min_samples_leaf': 4,\n",
       " 'max_features': 'sqrt',\n",
       " 'max_depth': 70,\n",
       " 'bootstrap': True}"
      ]
     },
     "execution_count": 147,
     "metadata": {},
     "output_type": "execute_result"
    }
   ],
   "source": [
    "rf_random.best_params_"
   ]
  },
  {
   "cell_type": "code",
   "execution_count": 148,
   "id": "502ce365",
   "metadata": {},
   "outputs": [
    {
     "name": "stdout",
     "output_type": "stream",
     "text": [
      "accuracy:  0.920135527589545\n",
      "precision:  0.9565217391304348\n",
      "recall:  0.8791423001949318\n",
      "f1:  0.9162011173184358\n"
     ]
    }
   ],
   "source": [
    "ran_for_tuned = RandomForestClassifier(n_estimators = 300, min_samples_split=14, min_samples_leaf=4, \n",
    "                                       max_features='sqrt', max_depth=70, bootstrap=True)\n",
    "ran_for_tuned.fit(xtrain_smot, ytrain_smot)\n",
    "\n",
    "ran_for_tuned_original_data_pred = ran_for.predict(xtest_smot)\n",
    "\n",
    "ran_for_tuned_original_data_accuracy = accuracy_score(ytest_smot, ran_for_tuned_original_data_pred)\n",
    "print('accuracy: ', ran_for_tuned_original_data_accuracy)\n",
    "\n",
    "ran_for_tuned_original_data_precision = precision_score(ytest_smot, ran_for_tuned_original_data_pred)\n",
    "print('precision: ', ran_for_tuned_original_data_precision)\n",
    "\n",
    "ran_for_tuned_original_data_recall = recall_score(ytest_smot, ran_for_tuned_original_data_pred)\n",
    "print('recall: ', ran_for_tuned_smot_recall)\n",
    "\n",
    "ran_for_tuned_original_data_f1 = f1_score(ytest_smot, ran_for_tuned_original_data_pred)\n",
    "print('f1: ', ran_for_tuned_original_data_f1)\n"
   ]
  },
  {
   "cell_type": "code",
   "execution_count": null,
   "id": "c46268aa",
   "metadata": {},
   "outputs": [],
   "source": []
  },
  {
   "cell_type": "markdown",
   "id": "0384b2b5",
   "metadata": {},
   "source": [
    "#### XGBoost"
   ]
  },
  {
   "cell_type": "code",
   "execution_count": 44,
   "id": "1dbfee5a",
   "metadata": {
    "scrolled": true
   },
   "outputs": [
    {
     "data": {
      "text/plain": [
       "XGBRegressor(base_score=0.5, booster='gbtree', colsample_bylevel=1,\n",
       "             colsample_bynode=1, colsample_bytree=1, enable_categorical=False,\n",
       "             gamma=0, gpu_id=-1, importance_type=None,\n",
       "             interaction_constraints='', learning_rate=0.300000012,\n",
       "             max_delta_step=0, max_depth=6, min_child_weight=1, missing=nan,\n",
       "             monotone_constraints='()', n_estimators=100, n_jobs=12,\n",
       "             num_parallel_tree=1, predictor='auto', random_state=0, reg_alpha=0,\n",
       "             reg_lambda=1, scale_pos_weight=1, subsample=1, tree_method='exact',\n",
       "             validate_parameters=1, verbosity=None)"
      ]
     },
     "execution_count": 44,
     "metadata": {},
     "output_type": "execute_result"
    }
   ],
   "source": [
    "xg_boost = XGBRegressor()\n",
    "xg_boost.fit(xtrain, ytrain)"
   ]
  },
  {
   "cell_type": "code",
   "execution_count": 45,
   "id": "5c98adf7",
   "metadata": {},
   "outputs": [],
   "source": [
    "xgb_original_data_pred = xg_boost.predict(xtest)\n",
    "xgb_original_data_pred = np.round(xgb_original_data_pred)"
   ]
  },
  {
   "cell_type": "code",
   "execution_count": 48,
   "id": "7485926a",
   "metadata": {},
   "outputs": [
    {
     "data": {
      "text/plain": [
       "0.7821387940841866"
      ]
     },
     "execution_count": 48,
     "metadata": {},
     "output_type": "execute_result"
    }
   ],
   "source": [
    "xgb_original_data_accuracy = accuracy_score(ytest, xgb_original_data_pred)\n",
    "xgb_original_data_accuracy"
   ]
  },
  {
   "cell_type": "code",
   "execution_count": 55,
   "id": "dddda8a5",
   "metadata": {},
   "outputs": [
    {
     "data": {
      "text/plain": [
       "array([[0.87685113, 0.12314887],\n",
       "       [0.47368421, 0.52631579]])"
      ]
     },
     "execution_count": 55,
     "metadata": {},
     "output_type": "execute_result"
    }
   ],
   "source": [
    "xgb_original_data_confusion_matrix = confusion_matrix(ytest, xgb_original_data_pred)\n",
    "xgb_original_data_confusion_matrix.astype('float')/ xgb_original_data_confusion_matrix.sum(axis=1)[:,np.newaxis]"
   ]
  },
  {
   "cell_type": "code",
   "execution_count": 56,
   "id": "fc21f65c",
   "metadata": {
    "scrolled": true
   },
   "outputs": [
    {
     "name": "stdout",
     "output_type": "stream",
     "text": [
      "0.6127450980392157\n"
     ]
    }
   ],
   "source": [
    "xgb_original_data_precision = precision_score(ytest, xgb_original_data_pred)\n",
    "print(xgb_original_data_precision)"
   ]
  },
  {
   "cell_type": "code",
   "execution_count": 57,
   "id": "6f1017ae",
   "metadata": {},
   "outputs": [
    {
     "name": "stdout",
     "output_type": "stream",
     "text": [
      "0.5263157894736842\n"
     ]
    }
   ],
   "source": [
    "xgb_original_data_recall = recall_score(ytest, xgb_original_data_pred)\n",
    "print(xgb_original_data_recall)"
   ]
  },
  {
   "cell_type": "code",
   "execution_count": 58,
   "id": "da0310f8",
   "metadata": {},
   "outputs": [
    {
     "name": "stdout",
     "output_type": "stream",
     "text": [
      "0.5662514156285392\n"
     ]
    }
   ],
   "source": [
    "xgb_original_data_f1 = f1_score(ytest, xgb_original_data_pred)\n",
    "print(xgb_original_data_f1)"
   ]
  },
  {
   "cell_type": "markdown",
   "id": "4e0e9319",
   "metadata": {},
   "source": [
    "### Brief comparision (original data)\n",
    "\n",
    "    model                Accuracy       Precision       Recall       F1 score\n",
    "\n",
    "    Naive bayes          0.7224         0.507           0.802        0.621\n",
    "\n",
    "    Logistic regression  0.816          0.259           0.194        0.221\n",
    "\n",
    "    Random forest        0.795          0.25            0.172        0.203\n",
    "\n",
    "    XGBoost              0.7633         0.611           0.462        0.526"
   ]
  },
  {
   "cell_type": "markdown",
   "id": "b09649b5",
   "metadata": {},
   "source": [
    "Accuracy: quality of prediction\n",
    "\n",
    "Prediction: quality of positive predictions\n",
    "\n",
    "recall: ratio of actually positive values to precicted positive values\n",
    "\n",
    "F1: harmonic mean of precision and recall "
   ]
  },
  {
   "cell_type": "markdown",
   "id": "6e388cba",
   "metadata": {},
   "source": [
    "---"
   ]
  },
  {
   "cell_type": "markdown",
   "id": "f70acb72",
   "metadata": {},
   "source": [
    "# SMOTE"
   ]
  },
  {
   "cell_type": "code",
   "execution_count": 59,
   "id": "aa84c413",
   "metadata": {},
   "outputs": [],
   "source": [
    "smot = SMOTE(random_state=101)\n",
    "x_resamples, y_resamples = smot.fit_resample(original_data_copy[colu[1:len(colu)-1]], original_data_copy['Churn'])"
   ]
  },
  {
   "cell_type": "code",
   "execution_count": 60,
   "id": "9f189cbe",
   "metadata": {},
   "outputs": [
    {
     "data": {
      "text/html": [
       "<div>\n",
       "<style scoped>\n",
       "    .dataframe tbody tr th:only-of-type {\n",
       "        vertical-align: middle;\n",
       "    }\n",
       "\n",
       "    .dataframe tbody tr th {\n",
       "        vertical-align: top;\n",
       "    }\n",
       "\n",
       "    .dataframe thead th {\n",
       "        text-align: right;\n",
       "    }\n",
       "</style>\n",
       "<table border=\"1\" class=\"dataframe\">\n",
       "  <thead>\n",
       "    <tr style=\"text-align: right;\">\n",
       "      <th></th>\n",
       "      <th>gender</th>\n",
       "      <th>SeniorCitizen</th>\n",
       "      <th>Partner</th>\n",
       "      <th>Dependents</th>\n",
       "      <th>tenure</th>\n",
       "      <th>PhoneService</th>\n",
       "      <th>MultipleLines</th>\n",
       "      <th>InternetService</th>\n",
       "      <th>OnlineSecurity</th>\n",
       "      <th>OnlineBackup</th>\n",
       "      <th>DeviceProtection</th>\n",
       "      <th>TechSupport</th>\n",
       "      <th>StreamingTV</th>\n",
       "      <th>StreamingMovies</th>\n",
       "      <th>Contract</th>\n",
       "      <th>PaperlessBilling</th>\n",
       "      <th>PaymentMethod</th>\n",
       "      <th>MonthlyCharges</th>\n",
       "      <th>TotalCharges</th>\n",
       "    </tr>\n",
       "  </thead>\n",
       "  <tbody>\n",
       "    <tr>\n",
       "      <th>0</th>\n",
       "      <td>0</td>\n",
       "      <td>0</td>\n",
       "      <td>0</td>\n",
       "      <td>0</td>\n",
       "      <td>1</td>\n",
       "      <td>0</td>\n",
       "      <td>0</td>\n",
       "      <td>0</td>\n",
       "      <td>0</td>\n",
       "      <td>0</td>\n",
       "      <td>0</td>\n",
       "      <td>0</td>\n",
       "      <td>0</td>\n",
       "      <td>0</td>\n",
       "      <td>0</td>\n",
       "      <td>0</td>\n",
       "      <td>0</td>\n",
       "      <td>29.850000</td>\n",
       "      <td>29.850000</td>\n",
       "    </tr>\n",
       "    <tr>\n",
       "      <th>1</th>\n",
       "      <td>1</td>\n",
       "      <td>0</td>\n",
       "      <td>1</td>\n",
       "      <td>0</td>\n",
       "      <td>34</td>\n",
       "      <td>1</td>\n",
       "      <td>1</td>\n",
       "      <td>0</td>\n",
       "      <td>1</td>\n",
       "      <td>1</td>\n",
       "      <td>1</td>\n",
       "      <td>0</td>\n",
       "      <td>0</td>\n",
       "      <td>0</td>\n",
       "      <td>1</td>\n",
       "      <td>1</td>\n",
       "      <td>1</td>\n",
       "      <td>56.950000</td>\n",
       "      <td>1889.500000</td>\n",
       "    </tr>\n",
       "    <tr>\n",
       "      <th>2</th>\n",
       "      <td>1</td>\n",
       "      <td>0</td>\n",
       "      <td>1</td>\n",
       "      <td>0</td>\n",
       "      <td>2</td>\n",
       "      <td>1</td>\n",
       "      <td>1</td>\n",
       "      <td>0</td>\n",
       "      <td>1</td>\n",
       "      <td>0</td>\n",
       "      <td>0</td>\n",
       "      <td>0</td>\n",
       "      <td>0</td>\n",
       "      <td>0</td>\n",
       "      <td>0</td>\n",
       "      <td>0</td>\n",
       "      <td>1</td>\n",
       "      <td>53.850000</td>\n",
       "      <td>108.150000</td>\n",
       "    </tr>\n",
       "    <tr>\n",
       "      <th>3</th>\n",
       "      <td>1</td>\n",
       "      <td>0</td>\n",
       "      <td>1</td>\n",
       "      <td>0</td>\n",
       "      <td>45</td>\n",
       "      <td>0</td>\n",
       "      <td>0</td>\n",
       "      <td>0</td>\n",
       "      <td>1</td>\n",
       "      <td>1</td>\n",
       "      <td>1</td>\n",
       "      <td>1</td>\n",
       "      <td>0</td>\n",
       "      <td>0</td>\n",
       "      <td>1</td>\n",
       "      <td>1</td>\n",
       "      <td>2</td>\n",
       "      <td>42.300000</td>\n",
       "      <td>1840.750000</td>\n",
       "    </tr>\n",
       "    <tr>\n",
       "      <th>4</th>\n",
       "      <td>0</td>\n",
       "      <td>0</td>\n",
       "      <td>1</td>\n",
       "      <td>0</td>\n",
       "      <td>2</td>\n",
       "      <td>1</td>\n",
       "      <td>1</td>\n",
       "      <td>1</td>\n",
       "      <td>0</td>\n",
       "      <td>1</td>\n",
       "      <td>0</td>\n",
       "      <td>0</td>\n",
       "      <td>0</td>\n",
       "      <td>0</td>\n",
       "      <td>0</td>\n",
       "      <td>0</td>\n",
       "      <td>0</td>\n",
       "      <td>70.700000</td>\n",
       "      <td>151.650000</td>\n",
       "    </tr>\n",
       "    <tr>\n",
       "      <th>...</th>\n",
       "      <td>...</td>\n",
       "      <td>...</td>\n",
       "      <td>...</td>\n",
       "      <td>...</td>\n",
       "      <td>...</td>\n",
       "      <td>...</td>\n",
       "      <td>...</td>\n",
       "      <td>...</td>\n",
       "      <td>...</td>\n",
       "      <td>...</td>\n",
       "      <td>...</td>\n",
       "      <td>...</td>\n",
       "      <td>...</td>\n",
       "      <td>...</td>\n",
       "      <td>...</td>\n",
       "      <td>...</td>\n",
       "      <td>...</td>\n",
       "      <td>...</td>\n",
       "      <td>...</td>\n",
       "    </tr>\n",
       "    <tr>\n",
       "      <th>10321</th>\n",
       "      <td>0</td>\n",
       "      <td>0</td>\n",
       "      <td>1</td>\n",
       "      <td>0</td>\n",
       "      <td>16</td>\n",
       "      <td>1</td>\n",
       "      <td>1</td>\n",
       "      <td>0</td>\n",
       "      <td>0</td>\n",
       "      <td>1</td>\n",
       "      <td>1</td>\n",
       "      <td>0</td>\n",
       "      <td>0</td>\n",
       "      <td>0</td>\n",
       "      <td>0</td>\n",
       "      <td>0</td>\n",
       "      <td>0</td>\n",
       "      <td>58.209558</td>\n",
       "      <td>937.864485</td>\n",
       "    </tr>\n",
       "    <tr>\n",
       "      <th>10322</th>\n",
       "      <td>1</td>\n",
       "      <td>0</td>\n",
       "      <td>0</td>\n",
       "      <td>0</td>\n",
       "      <td>54</td>\n",
       "      <td>1</td>\n",
       "      <td>1</td>\n",
       "      <td>1</td>\n",
       "      <td>1</td>\n",
       "      <td>0</td>\n",
       "      <td>0</td>\n",
       "      <td>0</td>\n",
       "      <td>0</td>\n",
       "      <td>1</td>\n",
       "      <td>1</td>\n",
       "      <td>0</td>\n",
       "      <td>2</td>\n",
       "      <td>109.528404</td>\n",
       "      <td>6109.574554</td>\n",
       "    </tr>\n",
       "    <tr>\n",
       "      <th>10323</th>\n",
       "      <td>0</td>\n",
       "      <td>0</td>\n",
       "      <td>1</td>\n",
       "      <td>0</td>\n",
       "      <td>1</td>\n",
       "      <td>1</td>\n",
       "      <td>1</td>\n",
       "      <td>1</td>\n",
       "      <td>0</td>\n",
       "      <td>1</td>\n",
       "      <td>0</td>\n",
       "      <td>0</td>\n",
       "      <td>0</td>\n",
       "      <td>0</td>\n",
       "      <td>0</td>\n",
       "      <td>0</td>\n",
       "      <td>0</td>\n",
       "      <td>70.114711</td>\n",
       "      <td>70.114711</td>\n",
       "    </tr>\n",
       "    <tr>\n",
       "      <th>10324</th>\n",
       "      <td>1</td>\n",
       "      <td>0</td>\n",
       "      <td>0</td>\n",
       "      <td>0</td>\n",
       "      <td>7</td>\n",
       "      <td>1</td>\n",
       "      <td>1</td>\n",
       "      <td>1</td>\n",
       "      <td>0</td>\n",
       "      <td>0</td>\n",
       "      <td>0</td>\n",
       "      <td>0</td>\n",
       "      <td>1</td>\n",
       "      <td>1</td>\n",
       "      <td>0</td>\n",
       "      <td>0</td>\n",
       "      <td>0</td>\n",
       "      <td>97.604865</td>\n",
       "      <td>666.618046</td>\n",
       "    </tr>\n",
       "    <tr>\n",
       "      <th>10325</th>\n",
       "      <td>0</td>\n",
       "      <td>0</td>\n",
       "      <td>0</td>\n",
       "      <td>0</td>\n",
       "      <td>12</td>\n",
       "      <td>1</td>\n",
       "      <td>2</td>\n",
       "      <td>1</td>\n",
       "      <td>0</td>\n",
       "      <td>0</td>\n",
       "      <td>1</td>\n",
       "      <td>0</td>\n",
       "      <td>0</td>\n",
       "      <td>1</td>\n",
       "      <td>0</td>\n",
       "      <td>0</td>\n",
       "      <td>0</td>\n",
       "      <td>99.972540</td>\n",
       "      <td>1255.525659</td>\n",
       "    </tr>\n",
       "  </tbody>\n",
       "</table>\n",
       "<p>10326 rows × 19 columns</p>\n",
       "</div>"
      ],
      "text/plain": [
       "       gender  SeniorCitizen  Partner  Dependents  tenure  PhoneService  \\\n",
       "0           0              0        0           0       1             0   \n",
       "1           1              0        1           0      34             1   \n",
       "2           1              0        1           0       2             1   \n",
       "3           1              0        1           0      45             0   \n",
       "4           0              0        1           0       2             1   \n",
       "...       ...            ...      ...         ...     ...           ...   \n",
       "10321       0              0        1           0      16             1   \n",
       "10322       1              0        0           0      54             1   \n",
       "10323       0              0        1           0       1             1   \n",
       "10324       1              0        0           0       7             1   \n",
       "10325       0              0        0           0      12             1   \n",
       "\n",
       "       MultipleLines  InternetService  OnlineSecurity  OnlineBackup  \\\n",
       "0                  0                0               0             0   \n",
       "1                  1                0               1             1   \n",
       "2                  1                0               1             0   \n",
       "3                  0                0               1             1   \n",
       "4                  1                1               0             1   \n",
       "...              ...              ...             ...           ...   \n",
       "10321              1                0               0             1   \n",
       "10322              1                1               1             0   \n",
       "10323              1                1               0             1   \n",
       "10324              1                1               0             0   \n",
       "10325              2                1               0             0   \n",
       "\n",
       "       DeviceProtection  TechSupport  StreamingTV  StreamingMovies  Contract  \\\n",
       "0                     0            0            0                0         0   \n",
       "1                     1            0            0                0         1   \n",
       "2                     0            0            0                0         0   \n",
       "3                     1            1            0                0         1   \n",
       "4                     0            0            0                0         0   \n",
       "...                 ...          ...          ...              ...       ...   \n",
       "10321                 1            0            0                0         0   \n",
       "10322                 0            0            0                1         1   \n",
       "10323                 0            0            0                0         0   \n",
       "10324                 0            0            1                1         0   \n",
       "10325                 1            0            0                1         0   \n",
       "\n",
       "       PaperlessBilling  PaymentMethod  MonthlyCharges  TotalCharges  \n",
       "0                     0              0       29.850000     29.850000  \n",
       "1                     1              1       56.950000   1889.500000  \n",
       "2                     0              1       53.850000    108.150000  \n",
       "3                     1              2       42.300000   1840.750000  \n",
       "4                     0              0       70.700000    151.650000  \n",
       "...                 ...            ...             ...           ...  \n",
       "10321                 0              0       58.209558    937.864485  \n",
       "10322                 0              2      109.528404   6109.574554  \n",
       "10323                 0              0       70.114711     70.114711  \n",
       "10324                 0              0       97.604865    666.618046  \n",
       "10325                 0              0       99.972540   1255.525659  \n",
       "\n",
       "[10326 rows x 19 columns]"
      ]
     },
     "execution_count": 60,
     "metadata": {},
     "output_type": "execute_result"
    }
   ],
   "source": [
    "x_resamples"
   ]
  },
  {
   "cell_type": "code",
   "execution_count": 61,
   "id": "50e24b3b",
   "metadata": {},
   "outputs": [
    {
     "data": {
      "text/plain": [
       "0        0\n",
       "1        0\n",
       "2        1\n",
       "3        0\n",
       "4        1\n",
       "        ..\n",
       "10321    1\n",
       "10322    1\n",
       "10323    1\n",
       "10324    1\n",
       "10325    1\n",
       "Name: Churn, Length: 10326, dtype: int64"
      ]
     },
     "execution_count": 61,
     "metadata": {},
     "output_type": "execute_result"
    }
   ],
   "source": [
    "y_resamples"
   ]
  },
  {
   "cell_type": "code",
   "execution_count": 62,
   "id": "6f7daf16",
   "metadata": {
    "scrolled": true
   },
   "outputs": [
    {
     "name": "stdout",
     "output_type": "stream",
     "text": [
      "10326 \n",
      "----------\n",
      "\n",
      "gender\n",
      "0    5852\n",
      "1    4474\n",
      "Name: gender, dtype: int64 \n",
      "\n",
      "SeniorCitizen\n",
      "0    8923\n",
      "1    1403\n",
      "Name: SeniorCitizen, dtype: int64 \n",
      "\n",
      "Partner\n",
      "0    5195\n",
      "1    5131\n",
      "Name: Partner, dtype: int64 \n",
      "\n",
      "Dependents\n",
      "0    8106\n",
      "1    2220\n",
      "Name: Dependents, dtype: int64 \n",
      "\n",
      "tenure\n",
      "1     1270\n",
      "2      469\n",
      "3      385\n",
      "72     362\n",
      "4      322\n",
      "      ... \n",
      "38      75\n",
      "59      73\n",
      "39      73\n",
      "44      72\n",
      "36      70\n",
      "Name: tenure, Length: 72, dtype: int64 \n",
      "\n",
      "PhoneService\n",
      "1    9253\n",
      "0    1073\n",
      "Name: PhoneService, dtype: int64 \n",
      "\n",
      "MultipleLines\n",
      "1    5334\n",
      "2    3952\n",
      "0    1040\n",
      "Name: MultipleLines, dtype: int64 \n",
      "\n",
      "InternetService\n",
      "1    5294\n",
      "0    3350\n",
      "2    1682\n",
      "Name: InternetService, dtype: int64 \n",
      "\n",
      "OnlineSecurity\n",
      "0    6485\n",
      "1    2159\n",
      "2    1682\n",
      "Name: OnlineSecurity, dtype: int64 \n",
      "\n",
      "OnlineBackup\n",
      "1    4827\n",
      "0    3817\n",
      "2    1682\n",
      "Name: OnlineBackup, dtype: int64 \n",
      "\n",
      "DeviceProtection\n",
      "0    5751\n",
      "1    2893\n",
      "2    1682\n",
      "Name: DeviceProtection, dtype: int64 \n",
      "\n",
      "TechSupport\n",
      "0    6456\n",
      "1    2188\n",
      "2    1682\n",
      "Name: TechSupport, dtype: int64 \n",
      "\n",
      "StreamingTV\n",
      "0    4954\n",
      "1    3690\n",
      "2    1682\n",
      "Name: StreamingTV, dtype: int64 \n",
      "\n",
      "StreamingMovies\n",
      "0    4943\n",
      "1    3701\n",
      "2    1682\n",
      "Name: StreamingMovies, dtype: int64 \n",
      "\n",
      "Contract\n",
      "0    7019\n",
      "2    1700\n",
      "1    1607\n",
      "Name: Contract, dtype: int64 \n",
      "\n",
      "PaperlessBilling\n",
      "0    7192\n",
      "1    3134\n",
      "Name: PaperlessBilling, dtype: int64 \n",
      "\n",
      "PaymentMethod\n",
      "0    4452\n",
      "1    2370\n",
      "2    1931\n",
      "3    1573\n",
      "Name: PaymentMethod, dtype: int64 \n",
      "\n"
     ]
    }
   ],
   "source": [
    "print(len(x_resamples),'\\n----------\\n')\n",
    "for x in graph_colu:\n",
    "    print(x)\n",
    "    print(x_resamples[x].value_counts(),'\\n')"
   ]
  },
  {
   "cell_type": "markdown",
   "id": "06c69e86",
   "metadata": {},
   "source": [
    "#### SMOTE-NC"
   ]
  },
  {
   "cell_type": "code",
   "execution_count": 63,
   "id": "2f55f6a8",
   "metadata": {},
   "outputs": [
    {
     "data": {
      "text/plain": [
       "Index(['gender', 'SeniorCitizen', 'Partner', 'Dependents', 'tenure',\n",
       "       'PhoneService', 'MultipleLines', 'InternetService', 'OnlineSecurity',\n",
       "       'OnlineBackup', 'DeviceProtection', 'TechSupport', 'StreamingTV',\n",
       "       'StreamingMovies', 'Contract', 'PaperlessBilling', 'PaymentMethod',\n",
       "       'MonthlyCharges', 'TotalCharges'],\n",
       "      dtype='object')"
      ]
     },
     "execution_count": 63,
     "metadata": {},
     "output_type": "execute_result"
    }
   ],
   "source": [
    "xtrain.columns"
   ]
  },
  {
   "cell_type": "code",
   "execution_count": 64,
   "id": "30dc531b",
   "metadata": {},
   "outputs": [],
   "source": [
    "smotnc = SMOTENC([0,1,2,3,5,6,7,8,9,10,11,12,13,14,15,16,17], random_state=101)\n",
    "x_resamples_nc, y_resamples_nc = smotnc.fit_resample(original_data_copy[colu[1:len(colu)-1]], original_data_copy['Churn'])"
   ]
  },
  {
   "cell_type": "code",
   "execution_count": 65,
   "id": "32e5da37",
   "metadata": {},
   "outputs": [
    {
     "data": {
      "text/html": [
       "<div>\n",
       "<style scoped>\n",
       "    .dataframe tbody tr th:only-of-type {\n",
       "        vertical-align: middle;\n",
       "    }\n",
       "\n",
       "    .dataframe tbody tr th {\n",
       "        vertical-align: top;\n",
       "    }\n",
       "\n",
       "    .dataframe thead th {\n",
       "        text-align: right;\n",
       "    }\n",
       "</style>\n",
       "<table border=\"1\" class=\"dataframe\">\n",
       "  <thead>\n",
       "    <tr style=\"text-align: right;\">\n",
       "      <th></th>\n",
       "      <th>gender</th>\n",
       "      <th>SeniorCitizen</th>\n",
       "      <th>Partner</th>\n",
       "      <th>Dependents</th>\n",
       "      <th>tenure</th>\n",
       "      <th>PhoneService</th>\n",
       "      <th>MultipleLines</th>\n",
       "      <th>InternetService</th>\n",
       "      <th>OnlineSecurity</th>\n",
       "      <th>OnlineBackup</th>\n",
       "      <th>DeviceProtection</th>\n",
       "      <th>TechSupport</th>\n",
       "      <th>StreamingTV</th>\n",
       "      <th>StreamingMovies</th>\n",
       "      <th>Contract</th>\n",
       "      <th>PaperlessBilling</th>\n",
       "      <th>PaymentMethod</th>\n",
       "      <th>MonthlyCharges</th>\n",
       "      <th>TotalCharges</th>\n",
       "    </tr>\n",
       "  </thead>\n",
       "  <tbody>\n",
       "    <tr>\n",
       "      <th>0</th>\n",
       "      <td>0</td>\n",
       "      <td>0</td>\n",
       "      <td>0</td>\n",
       "      <td>0</td>\n",
       "      <td>1</td>\n",
       "      <td>0</td>\n",
       "      <td>0</td>\n",
       "      <td>0</td>\n",
       "      <td>0</td>\n",
       "      <td>0</td>\n",
       "      <td>0</td>\n",
       "      <td>0</td>\n",
       "      <td>0</td>\n",
       "      <td>0</td>\n",
       "      <td>0</td>\n",
       "      <td>0</td>\n",
       "      <td>0</td>\n",
       "      <td>29.85</td>\n",
       "      <td>29.850000</td>\n",
       "    </tr>\n",
       "    <tr>\n",
       "      <th>1</th>\n",
       "      <td>1</td>\n",
       "      <td>0</td>\n",
       "      <td>1</td>\n",
       "      <td>0</td>\n",
       "      <td>34</td>\n",
       "      <td>1</td>\n",
       "      <td>1</td>\n",
       "      <td>0</td>\n",
       "      <td>1</td>\n",
       "      <td>1</td>\n",
       "      <td>1</td>\n",
       "      <td>0</td>\n",
       "      <td>0</td>\n",
       "      <td>0</td>\n",
       "      <td>1</td>\n",
       "      <td>1</td>\n",
       "      <td>1</td>\n",
       "      <td>56.95</td>\n",
       "      <td>1889.500000</td>\n",
       "    </tr>\n",
       "    <tr>\n",
       "      <th>2</th>\n",
       "      <td>1</td>\n",
       "      <td>0</td>\n",
       "      <td>1</td>\n",
       "      <td>0</td>\n",
       "      <td>2</td>\n",
       "      <td>1</td>\n",
       "      <td>1</td>\n",
       "      <td>0</td>\n",
       "      <td>1</td>\n",
       "      <td>0</td>\n",
       "      <td>0</td>\n",
       "      <td>0</td>\n",
       "      <td>0</td>\n",
       "      <td>0</td>\n",
       "      <td>0</td>\n",
       "      <td>0</td>\n",
       "      <td>1</td>\n",
       "      <td>53.85</td>\n",
       "      <td>108.150000</td>\n",
       "    </tr>\n",
       "    <tr>\n",
       "      <th>3</th>\n",
       "      <td>1</td>\n",
       "      <td>0</td>\n",
       "      <td>1</td>\n",
       "      <td>0</td>\n",
       "      <td>45</td>\n",
       "      <td>0</td>\n",
       "      <td>0</td>\n",
       "      <td>0</td>\n",
       "      <td>1</td>\n",
       "      <td>1</td>\n",
       "      <td>1</td>\n",
       "      <td>1</td>\n",
       "      <td>0</td>\n",
       "      <td>0</td>\n",
       "      <td>1</td>\n",
       "      <td>1</td>\n",
       "      <td>2</td>\n",
       "      <td>42.30</td>\n",
       "      <td>1840.750000</td>\n",
       "    </tr>\n",
       "    <tr>\n",
       "      <th>4</th>\n",
       "      <td>0</td>\n",
       "      <td>0</td>\n",
       "      <td>1</td>\n",
       "      <td>0</td>\n",
       "      <td>2</td>\n",
       "      <td>1</td>\n",
       "      <td>1</td>\n",
       "      <td>1</td>\n",
       "      <td>0</td>\n",
       "      <td>1</td>\n",
       "      <td>0</td>\n",
       "      <td>0</td>\n",
       "      <td>0</td>\n",
       "      <td>0</td>\n",
       "      <td>0</td>\n",
       "      <td>0</td>\n",
       "      <td>0</td>\n",
       "      <td>70.70</td>\n",
       "      <td>151.650000</td>\n",
       "    </tr>\n",
       "    <tr>\n",
       "      <th>...</th>\n",
       "      <td>...</td>\n",
       "      <td>...</td>\n",
       "      <td>...</td>\n",
       "      <td>...</td>\n",
       "      <td>...</td>\n",
       "      <td>...</td>\n",
       "      <td>...</td>\n",
       "      <td>...</td>\n",
       "      <td>...</td>\n",
       "      <td>...</td>\n",
       "      <td>...</td>\n",
       "      <td>...</td>\n",
       "      <td>...</td>\n",
       "      <td>...</td>\n",
       "      <td>...</td>\n",
       "      <td>...</td>\n",
       "      <td>...</td>\n",
       "      <td>...</td>\n",
       "      <td>...</td>\n",
       "    </tr>\n",
       "    <tr>\n",
       "      <th>10321</th>\n",
       "      <td>0</td>\n",
       "      <td>0</td>\n",
       "      <td>1</td>\n",
       "      <td>0</td>\n",
       "      <td>17</td>\n",
       "      <td>1</td>\n",
       "      <td>2</td>\n",
       "      <td>0</td>\n",
       "      <td>0</td>\n",
       "      <td>1</td>\n",
       "      <td>0</td>\n",
       "      <td>0</td>\n",
       "      <td>0</td>\n",
       "      <td>0</td>\n",
       "      <td>0</td>\n",
       "      <td>0</td>\n",
       "      <td>1</td>\n",
       "      <td>55.70</td>\n",
       "      <td>954.080850</td>\n",
       "    </tr>\n",
       "    <tr>\n",
       "      <th>10322</th>\n",
       "      <td>0</td>\n",
       "      <td>0</td>\n",
       "      <td>0</td>\n",
       "      <td>0</td>\n",
       "      <td>53</td>\n",
       "      <td>1</td>\n",
       "      <td>1</td>\n",
       "      <td>1</td>\n",
       "      <td>1</td>\n",
       "      <td>0</td>\n",
       "      <td>0</td>\n",
       "      <td>0</td>\n",
       "      <td>1</td>\n",
       "      <td>1</td>\n",
       "      <td>1</td>\n",
       "      <td>0</td>\n",
       "      <td>3</td>\n",
       "      <td>105.40</td>\n",
       "      <td>5773.064110</td>\n",
       "    </tr>\n",
       "    <tr>\n",
       "      <th>10323</th>\n",
       "      <td>0</td>\n",
       "      <td>0</td>\n",
       "      <td>1</td>\n",
       "      <td>0</td>\n",
       "      <td>1</td>\n",
       "      <td>1</td>\n",
       "      <td>1</td>\n",
       "      <td>1</td>\n",
       "      <td>0</td>\n",
       "      <td>1</td>\n",
       "      <td>0</td>\n",
       "      <td>0</td>\n",
       "      <td>0</td>\n",
       "      <td>0</td>\n",
       "      <td>0</td>\n",
       "      <td>0</td>\n",
       "      <td>0</td>\n",
       "      <td>70.10</td>\n",
       "      <td>70.114711</td>\n",
       "    </tr>\n",
       "    <tr>\n",
       "      <th>10324</th>\n",
       "      <td>1</td>\n",
       "      <td>0</td>\n",
       "      <td>1</td>\n",
       "      <td>0</td>\n",
       "      <td>6</td>\n",
       "      <td>1</td>\n",
       "      <td>1</td>\n",
       "      <td>1</td>\n",
       "      <td>0</td>\n",
       "      <td>0</td>\n",
       "      <td>0</td>\n",
       "      <td>0</td>\n",
       "      <td>1</td>\n",
       "      <td>1</td>\n",
       "      <td>0</td>\n",
       "      <td>0</td>\n",
       "      <td>0</td>\n",
       "      <td>96.25</td>\n",
       "      <td>593.414894</td>\n",
       "    </tr>\n",
       "    <tr>\n",
       "      <th>10325</th>\n",
       "      <td>1</td>\n",
       "      <td>0</td>\n",
       "      <td>1</td>\n",
       "      <td>0</td>\n",
       "      <td>12</td>\n",
       "      <td>1</td>\n",
       "      <td>2</td>\n",
       "      <td>1</td>\n",
       "      <td>0</td>\n",
       "      <td>0</td>\n",
       "      <td>1</td>\n",
       "      <td>0</td>\n",
       "      <td>1</td>\n",
       "      <td>1</td>\n",
       "      <td>0</td>\n",
       "      <td>0</td>\n",
       "      <td>0</td>\n",
       "      <td>94.00</td>\n",
       "      <td>1235.308689</td>\n",
       "    </tr>\n",
       "  </tbody>\n",
       "</table>\n",
       "<p>10326 rows × 19 columns</p>\n",
       "</div>"
      ],
      "text/plain": [
       "       gender  SeniorCitizen  Partner  Dependents  tenure  PhoneService  \\\n",
       "0           0              0        0           0       1             0   \n",
       "1           1              0        1           0      34             1   \n",
       "2           1              0        1           0       2             1   \n",
       "3           1              0        1           0      45             0   \n",
       "4           0              0        1           0       2             1   \n",
       "...       ...            ...      ...         ...     ...           ...   \n",
       "10321       0              0        1           0      17             1   \n",
       "10322       0              0        0           0      53             1   \n",
       "10323       0              0        1           0       1             1   \n",
       "10324       1              0        1           0       6             1   \n",
       "10325       1              0        1           0      12             1   \n",
       "\n",
       "       MultipleLines  InternetService  OnlineSecurity  OnlineBackup  \\\n",
       "0                  0                0               0             0   \n",
       "1                  1                0               1             1   \n",
       "2                  1                0               1             0   \n",
       "3                  0                0               1             1   \n",
       "4                  1                1               0             1   \n",
       "...              ...              ...             ...           ...   \n",
       "10321              2                0               0             1   \n",
       "10322              1                1               1             0   \n",
       "10323              1                1               0             1   \n",
       "10324              1                1               0             0   \n",
       "10325              2                1               0             0   \n",
       "\n",
       "       DeviceProtection  TechSupport  StreamingTV  StreamingMovies  Contract  \\\n",
       "0                     0            0            0                0         0   \n",
       "1                     1            0            0                0         1   \n",
       "2                     0            0            0                0         0   \n",
       "3                     1            1            0                0         1   \n",
       "4                     0            0            0                0         0   \n",
       "...                 ...          ...          ...              ...       ...   \n",
       "10321                 0            0            0                0         0   \n",
       "10322                 0            0            1                1         1   \n",
       "10323                 0            0            0                0         0   \n",
       "10324                 0            0            1                1         0   \n",
       "10325                 1            0            1                1         0   \n",
       "\n",
       "       PaperlessBilling  PaymentMethod  MonthlyCharges  TotalCharges  \n",
       "0                     0              0           29.85     29.850000  \n",
       "1                     1              1           56.95   1889.500000  \n",
       "2                     0              1           53.85    108.150000  \n",
       "3                     1              2           42.30   1840.750000  \n",
       "4                     0              0           70.70    151.650000  \n",
       "...                 ...            ...             ...           ...  \n",
       "10321                 0              1           55.70    954.080850  \n",
       "10322                 0              3          105.40   5773.064110  \n",
       "10323                 0              0           70.10     70.114711  \n",
       "10324                 0              0           96.25    593.414894  \n",
       "10325                 0              0           94.00   1235.308689  \n",
       "\n",
       "[10326 rows x 19 columns]"
      ]
     },
     "execution_count": 65,
     "metadata": {},
     "output_type": "execute_result"
    }
   ],
   "source": [
    "x_resamples_nc"
   ]
  },
  {
   "cell_type": "code",
   "execution_count": 66,
   "id": "3bc087f1",
   "metadata": {
    "scrolled": true
   },
   "outputs": [
    {
     "name": "stdout",
     "output_type": "stream",
     "text": [
      "10326 \n",
      "----------\n",
      "\n",
      "gender\n",
      "1    5243\n",
      "0    5083\n",
      "Name: gender, dtype: int64 \n",
      "\n",
      "SeniorCitizen\n",
      "0    8479\n",
      "1    1847\n",
      "Name: SeniorCitizen, dtype: int64 \n",
      "\n",
      "Partner\n",
      "1    5853\n",
      "0    4473\n",
      "Name: Partner, dtype: int64 \n",
      "\n",
      "Dependents\n",
      "0    7829\n",
      "1    2497\n",
      "Name: Dependents, dtype: int64 \n",
      "\n",
      "tenure\n",
      "1     1334\n",
      "2      479\n",
      "3      370\n",
      "72     364\n",
      "4      317\n",
      "      ... \n",
      "36      73\n",
      "45      73\n",
      "38      72\n",
      "59      70\n",
      "44      62\n",
      "Name: tenure, Length: 72, dtype: int64 \n",
      "\n",
      "PhoneService\n",
      "1    9342\n",
      "0     984\n",
      "Name: PhoneService, dtype: int64 \n",
      "\n",
      "MultipleLines\n",
      "1    4883\n",
      "2    4459\n",
      "0     984\n",
      "Name: MultipleLines, dtype: int64 \n",
      "\n",
      "InternetService\n",
      "1    5451\n",
      "0    3144\n",
      "2    1731\n",
      "Name: InternetService, dtype: int64 \n",
      "\n",
      "OnlineSecurity\n",
      "0    6280\n",
      "1    2315\n",
      "2    1731\n",
      "Name: OnlineSecurity, dtype: int64 \n",
      "\n",
      "OnlineBackup\n",
      "1    5330\n",
      "0    3265\n",
      "2    1731\n",
      "Name: OnlineBackup, dtype: int64 \n",
      "\n",
      "DeviceProtection\n",
      "0    5274\n",
      "1    3321\n",
      "2    1731\n",
      "Name: DeviceProtection, dtype: int64 \n",
      "\n",
      "TechSupport\n",
      "0    6207\n",
      "1    2388\n",
      "2    1731\n",
      "Name: TechSupport, dtype: int64 \n",
      "\n",
      "StreamingTV\n",
      "0    4416\n",
      "1    4179\n",
      "2    1731\n",
      "Name: StreamingTV, dtype: int64 \n",
      "\n",
      "StreamingMovies\n",
      "0    4404\n",
      "1    4191\n",
      "2    1731\n",
      "Name: StreamingMovies, dtype: int64 \n",
      "\n",
      "Contract\n",
      "0    6964\n",
      "2    1716\n",
      "1    1646\n",
      "Name: Contract, dtype: int64 \n",
      "\n",
      "PaperlessBilling\n",
      "0    6830\n",
      "1    3496\n",
      "Name: PaperlessBilling, dtype: int64 \n",
      "\n",
      "PaymentMethod\n",
      "0    4657\n",
      "1    2129\n",
      "2    1795\n",
      "3    1745\n",
      "Name: PaymentMethod, dtype: int64 \n",
      "\n"
     ]
    }
   ],
   "source": [
    "print(len(x_resamples_nc),'\\n----------\\n')\n",
    "for x in graph_colu:\n",
    "    print(x)\n",
    "    print(x_resamples_nc[x].value_counts(),'\\n')"
   ]
  },
  {
   "cell_type": "markdown",
   "id": "68f4d5bd",
   "metadata": {},
   "source": [
    "---"
   ]
  },
  {
   "cell_type": "markdown",
   "id": "ae30aeeb",
   "metadata": {},
   "source": [
    "## Using SMOT data"
   ]
  },
  {
   "cell_type": "code",
   "execution_count": 67,
   "id": "ca0fe72e",
   "metadata": {},
   "outputs": [],
   "source": [
    "xtrain_smot, xtest_smot, ytrain_smot, ytest_smot = train_test_split(x_resamples, y_resamples, test_size=0.20)"
   ]
  },
  {
   "cell_type": "markdown",
   "id": "03dbfb6e",
   "metadata": {},
   "source": [
    "#### naive bayes smot"
   ]
  },
  {
   "cell_type": "code",
   "execution_count": 68,
   "id": "ab737524",
   "metadata": {
    "scrolled": true
   },
   "outputs": [
    {
     "name": "stdout",
     "output_type": "stream",
     "text": [
      "accuracy:  0.7894482090997096\n",
      "precision:  0.7432098765432099\n",
      "recall:  0.8801169590643275\n",
      "f1:  0.8058902275769746\n"
     ]
    },
    {
     "data": {
      "text/plain": [
       "array([[0.7       , 0.3       ],\n",
       "       [0.11988304, 0.88011696]])"
      ]
     },
     "execution_count": 68,
     "metadata": {},
     "output_type": "execute_result"
    }
   ],
   "source": [
    "naive = GaussianNB()\n",
    "model = naive.fit(xtrain_smot, ytrain_smot)\n",
    "#naive_bayes_original_data_pred = naive.predict(xtest.iloc[0].to_numpy().reshape(1,-1))\n",
    "naive_bayes_smot_pred = naive.predict(xtest_smot)\n",
    "\n",
    "naive_bayes_smot_accuracy = accuracy_score(ytest_smot,naive_bayes_smot_pred)\n",
    "print('accuracy: ', naive_bayes_smot_accuracy)\n",
    "\n",
    "naive_bayes_smot_precision = precision_score(ytest_smot, naive_bayes_smot_pred)\n",
    "print('precision: ', naive_bayes_smot_precision)\n",
    "\n",
    "naive_bayes_smot_recall = recall_score(ytest_smot, naive_bayes_smot_pred)\n",
    "print('recall: ', naive_bayes_smot_recall)\n",
    "\n",
    "naive_bayes_smot_f1 = f1_score(ytest_smot, naive_bayes_smot_pred)\n",
    "print('f1: ', naive_bayes_smot_f1)\n",
    "\n",
    "naive_bayes_smot_confusion_matrix = confusion_matrix(ytest_smot, naive_bayes_smot_pred)\n",
    "naive_bayes_smot_confusion_matrix.astype('float')/ naive_bayes_smot_confusion_matrix.sum(axis=1)[:, np.newaxis]"
   ]
  },
  {
   "cell_type": "markdown",
   "id": "78e55058",
   "metadata": {},
   "source": [
    "#### Logistic regression smot"
   ]
  },
  {
   "cell_type": "code",
   "execution_count": 69,
   "id": "050866be",
   "metadata": {
    "scrolled": true
   },
   "outputs": [
    {
     "name": "stdout",
     "output_type": "stream",
     "text": [
      "accuracy:  0.8112294288480155\n",
      "precision:  0.797752808988764\n",
      "recall:  0.8304093567251462\n",
      "f1:  0.8137535816618909\n"
     ]
    },
    {
     "data": {
      "text/plain": [
       "array([[0.79230769, 0.20769231],\n",
       "       [0.16959064, 0.83040936]])"
      ]
     },
     "execution_count": 69,
     "metadata": {},
     "output_type": "execute_result"
    }
   ],
   "source": [
    "log = LogisticRegression(max_iter=1000000)\n",
    "log.fit(xtrain_smot, ytrain_smot)\n",
    "log_reg_smot_pred = log.predict(xtest_smot)\n",
    "\n",
    "log_reg_smot_accuracy = accuracy_score(ytest_smot, log_reg_smot_pred)\n",
    "print('accuracy: ', log_reg_smot_accuracy)\n",
    "\n",
    "log_reg_smot_precision = precision_score(ytest_smot, log_reg_smot_pred)\n",
    "print('precision: ', log_reg_smot_precision)\n",
    "\n",
    "log_reg_smot_recall = recall_score(ytest_smot, log_reg_smot_pred)\n",
    "print('recall: ', log_reg_smot_recall)\n",
    "\n",
    "log_reg_smot_f1 = f1_score(ytest_smot, log_reg_smot_pred)\n",
    "print('f1: ', log_reg_smot_f1)\n",
    "\n",
    "log_reg_smot_confusion_matrix = confusion_matrix(ytest_smot, log_reg_smot_pred)\n",
    "log_reg_smot_confusion_matrix.astype('float')/ log_reg_smot_confusion_matrix.sum(axis=1)[:, np.newaxis]"
   ]
  },
  {
   "cell_type": "markdown",
   "id": "2ecfe864",
   "metadata": {},
   "source": [
    "#### Random forest smot"
   ]
  },
  {
   "cell_type": "code",
   "execution_count": 70,
   "id": "d6666f52",
   "metadata": {},
   "outputs": [
    {
     "name": "stdout",
     "output_type": "stream",
     "text": [
      "accuracy:  0.8441432720232332\n",
      "precision:  0.8333333333333334\n",
      "recall:  0.8576998050682261\n",
      "f1:  0.845341018251681\n"
     ]
    },
    {
     "data": {
      "text/plain": [
       "array([[0.83076923, 0.16923077],\n",
       "       [0.14230019, 0.85769981]])"
      ]
     },
     "execution_count": 70,
     "metadata": {},
     "output_type": "execute_result"
    }
   ],
   "source": [
    "ran_for = RandomForestClassifier()\n",
    "ran_for.fit(xtrain_smot, ytrain_smot)\n",
    "\n",
    "ran_for_smot_pred = ran_for.predict(xtest_smot)\n",
    "\n",
    "ran_for_smot_accuracy = accuracy_score(ytest_smot, ran_for_smot_pred)\n",
    "print('accuracy: ', ran_for_smot_accuracy)\n",
    "\n",
    "ran_for_smot_precision = precision_score(ytest_smot, ran_for_smot_pred)\n",
    "print('precision: ', ran_for_smot_precision)\n",
    "\n",
    "ran_for_smot_recall = recall_score(ytest_smot, ran_for_smot_pred)\n",
    "print('recall: ', ran_for_smot_recall)\n",
    "\n",
    "ran_for_smot_f1 = f1_score(ytest_smot, ran_for_smot_pred)\n",
    "print('f1: ', ran_for_smot_f1)\n",
    "\n",
    "\n",
    "ran_for_smot_confusion_matrix = confusion_matrix(ytest_smot, ran_for_smot_pred)\n",
    "ran_for_smot_confusion_matrix.astype('float')/ ran_for_smot_confusion_matrix.sum(axis=1)[:, np.newaxis]"
   ]
  },
  {
   "cell_type": "markdown",
   "id": "dfd8088e",
   "metadata": {},
   "source": [
    "### Hyperparameter tuning for Random forest"
   ]
  },
  {
   "cell_type": "code",
   "execution_count": 110,
   "id": "69c1935b",
   "metadata": {},
   "outputs": [],
   "source": [
    "n_estimators = [5,20,50,100, 150, 200, 250, 300] # number of trees in the random forest\n",
    "max_features = ['auto', 'sqrt'] # number of features in consideration at every split\n",
    "max_depth = [int(x) for x in np.linspace(10, 120, num = 12)] # maximum number of levels allowed in each decision tree\n",
    "min_samples_split = [2, 6, 10, 12, 14] # minimum sample number to split a node\n",
    "min_samples_leaf = [1, 3, 4, 5, 6] # minimum sample number that can be stored in a leaf node\n",
    "bootstrap = [True, False] # method used to sample data points\n",
    "\n",
    "random_grid = {'n_estimators': n_estimators,\n",
    "'max_features': max_features,\n",
    "'max_depth': max_depth,\n",
    "'min_samples_split': min_samples_split,\n",
    "'min_samples_leaf': min_samples_leaf,\n",
    "'bootstrap': bootstrap}"
   ]
  },
  {
   "cell_type": "code",
   "execution_count": 111,
   "id": "f2edee44",
   "metadata": {},
   "outputs": [],
   "source": [
    "rf_random = RandomizedSearchCV(estimator = ran_for,param_distributions = random_grid,n_iter = 100, cv = 5, verbose=2, random_state=35, n_jobs = -1)"
   ]
  },
  {
   "cell_type": "code",
   "execution_count": 112,
   "id": "819fdd46",
   "metadata": {},
   "outputs": [
    {
     "name": "stdout",
     "output_type": "stream",
     "text": [
      "Fitting 5 folds for each of 100 candidates, totalling 500 fits\n"
     ]
    },
    {
     "data": {
      "text/plain": [
       "RandomizedSearchCV(cv=5, estimator=RandomForestClassifier(), n_iter=100,\n",
       "                   n_jobs=-1,\n",
       "                   param_distributions={'bootstrap': [True, False],\n",
       "                                        'max_depth': [10, 20, 30, 40, 50, 60,\n",
       "                                                      70, 80, 90, 100, 110,\n",
       "                                                      120],\n",
       "                                        'max_features': ['auto', 'sqrt'],\n",
       "                                        'min_samples_leaf': [1, 3, 4, 5, 6],\n",
       "                                        'min_samples_split': [2, 6, 10, 12, 14],\n",
       "                                        'n_estimators': [5, 20, 50, 100, 150,\n",
       "                                                         200, 250, 300]},\n",
       "                   random_state=35, verbose=2)"
      ]
     },
     "execution_count": 112,
     "metadata": {},
     "output_type": "execute_result"
    }
   ],
   "source": [
    "rf_random.fit(xtrain_smot, ytrain_smot)"
   ]
  },
  {
   "cell_type": "code",
   "execution_count": 113,
   "id": "0b0fc312",
   "metadata": {},
   "outputs": [
    {
     "data": {
      "text/plain": [
       "{'n_estimators': 250,\n",
       " 'min_samples_split': 2,\n",
       " 'min_samples_leaf': 1,\n",
       " 'max_features': 'sqrt',\n",
       " 'max_depth': 120,\n",
       " 'bootstrap': True}"
      ]
     },
     "execution_count": 113,
     "metadata": {},
     "output_type": "execute_result"
    }
   ],
   "source": [
    "rf_random.best_params_"
   ]
  },
  {
   "cell_type": "code",
   "execution_count": 114,
   "id": "3b40925a",
   "metadata": {},
   "outputs": [
    {
     "name": "stdout",
     "output_type": "stream",
     "text": [
      "accuracy:  0.8441432720232332\n",
      "precision:  0.9565217391304348\n",
      "recall:  0.8791423001949318\n",
      "f1:  0.9162011173184358\n"
     ]
    }
   ],
   "source": [
    "ran_for_tuned = RandomForestClassifier(n_estimators = 250, min_samples_split=2, min_samples_leaf=1, \n",
    "                                       max_features='sqrt', max_depth=120, bootstrap=True)\n",
    "ran_for_tuned.fit(xtrain_smot, ytrain_smot)\n",
    "\n",
    "ran_for_tuned_smot_pred = ran_for.predict(xtest_smot)\n",
    "\n",
    "ran_for_tuned_smot_accuracy = accuracy_score(ytest_smot, ran_for_smot_pred)\n",
    "print('accuracy: ', ran_for_tuned_smot_accuracy)\n",
    "\n",
    "ran_for_tuned_smot_precision = precision_score(ytest_smot, ran_for_tuned_smot_pred)\n",
    "print('precision: ', ran_for_tuned_smot_precision)\n",
    "\n",
    "ran_for_tuned_smot_recall = recall_score(ytest_smot, ran_for_tuned_smot_pred)\n",
    "print('recall: ', ran_for_tuned_smot_recall)\n",
    "\n",
    "ran_for_tuned_smot_f1 = f1_score(ytest_smot, ran_for_tuned_smot_pred)\n",
    "print('f1: ', ran_for_tuned_smot_f1)\n"
   ]
  },
  {
   "cell_type": "markdown",
   "id": "fd534996",
   "metadata": {},
   "source": [
    "#### xgboost smot"
   ]
  },
  {
   "cell_type": "code",
   "execution_count": 71,
   "id": "aa326e99",
   "metadata": {},
   "outputs": [
    {
     "name": "stdout",
     "output_type": "stream",
     "text": [
      "accuracy:  0.8397870280735721\n",
      "precision:  0.8377065111758989\n",
      "recall:  0.8401559454191033\n",
      "f1:  0.8389294403892944\n"
     ]
    },
    {
     "data": {
      "text/plain": [
       "array([[0.83942308, 0.16057692],\n",
       "       [0.15984405, 0.84015595]])"
      ]
     },
     "execution_count": 71,
     "metadata": {},
     "output_type": "execute_result"
    }
   ],
   "source": [
    "xg_boost = XGBRegressor()\n",
    "xg_boost.fit(xtrain_smot, ytrain_smot)\n",
    "\n",
    "xgb_smot_prediction = xg_boost.predict(xtest_smot)\n",
    "xgb_smot_pred = np.round(xgb_smot_prediction)\n",
    "\n",
    "xgb_smot_accuracy = accuracy_score(ytest_smot, xgb_smot_pred)\n",
    "print('accuracy: ', xgb_smot_accuracy)\n",
    "\n",
    "xgb_smot_precision = precision_score(ytest_smot, xgb_smot_pred)\n",
    "print('precision: ', xgb_smot_precision)\n",
    "\n",
    "xgb_smot_recall = recall_score(ytest_smot, xgb_smot_pred)\n",
    "print('recall: ', xgb_smot_recall)\n",
    "\n",
    "xgb_smot_f1 = f1_score(ytest_smot, xgb_smot_pred)\n",
    "print('f1: ', xgb_smot_f1)\n",
    "\n",
    "xgb_smot_confusion_matrix = confusion_matrix(ytest_smot, xgb_smot_pred)\n",
    "xgb_smot_confusion_matrix.astype('float')/ xgb_smot_confusion_matrix.sum(axis=1)[:,np.newaxis]"
   ]
  },
  {
   "cell_type": "markdown",
   "id": "b7ae574f",
   "metadata": {},
   "source": [
    "### Brief comparision (original data)\n",
    "\n",
    "    model                Accuracy       Precision       Recall       F1 score\n",
    "\n",
    "    Naive bayes          0.7224         0.507           0.802        0.621\n",
    "\n",
    "    Logistic regression  0.816          0.259           0.194        0.221\n",
    "\n",
    "    Random forest        0.795          0.25            0.172        0.203\n",
    "\n",
    "    XGBoost              0.7633         0.611           0.462        0.526"
   ]
  },
  {
   "cell_type": "markdown",
   "id": "7ea0cf31",
   "metadata": {},
   "source": [
    "### Brief comparision (SMOT data)\n",
    "\n",
    "    model                Accuracy       Precision       Recall       F1 score\n",
    "\n",
    "    Naive bayes          0.733          0.732           0.854        0.788       \n",
    "\n",
    "    Logistic regression  0.862          0.259           0.863        0.831\n",
    "\n",
    "    Random forest        0.849          0.25            0.847        0.847\n",
    "\n",
    "    XGBoost              0.846          0.838           0.853        0.845"
   ]
  },
  {
   "cell_type": "markdown",
   "id": "a9f61aac",
   "metadata": {},
   "source": [
    "---"
   ]
  },
  {
   "cell_type": "markdown",
   "id": "04bb39d0",
   "metadata": {},
   "source": [
    "## Using SMOTE-NC data"
   ]
  },
  {
   "cell_type": "code",
   "execution_count": 72,
   "id": "2c7e1b4a",
   "metadata": {},
   "outputs": [],
   "source": [
    "xtrain_smotnc, xtest_smotnc, ytrain_smotnc, ytest_smotnc = train_test_split(x_resamples_nc, y_resamples_nc, test_size=0.20)"
   ]
  },
  {
   "cell_type": "markdown",
   "id": "373860c4",
   "metadata": {},
   "source": [
    "#### naive bayes smotnc"
   ]
  },
  {
   "cell_type": "code",
   "execution_count": 73,
   "id": "b7e04b54",
   "metadata": {},
   "outputs": [
    {
     "name": "stdout",
     "output_type": "stream",
     "text": [
      "accuracy:  0.7429816069699903\n",
      "precision:  0.7432098765432099\n",
      "recall:  0.8475551294343241\n",
      "f1:  0.7690300130491518\n"
     ]
    },
    {
     "data": {
      "text/plain": [
       "array([[0.63636364, 0.36363636],\n",
       "       [0.15244487, 0.84755513]])"
      ]
     },
     "execution_count": 73,
     "metadata": {},
     "output_type": "execute_result"
    }
   ],
   "source": [
    "naive = GaussianNB()\n",
    "model = naive.fit(xtrain_smotnc, ytrain_smotnc)\n",
    "#naive_bayes_original_data_pred = naive.predict(xtest.iloc[0].to_numpy().reshape(1,-1))\n",
    "naive_bayes_smotnc_pred = naive.predict(xtest_smotnc)\n",
    "\n",
    "naive_bayes_smotnc_accuracy = accuracy_score(ytest_smotnc,naive_bayes_smotnc_pred)\n",
    "print('accuracy: ', naive_bayes_smotnc_accuracy)\n",
    "\n",
    "naive_bayes_smotnc_precision = precision_score(ytest_smotnc, naive_bayes_smotnc_pred)\n",
    "print('precision: ', naive_bayes_smot_precision)\n",
    "\n",
    "naive_bayes_smotnc_recall = recall_score(ytest_smotnc, naive_bayes_smotnc_pred)\n",
    "print('recall: ', naive_bayes_smotnc_recall)\n",
    "\n",
    "naive_bayes_smotnc_f1 = f1_score(ytest_smotnc, naive_bayes_smotnc_pred)\n",
    "print('f1: ', naive_bayes_smotnc_f1)\n",
    "\n",
    "naive_bayes_smotnc_confusion_matrix = confusion_matrix(ytest_smotnc, naive_bayes_smotnc_pred)\n",
    "naive_bayes_smotnc_confusion_matrix.astype('float')/ naive_bayes_smotnc_confusion_matrix.sum(axis=1)[:, np.newaxis]"
   ]
  },
  {
   "cell_type": "markdown",
   "id": "eb19b415",
   "metadata": {},
   "source": [
    "#### Logistic regression smotnc"
   ]
  },
  {
   "cell_type": "code",
   "execution_count": 74,
   "id": "f42ed302",
   "metadata": {},
   "outputs": [
    {
     "name": "stdout",
     "output_type": "stream",
     "text": [
      "accuracy:  0.7831558567279767\n",
      "precision:  0.797752808988764\n",
      "recall:  0.840843720038351\n",
      "f1:  0.7965485921889192\n"
     ]
    },
    {
     "data": {
      "text/plain": [
       "array([[0.72434018, 0.27565982],\n",
       "       [0.15915628, 0.84084372]])"
      ]
     },
     "execution_count": 74,
     "metadata": {},
     "output_type": "execute_result"
    }
   ],
   "source": [
    "log = LogisticRegression(max_iter=1000000)\n",
    "log.fit(xtrain_smotnc, ytrain_smotnc)\n",
    "log_reg_smotnc_pred = log.predict(xtest_smotnc)\n",
    "\n",
    "log_reg_smotnc_accuracy = accuracy_score(ytest_smotnc, log_reg_smotnc_pred)\n",
    "print('accuracy: ', log_reg_smotnc_accuracy)\n",
    "\n",
    "log_reg_smotnc_precision = precision_score(ytest_smotnc, log_reg_smotnc_pred)\n",
    "print('precision: ', log_reg_smot_precision)\n",
    "\n",
    "log_reg_smotnc_recall = recall_score(ytest_smotnc, log_reg_smotnc_pred)\n",
    "print('recall: ', log_reg_smotnc_recall)\n",
    "\n",
    "log_reg_smotnc_f1 = f1_score(ytest_smotnc, log_reg_smotnc_pred)\n",
    "print('f1: ', log_reg_smotnc_f1)\n",
    "\n",
    "log_reg_smotnc_confusion_matrix = confusion_matrix(ytest_smotnc, log_reg_smotnc_pred)\n",
    "log_reg_smotnc_confusion_matrix.astype('float')/ log_reg_smotnc_confusion_matrix.sum(axis=1)[:, np.newaxis]"
   ]
  },
  {
   "cell_type": "markdown",
   "id": "bbb11750",
   "metadata": {},
   "source": [
    "#### Random forest smotnc"
   ]
  },
  {
   "cell_type": "code",
   "execution_count": 75,
   "id": "0f8c92f3",
   "metadata": {},
   "outputs": [
    {
     "name": "stdout",
     "output_type": "stream",
     "text": [
      "accuracy:  0.8267182962245886\n",
      "precision:  0.4990530303030303\n",
      "recall:  0.5052732502396932\n",
      "f1:  0.5021438780371605\n"
     ]
    },
    {
     "data": {
      "text/plain": [
       "array([[0.7888563 , 0.2111437 ],\n",
       "       [0.13614573, 0.86385427]])"
      ]
     },
     "execution_count": 75,
     "metadata": {},
     "output_type": "execute_result"
    }
   ],
   "source": [
    "ran_for = RandomForestClassifier()\n",
    "ran_for.fit(xtrain_smotnc, ytrain_smotnc)\n",
    "\n",
    "ran_for_smotnc_pred = ran_for.predict(xtest_smotnc)\n",
    "\n",
    "ran_for_smotnc_accuracy = accuracy_score(ytest_smotnc, ran_for_smotnc_pred)\n",
    "print('accuracy: ', ran_for_smotnc_accuracy)\n",
    "\n",
    "ran_for_smotnc_precision = precision_score(ytest_smotnc, ran_for_smot_pred)\n",
    "print('precision: ', ran_for_smotnc_precision)\n",
    "\n",
    "ran_for_smotnc_recall = recall_score(ytest_smotnc, ran_for_smot_pred)\n",
    "print('recall: ', ran_for_smotnc_recall)\n",
    "\n",
    "ran_for_smotnc_f1 = f1_score(ytest_smotnc, ran_for_smot_pred)\n",
    "print('f1: ', ran_for_smotnc_f1)\n",
    "\n",
    "ran_for_smotnc_confusion_matrix = confusion_matrix(ytest_smotnc, ran_for_smotnc_pred)\n",
    "ran_for_smotnc_confusion_matrix.astype('float')/ ran_for_smotnc_confusion_matrix.sum(axis=1)[:, np.newaxis]"
   ]
  },
  {
   "cell_type": "markdown",
   "id": "662bd676",
   "metadata": {},
   "source": [
    "#### xgboost smot"
   ]
  },
  {
   "cell_type": "code",
   "execution_count": 76,
   "id": "3bf693aa",
   "metadata": {},
   "outputs": [
    {
     "name": "stdout",
     "output_type": "stream",
     "text": [
      "accuracy:  0.8199419167473379\n",
      "precision:  0.4868804664723032\n",
      "recall:  0.48034515819750717\n",
      "f1:  0.4835907335907336\n"
     ]
    },
    {
     "data": {
      "text/plain": [
       "array([[0.77321603, 0.22678397],\n",
       "       [0.13422819, 0.86577181]])"
      ]
     },
     "execution_count": 76,
     "metadata": {},
     "output_type": "execute_result"
    }
   ],
   "source": [
    "xg_boost = XGBRegressor()\n",
    "xg_boost.fit(xtrain_smotnc, ytrain_smotnc)\n",
    "\n",
    "xgb_smotnc_prediction = xg_boost.predict(xtest_smotnc)\n",
    "xgb_smotnc_prediction = np.round(xgb_smotnc_prediction)\n",
    "\n",
    "xgb_smotnc_accuracy = accuracy_score(ytest_smotnc, xgb_smotnc_prediction)\n",
    "print('accuracy: ', xgb_smotnc_accuracy)\n",
    "\n",
    "xgb_smotnc_precision = precision_score(ytest_smotnc, xgb_smot_pred)\n",
    "print('precision: ', xgb_smotnc_precision)\n",
    "\n",
    "xgb_smotnc_recall = recall_score(ytest_smotnc, xgb_smot_pred)\n",
    "print('recall: ', xgb_smotnc_recall)\n",
    "\n",
    "xgb_smotnc_f1 = f1_score(ytest_smotnc, xgb_smot_pred)\n",
    "print('f1: ', xgb_smotnc_f1)\n",
    "\n",
    "xgb_smotnc_confusion_matrix = confusion_matrix(ytest_smotnc, xgb_smotnc_prediction)\n",
    "xgb_smotnc_confusion_matrix.astype('float')/ xgb_smotnc_confusion_matrix.sum(axis=1)[:,np.newaxis]"
   ]
  },
  {
   "cell_type": "markdown",
   "id": "a7e6885b",
   "metadata": {},
   "source": [
    "---"
   ]
  },
  {
   "cell_type": "markdown",
   "id": "07677e95",
   "metadata": {},
   "source": [
    "## performance matrixes"
   ]
  },
  {
   "cell_type": "code",
   "execution_count": 98,
   "id": "64a0fa76",
   "metadata": {},
   "outputs": [
    {
     "data": {
      "text/html": [
       "<div>\n",
       "<style scoped>\n",
       "    .dataframe tbody tr th:only-of-type {\n",
       "        vertical-align: middle;\n",
       "    }\n",
       "\n",
       "    .dataframe tbody tr th {\n",
       "        vertical-align: top;\n",
       "    }\n",
       "\n",
       "    .dataframe thead tr th {\n",
       "        text-align: left;\n",
       "    }\n",
       "</style>\n",
       "<table border=\"1\" class=\"dataframe\">\n",
       "  <thead>\n",
       "    <tr>\n",
       "      <th></th>\n",
       "      <th>Model</th>\n",
       "      <th>original_data</th>\n",
       "      <th>SMOT</th>\n",
       "      <th>SMOTNC</th>\n",
       "    </tr>\n",
       "  </thead>\n",
       "  <tbody>\n",
       "    <tr>\n",
       "      <th>0</th>\n",
       "      <td>Naive bayes</td>\n",
       "      <td>0.715586</td>\n",
       "      <td>0.789448</td>\n",
       "      <td>0.742982</td>\n",
       "    </tr>\n",
       "    <tr>\n",
       "      <th>1</th>\n",
       "      <td>Logistic Regression</td>\n",
       "      <td>0.812856</td>\n",
       "      <td>0.811229</td>\n",
       "      <td>0.783156</td>\n",
       "    </tr>\n",
       "    <tr>\n",
       "      <th>2</th>\n",
       "      <td>Random Forest</td>\n",
       "      <td>0.788965</td>\n",
       "      <td>0.844143</td>\n",
       "      <td>0.826718</td>\n",
       "    </tr>\n",
       "    <tr>\n",
       "      <th>3</th>\n",
       "      <td>XGBoost</td>\n",
       "      <td>0.782139</td>\n",
       "      <td>0.839787</td>\n",
       "      <td>0.819942</td>\n",
       "    </tr>\n",
       "  </tbody>\n",
       "</table>\n",
       "</div>"
      ],
      "text/plain": [
       "                 Model original_data      SMOT    SMOTNC\n",
       "0          Naive bayes      0.715586  0.789448  0.742982\n",
       "1  Logistic Regression      0.812856  0.811229  0.783156\n",
       "2        Random Forest      0.788965  0.844143  0.826718\n",
       "3              XGBoost      0.782139  0.839787  0.819942"
      ]
     },
     "execution_count": 98,
     "metadata": {},
     "output_type": "execute_result"
    }
   ],
   "source": [
    "accuracy_matrix"
   ]
  },
  {
   "cell_type": "code",
   "execution_count": 99,
   "id": "c454b676",
   "metadata": {
    "scrolled": false
   },
   "outputs": [
    {
     "data": {
      "text/html": [
       "<div>\n",
       "<style scoped>\n",
       "    .dataframe tbody tr th:only-of-type {\n",
       "        vertical-align: middle;\n",
       "    }\n",
       "\n",
       "    .dataframe tbody tr th {\n",
       "        vertical-align: top;\n",
       "    }\n",
       "\n",
       "    .dataframe thead tr th {\n",
       "        text-align: left;\n",
       "    }\n",
       "</style>\n",
       "<table border=\"1\" class=\"dataframe\">\n",
       "  <thead>\n",
       "    <tr>\n",
       "      <th></th>\n",
       "      <th>Model</th>\n",
       "      <th>original_data</th>\n",
       "      <th>SMOT</th>\n",
       "      <th>SMOTNC</th>\n",
       "    </tr>\n",
       "  </thead>\n",
       "  <tbody>\n",
       "    <tr>\n",
       "      <th>0</th>\n",
       "      <td>Naive bayes</td>\n",
       "      <td>0.484197</td>\n",
       "      <td>0.74321</td>\n",
       "      <td>0.703822</td>\n",
       "    </tr>\n",
       "    <tr>\n",
       "      <th>1</th>\n",
       "      <td>Logistic Regression</td>\n",
       "      <td>0.685279</td>\n",
       "      <td>0.797753</td>\n",
       "      <td>0.756687</td>\n",
       "    </tr>\n",
       "    <tr>\n",
       "      <th>2</th>\n",
       "      <td>Random Forest</td>\n",
       "      <td>0.645251</td>\n",
       "      <td>0.833333</td>\n",
       "      <td>0.499053</td>\n",
       "    </tr>\n",
       "    <tr>\n",
       "      <th>3</th>\n",
       "      <td>XGBoost</td>\n",
       "      <td>0.612745</td>\n",
       "      <td>0.837707</td>\n",
       "      <td>0.48688</td>\n",
       "    </tr>\n",
       "  </tbody>\n",
       "</table>\n",
       "</div>"
      ],
      "text/plain": [
       "                 Model original_data      SMOT    SMOTNC\n",
       "0          Naive bayes      0.484197   0.74321  0.703822\n",
       "1  Logistic Regression      0.685279  0.797753  0.756687\n",
       "2        Random Forest      0.645251  0.833333  0.499053\n",
       "3              XGBoost      0.612745  0.837707   0.48688"
      ]
     },
     "execution_count": 99,
     "metadata": {},
     "output_type": "execute_result"
    }
   ],
   "source": [
    "precision_matrix"
   ]
  },
  {
   "cell_type": "code",
   "execution_count": 100,
   "id": "12d49d83",
   "metadata": {},
   "outputs": [
    {
     "data": {
      "text/html": [
       "<div>\n",
       "<style scoped>\n",
       "    .dataframe tbody tr th:only-of-type {\n",
       "        vertical-align: middle;\n",
       "    }\n",
       "\n",
       "    .dataframe tbody tr th {\n",
       "        vertical-align: top;\n",
       "    }\n",
       "\n",
       "    .dataframe thead tr th {\n",
       "        text-align: left;\n",
       "    }\n",
       "</style>\n",
       "<table border=\"1\" class=\"dataframe\">\n",
       "  <thead>\n",
       "    <tr>\n",
       "      <th></th>\n",
       "      <th>Model</th>\n",
       "      <th>original_data</th>\n",
       "      <th>SMOT</th>\n",
       "      <th>SMOTNC</th>\n",
       "    </tr>\n",
       "  </thead>\n",
       "  <tbody>\n",
       "    <tr>\n",
       "      <th>0</th>\n",
       "      <td>Naive bayes</td>\n",
       "      <td>0.806316</td>\n",
       "      <td>0.880117</td>\n",
       "      <td>0.847555</td>\n",
       "    </tr>\n",
       "    <tr>\n",
       "      <th>1</th>\n",
       "      <td>Logistic Regression</td>\n",
       "      <td>0.568421</td>\n",
       "      <td>0.830409</td>\n",
       "      <td>0.840844</td>\n",
       "    </tr>\n",
       "    <tr>\n",
       "      <th>2</th>\n",
       "      <td>Random Forest</td>\n",
       "      <td>0.486316</td>\n",
       "      <td>0.8577</td>\n",
       "      <td>0.505273</td>\n",
       "    </tr>\n",
       "    <tr>\n",
       "      <th>3</th>\n",
       "      <td>XGBoost</td>\n",
       "      <td>0.526316</td>\n",
       "      <td>0.840156</td>\n",
       "      <td>0.480345</td>\n",
       "    </tr>\n",
       "  </tbody>\n",
       "</table>\n",
       "</div>"
      ],
      "text/plain": [
       "                 Model original_data      SMOT    SMOTNC\n",
       "0          Naive bayes      0.806316  0.880117  0.847555\n",
       "1  Logistic Regression      0.568421  0.830409  0.840844\n",
       "2        Random Forest      0.486316    0.8577  0.505273\n",
       "3              XGBoost      0.526316  0.840156  0.480345"
      ]
     },
     "execution_count": 100,
     "metadata": {},
     "output_type": "execute_result"
    }
   ],
   "source": [
    "recall_matrix"
   ]
  },
  {
   "cell_type": "code",
   "execution_count": 101,
   "id": "b7740768",
   "metadata": {},
   "outputs": [
    {
     "data": {
      "text/html": [
       "<div>\n",
       "<style scoped>\n",
       "    .dataframe tbody tr th:only-of-type {\n",
       "        vertical-align: middle;\n",
       "    }\n",
       "\n",
       "    .dataframe tbody tr th {\n",
       "        vertical-align: top;\n",
       "    }\n",
       "\n",
       "    .dataframe thead tr th {\n",
       "        text-align: left;\n",
       "    }\n",
       "</style>\n",
       "<table border=\"1\" class=\"dataframe\">\n",
       "  <thead>\n",
       "    <tr>\n",
       "      <th></th>\n",
       "      <th>Model</th>\n",
       "      <th>original_data</th>\n",
       "      <th>SMOT</th>\n",
       "      <th>SMOTNC</th>\n",
       "    </tr>\n",
       "  </thead>\n",
       "  <tbody>\n",
       "    <tr>\n",
       "      <th>0</th>\n",
       "      <td>Naive bayes</td>\n",
       "      <td>0.605055</td>\n",
       "      <td>0.80589</td>\n",
       "      <td>0.76903</td>\n",
       "    </tr>\n",
       "    <tr>\n",
       "      <th>1</th>\n",
       "      <td>Logistic Regression</td>\n",
       "      <td>0.621404</td>\n",
       "      <td>0.813754</td>\n",
       "      <td>0.796549</td>\n",
       "    </tr>\n",
       "    <tr>\n",
       "      <th>2</th>\n",
       "      <td>Random Forest</td>\n",
       "      <td>0.554622</td>\n",
       "      <td>0.845341</td>\n",
       "      <td>0.502144</td>\n",
       "    </tr>\n",
       "    <tr>\n",
       "      <th>3</th>\n",
       "      <td>XGBoost</td>\n",
       "      <td>0.566251</td>\n",
       "      <td>0.838929</td>\n",
       "      <td>0.483591</td>\n",
       "    </tr>\n",
       "  </tbody>\n",
       "</table>\n",
       "</div>"
      ],
      "text/plain": [
       "                 Model original_data      SMOT    SMOTNC\n",
       "0          Naive bayes      0.605055   0.80589   0.76903\n",
       "1  Logistic Regression      0.621404  0.813754  0.796549\n",
       "2        Random Forest      0.554622  0.845341  0.502144\n",
       "3              XGBoost      0.566251  0.838929  0.483591"
      ]
     },
     "execution_count": 101,
     "metadata": {},
     "output_type": "execute_result"
    }
   ],
   "source": [
    "f1_matrix"
   ]
  },
  {
   "cell_type": "markdown",
   "id": "fc58efd5",
   "metadata": {},
   "source": [
    "---"
   ]
  },
  {
   "cell_type": "markdown",
   "id": "09b02fca",
   "metadata": {},
   "source": [
    "# Ranking overall best performences\n",
    "\n",
    "    accuracy: \n",
    "    (best)    Logistic regression  \n",
    "    (runner)  Random forest        \n",
    "\n",
    "    precision:\n",
    "            XGBoost\n",
    "            logistic regression\n",
    "\n",
    "    recall:\n",
    "            Logistic regression\n",
    "            Naive bayes / XGBoost\n",
    "\n",
    "    F1 score:\n",
    "            Random forest / XGBoost\n",
    "            Logistic regression"
   ]
  },
  {
   "cell_type": "markdown",
   "id": "2c2b0426",
   "metadata": {},
   "source": [
    "### Comparing the models trained on Raw, SMOTE and SMOTE-NC data, SMOTE performs best when paired with Logistic Regression"
   ]
  },
  {
   "cell_type": "markdown",
   "id": "3a7755b5",
   "metadata": {},
   "source": [
    "---"
   ]
  },
  {
   "cell_type": "code",
   "execution_count": null,
   "id": "9e64a349",
   "metadata": {},
   "outputs": [],
   "source": []
  },
  {
   "cell_type": "code",
   "execution_count": 138,
   "id": "feb2880e",
   "metadata": {},
   "outputs": [
    {
     "data": {
      "text/html": [
       "<div>\n",
       "<style scoped>\n",
       "    .dataframe tbody tr th:only-of-type {\n",
       "        vertical-align: middle;\n",
       "    }\n",
       "\n",
       "    .dataframe tbody tr th {\n",
       "        vertical-align: top;\n",
       "    }\n",
       "\n",
       "    .dataframe thead tr th {\n",
       "        text-align: left;\n",
       "    }\n",
       "</style>\n",
       "<table border=\"1\" class=\"dataframe\">\n",
       "  <thead>\n",
       "    <tr>\n",
       "      <th></th>\n",
       "      <th>Model</th>\n",
       "      <th>original_data</th>\n",
       "      <th>SMOT</th>\n",
       "      <th>SMOTNC</th>\n",
       "    </tr>\n",
       "  </thead>\n",
       "  <tbody>\n",
       "  </tbody>\n",
       "</table>\n",
       "</div>"
      ],
      "text/plain": [
       "Empty DataFrame\n",
       "Columns: [(Model,), (original_data,), (SMOT,), (SMOTNC,)]\n",
       "Index: []"
      ]
     },
     "execution_count": 138,
     "metadata": {},
     "output_type": "execute_result"
    }
   ],
   "source": [
    "precision_matrix = pd.DataFrame(columns=[['Model','original_data', 'SMOT', 'SMOTNC']])\n",
    "precision_matrix"
   ]
  },
  {
   "cell_type": "code",
   "execution_count": 139,
   "id": "f297c6e7",
   "metadata": {},
   "outputs": [],
   "source": [
    "precision_matrix.loc[0, 'Model'] = 'Naive bayes'\n",
    "precision_matrix.loc[0, 'original_data'] = naive_bayes_original_data_precision\n",
    "precision_matrix.loc[0, 'SMOT'] = naive_bayes_smot_precision\n",
    "precision_matrix.loc[0, 'SMOTNC'] = naive_bayes_smotnc_precision"
   ]
  },
  {
   "cell_type": "code",
   "execution_count": 140,
   "id": "83994a47",
   "metadata": {},
   "outputs": [],
   "source": [
    "precision_matrix.loc[1, 'Model'] = 'Logistic Regression'\n",
    "precision_matrix.loc[1, 'original_data'] = log_reg_original_data_precision\n",
    "precision_matrix.loc[1, 'SMOT'] = log_reg_smot_precision\n",
    "precision_matrix.loc[1, 'SMOTNC'] = log_reg_smotnc_precision"
   ]
  },
  {
   "cell_type": "code",
   "execution_count": 141,
   "id": "f224662c",
   "metadata": {},
   "outputs": [],
   "source": [
    "precision_matrix.loc[2, 'Model'] = 'Random Forest'\n",
    "precision_matrix.loc[2, 'original_data'] = ran_for_original_data_precision\n",
    "precision_matrix.loc[2, 'SMOT'] = ran_for_smot_precision\n",
    "precision_matrix.loc[2, 'SMOTNC'] = ran_for_smotnc_precision"
   ]
  },
  {
   "cell_type": "code",
   "execution_count": 150,
   "id": "3855466f",
   "metadata": {},
   "outputs": [
    {
     "ename": "NameError",
     "evalue": "name 'ran_for_tuned_smotnc_precision' is not defined",
     "output_type": "error",
     "traceback": [
      "\u001b[1;31m---------------------------------------------------------------------------\u001b[0m",
      "\u001b[1;31mNameError\u001b[0m                                 Traceback (most recent call last)",
      "\u001b[1;32m~\\AppData\\Local\\Temp/ipykernel_10760/2651845254.py\u001b[0m in \u001b[0;36m<module>\u001b[1;34m\u001b[0m\n\u001b[0;32m      2\u001b[0m \u001b[0mprecision_matrix\u001b[0m\u001b[1;33m.\u001b[0m\u001b[0mloc\u001b[0m\u001b[1;33m[\u001b[0m\u001b[1;36m3\u001b[0m\u001b[1;33m,\u001b[0m \u001b[1;34m'original_data'\u001b[0m\u001b[1;33m]\u001b[0m \u001b[1;33m=\u001b[0m \u001b[0mran_for_tuned_original_data_precision\u001b[0m\u001b[1;33m\u001b[0m\u001b[1;33m\u001b[0m\u001b[0m\n\u001b[0;32m      3\u001b[0m \u001b[0mprecision_matrix\u001b[0m\u001b[1;33m.\u001b[0m\u001b[0mloc\u001b[0m\u001b[1;33m[\u001b[0m\u001b[1;36m3\u001b[0m\u001b[1;33m,\u001b[0m \u001b[1;34m'SMOT'\u001b[0m\u001b[1;33m]\u001b[0m \u001b[1;33m=\u001b[0m \u001b[0mran_for_tuned_smot_precision\u001b[0m\u001b[1;33m\u001b[0m\u001b[1;33m\u001b[0m\u001b[0m\n\u001b[1;32m----> 4\u001b[1;33m \u001b[0mprecision_matrix\u001b[0m\u001b[1;33m.\u001b[0m\u001b[0mloc\u001b[0m\u001b[1;33m[\u001b[0m\u001b[1;36m3\u001b[0m\u001b[1;33m,\u001b[0m \u001b[1;34m'SMOTNC'\u001b[0m\u001b[1;33m]\u001b[0m \u001b[1;33m=\u001b[0m \u001b[0mran_for_tuned_smotnc_precision\u001b[0m\u001b[1;33m\u001b[0m\u001b[1;33m\u001b[0m\u001b[0m\n\u001b[0m",
      "\u001b[1;31mNameError\u001b[0m: name 'ran_for_tuned_smotnc_precision' is not defined"
     ]
    }
   ],
   "source": [
    "precision_matrix.loc[3, 'Model'] = 'Random Forest Tuned'\n",
    "precision_matrix.loc[3, 'original_data'] = ran_for_tuned_original_data_precision\n",
    "precision_matrix.loc[3, 'SMOT'] = ran_for_tuned_smot_precision\n",
    "precision_matrix.loc[3, 'SMOTNC'] = ran_for_tuned_smotnc_precision"
   ]
  },
  {
   "cell_type": "markdown",
   "id": "86f99a05",
   "metadata": {},
   "source": [
    "#### Random forest smotnc"
   ]
  },
  {
   "cell_type": "code",
   "execution_count": 75,
   "id": "221c8349",
   "metadata": {},
   "outputs": [
    {
     "name": "stdout",
     "output_type": "stream",
     "text": [
      "accuracy:  0.8267182962245886\n",
      "precision:  0.4990530303030303\n",
      "recall:  0.5052732502396932\n",
      "f1:  0.5021438780371605\n"
     ]
    },
    {
     "data": {
      "text/plain": [
       "array([[0.7888563 , 0.2111437 ],\n",
       "       [0.13614573, 0.86385427]])"
      ]
     },
     "execution_count": 75,
     "metadata": {},
     "output_type": "execute_result"
    }
   ],
   "source": [
    "ran_for = RandomForestClassifier()\n",
    "ran_for.fit(xtrain_smotnc, ytrain_smotnc)\n",
    "\n",
    "ran_for_smotnc_pred = ran_for.predict(xtest_smotnc)\n",
    "\n",
    "ran_for_smotnc_accuracy = accuracy_score(ytest_smotnc, ran_for_smotnc_pred)\n",
    "print('accuracy: ', ran_for_smotnc_accuracy)\n",
    "\n",
    "ran_for_smotnc_precision = precision_score(ytest_smotnc, ran_for_smot_pred)\n",
    "print('precision: ', ran_for_smotnc_precision)\n",
    "\n",
    "ran_for_smotnc_recall = recall_score(ytest_smotnc, ran_for_smot_pred)\n",
    "print('recall: ', ran_for_smotnc_recall)\n",
    "\n",
    "ran_for_smotnc_f1 = f1_score(ytest_smotnc, ran_for_smot_pred)\n",
    "print('f1: ', ran_for_smotnc_f1)\n",
    "\n",
    "ran_for_smotnc_confusion_matrix = confusion_matrix(ytest_smotnc, ran_for_smotnc_pred)\n",
    "ran_for_smotnc_confusion_matrix.astype('float')/ ran_for_smotnc_confusion_matrix.sum(axis=1)[:, np.newaxis]"
   ]
  },
  {
   "cell_type": "markdown",
   "id": "85860160",
   "metadata": {},
   "source": [
    "#### xgboost smot"
   ]
  },
  {
   "cell_type": "code",
   "execution_count": 76,
   "id": "53c4ce66",
   "metadata": {},
   "outputs": [
    {
     "name": "stdout",
     "output_type": "stream",
     "text": [
      "accuracy:  0.8199419167473379\n",
      "precision:  0.4868804664723032\n",
      "recall:  0.48034515819750717\n",
      "f1:  0.4835907335907336\n"
     ]
    },
    {
     "data": {
      "text/plain": [
       "array([[0.77321603, 0.22678397],\n",
       "       [0.13422819, 0.86577181]])"
      ]
     },
     "execution_count": 76,
     "metadata": {},
     "output_type": "execute_result"
    }
   ],
   "source": [
    "xg_boost = XGBRegressor()\n",
    "xg_boost.fit(xtrain_smotnc, ytrain_smotnc)\n",
    "\n",
    "xgb_smotnc_prediction = xg_boost.predict(xtest_smotnc)\n",
    "xgb_smotnc_prediction = np.round(xgb_smotnc_prediction)\n",
    "\n",
    "xgb_smotnc_accuracy = accuracy_score(ytest_smotnc, xgb_smotnc_prediction)\n",
    "print('accuracy: ', xgb_smotnc_accuracy)\n",
    "\n",
    "xgb_smotnc_precision = precision_score(ytest_smotnc, xgb_smot_pred)\n",
    "print('precision: ', xgb_smotnc_precision)\n",
    "\n",
    "xgb_smotnc_recall = recall_score(ytest_smotnc, xgb_smot_pred)\n",
    "print('recall: ', xgb_smotnc_recall)\n",
    "\n",
    "xgb_smotnc_f1 = f1_score(ytest_smotnc, xgb_smot_pred)\n",
    "print('f1: ', xgb_smotnc_f1)\n",
    "\n",
    "xgb_smotnc_confusion_matrix = confusion_matrix(ytest_smotnc, xgb_smotnc_prediction)\n",
    "xgb_smotnc_confusion_matrix.astype('float')/ xgb_smotnc_confusion_matrix.sum(axis=1)[:,np.newaxis]"
   ]
  },
  {
   "cell_type": "markdown",
   "id": "93526b8f",
   "metadata": {},
   "source": [
    "---"
   ]
  },
  {
   "cell_type": "markdown",
   "id": "f58efa70",
   "metadata": {},
   "source": [
    "## performance matrixes"
   ]
  },
  {
   "cell_type": "code",
   "execution_count": 98,
   "id": "69ebd125",
   "metadata": {},
   "outputs": [
    {
     "data": {
      "text/html": [
       "<div>\n",
       "<style scoped>\n",
       "    .dataframe tbody tr th:only-of-type {\n",
       "        vertical-align: middle;\n",
       "    }\n",
       "\n",
       "    .dataframe tbody tr th {\n",
       "        vertical-align: top;\n",
       "    }\n",
       "\n",
       "    .dataframe thead tr th {\n",
       "        text-align: left;\n",
       "    }\n",
       "</style>\n",
       "<table border=\"1\" class=\"dataframe\">\n",
       "  <thead>\n",
       "    <tr>\n",
       "      <th></th>\n",
       "      <th>Model</th>\n",
       "      <th>original_data</th>\n",
       "      <th>SMOT</th>\n",
       "      <th>SMOTNC</th>\n",
       "    </tr>\n",
       "  </thead>\n",
       "  <tbody>\n",
       "    <tr>\n",
       "      <th>0</th>\n",
       "      <td>Naive bayes</td>\n",
       "      <td>0.715586</td>\n",
       "      <td>0.789448</td>\n",
       "      <td>0.742982</td>\n",
       "    </tr>\n",
       "    <tr>\n",
       "      <th>1</th>\n",
       "      <td>Logistic Regression</td>\n",
       "      <td>0.812856</td>\n",
       "      <td>0.811229</td>\n",
       "      <td>0.783156</td>\n",
       "    </tr>\n",
       "    <tr>\n",
       "      <th>2</th>\n",
       "      <td>Random Forest</td>\n",
       "      <td>0.788965</td>\n",
       "      <td>0.844143</td>\n",
       "      <td>0.826718</td>\n",
       "    </tr>\n",
       "    <tr>\n",
       "      <th>3</th>\n",
       "      <td>XGBoost</td>\n",
       "      <td>0.782139</td>\n",
       "      <td>0.839787</td>\n",
       "      <td>0.819942</td>\n",
       "    </tr>\n",
       "  </tbody>\n",
       "</table>\n",
       "</div>"
      ],
      "text/plain": [
       "                 Model original_data      SMOT    SMOTNC\n",
       "0          Naive bayes      0.715586  0.789448  0.742982\n",
       "1  Logistic Regression      0.812856  0.811229  0.783156\n",
       "2        Random Forest      0.788965  0.844143  0.826718\n",
       "3              XGBoost      0.782139  0.839787  0.819942"
      ]
     },
     "execution_count": 98,
     "metadata": {},
     "output_type": "execute_result"
    }
   ],
   "source": [
    "accuracy_matrix"
   ]
  },
  {
   "cell_type": "code",
   "execution_count": 99,
   "id": "ec33ef7d",
   "metadata": {
    "scrolled": false
   },
   "outputs": [
    {
     "data": {
      "text/html": [
       "<div>\n",
       "<style scoped>\n",
       "    .dataframe tbody tr th:only-of-type {\n",
       "        vertical-align: middle;\n",
       "    }\n",
       "\n",
       "    .dataframe tbody tr th {\n",
       "        vertical-align: top;\n",
       "    }\n",
       "\n",
       "    .dataframe thead tr th {\n",
       "        text-align: left;\n",
       "    }\n",
       "</style>\n",
       "<table border=\"1\" class=\"dataframe\">\n",
       "  <thead>\n",
       "    <tr>\n",
       "      <th></th>\n",
       "      <th>Model</th>\n",
       "      <th>original_data</th>\n",
       "      <th>SMOT</th>\n",
       "      <th>SMOTNC</th>\n",
       "    </tr>\n",
       "  </thead>\n",
       "  <tbody>\n",
       "    <tr>\n",
       "      <th>0</th>\n",
       "      <td>Naive bayes</td>\n",
       "      <td>0.484197</td>\n",
       "      <td>0.74321</td>\n",
       "      <td>0.703822</td>\n",
       "    </tr>\n",
       "    <tr>\n",
       "      <th>1</th>\n",
       "      <td>Logistic Regression</td>\n",
       "      <td>0.685279</td>\n",
       "      <td>0.797753</td>\n",
       "      <td>0.756687</td>\n",
       "    </tr>\n",
       "    <tr>\n",
       "      <th>2</th>\n",
       "      <td>Random Forest</td>\n",
       "      <td>0.645251</td>\n",
       "      <td>0.833333</td>\n",
       "      <td>0.499053</td>\n",
       "    </tr>\n",
       "    <tr>\n",
       "      <th>3</th>\n",
       "      <td>XGBoost</td>\n",
       "      <td>0.612745</td>\n",
       "      <td>0.837707</td>\n",
       "      <td>0.48688</td>\n",
       "    </tr>\n",
       "  </tbody>\n",
       "</table>\n",
       "</div>"
      ],
      "text/plain": [
       "                 Model original_data      SMOT    SMOTNC\n",
       "0          Naive bayes      0.484197   0.74321  0.703822\n",
       "1  Logistic Regression      0.685279  0.797753  0.756687\n",
       "2        Random Forest      0.645251  0.833333  0.499053\n",
       "3              XGBoost      0.612745  0.837707   0.48688"
      ]
     },
     "execution_count": 99,
     "metadata": {},
     "output_type": "execute_result"
    }
   ],
   "source": [
    "precision_matrix"
   ]
  },
  {
   "cell_type": "code",
   "execution_count": 100,
   "id": "57df891e",
   "metadata": {},
   "outputs": [
    {
     "data": {
      "text/html": [
       "<div>\n",
       "<style scoped>\n",
       "    .dataframe tbody tr th:only-of-type {\n",
       "        vertical-align: middle;\n",
       "    }\n",
       "\n",
       "    .dataframe tbody tr th {\n",
       "        vertical-align: top;\n",
       "    }\n",
       "\n",
       "    .dataframe thead tr th {\n",
       "        text-align: left;\n",
       "    }\n",
       "</style>\n",
       "<table border=\"1\" class=\"dataframe\">\n",
       "  <thead>\n",
       "    <tr>\n",
       "      <th></th>\n",
       "      <th>Model</th>\n",
       "      <th>original_data</th>\n",
       "      <th>SMOT</th>\n",
       "      <th>SMOTNC</th>\n",
       "    </tr>\n",
       "  </thead>\n",
       "  <tbody>\n",
       "    <tr>\n",
       "      <th>0</th>\n",
       "      <td>Naive bayes</td>\n",
       "      <td>0.806316</td>\n",
       "      <td>0.880117</td>\n",
       "      <td>0.847555</td>\n",
       "    </tr>\n",
       "    <tr>\n",
       "      <th>1</th>\n",
       "      <td>Logistic Regression</td>\n",
       "      <td>0.568421</td>\n",
       "      <td>0.830409</td>\n",
       "      <td>0.840844</td>\n",
       "    </tr>\n",
       "    <tr>\n",
       "      <th>2</th>\n",
       "      <td>Random Forest</td>\n",
       "      <td>0.486316</td>\n",
       "      <td>0.8577</td>\n",
       "      <td>0.505273</td>\n",
       "    </tr>\n",
       "    <tr>\n",
       "      <th>3</th>\n",
       "      <td>XGBoost</td>\n",
       "      <td>0.526316</td>\n",
       "      <td>0.840156</td>\n",
       "      <td>0.480345</td>\n",
       "    </tr>\n",
       "  </tbody>\n",
       "</table>\n",
       "</div>"
      ],
      "text/plain": [
       "                 Model original_data      SMOT    SMOTNC\n",
       "0          Naive bayes      0.806316  0.880117  0.847555\n",
       "1  Logistic Regression      0.568421  0.830409  0.840844\n",
       "2        Random Forest      0.486316    0.8577  0.505273\n",
       "3              XGBoost      0.526316  0.840156  0.480345"
      ]
     },
     "execution_count": 100,
     "metadata": {},
     "output_type": "execute_result"
    }
   ],
   "source": [
    "recall_matrix"
   ]
  },
  {
   "cell_type": "code",
   "execution_count": 101,
   "id": "a76157b1",
   "metadata": {},
   "outputs": [
    {
     "data": {
      "text/html": [
       "<div>\n",
       "<style scoped>\n",
       "    .dataframe tbody tr th:only-of-type {\n",
       "        vertical-align: middle;\n",
       "    }\n",
       "\n",
       "    .dataframe tbody tr th {\n",
       "        vertical-align: top;\n",
       "    }\n",
       "\n",
       "    .dataframe thead tr th {\n",
       "        text-align: left;\n",
       "    }\n",
       "</style>\n",
       "<table border=\"1\" class=\"dataframe\">\n",
       "  <thead>\n",
       "    <tr>\n",
       "      <th></th>\n",
       "      <th>Model</th>\n",
       "      <th>original_data</th>\n",
       "      <th>SMOT</th>\n",
       "      <th>SMOTNC</th>\n",
       "    </tr>\n",
       "  </thead>\n",
       "  <tbody>\n",
       "    <tr>\n",
       "      <th>0</th>\n",
       "      <td>Naive bayes</td>\n",
       "      <td>0.605055</td>\n",
       "      <td>0.80589</td>\n",
       "      <td>0.76903</td>\n",
       "    </tr>\n",
       "    <tr>\n",
       "      <th>1</th>\n",
       "      <td>Logistic Regression</td>\n",
       "      <td>0.621404</td>\n",
       "      <td>0.813754</td>\n",
       "      <td>0.796549</td>\n",
       "    </tr>\n",
       "    <tr>\n",
       "      <th>2</th>\n",
       "      <td>Random Forest</td>\n",
       "      <td>0.554622</td>\n",
       "      <td>0.845341</td>\n",
       "      <td>0.502144</td>\n",
       "    </tr>\n",
       "    <tr>\n",
       "      <th>3</th>\n",
       "      <td>XGBoost</td>\n",
       "      <td>0.566251</td>\n",
       "      <td>0.838929</td>\n",
       "      <td>0.483591</td>\n",
       "    </tr>\n",
       "  </tbody>\n",
       "</table>\n",
       "</div>"
      ],
      "text/plain": [
       "                 Model original_data      SMOT    SMOTNC\n",
       "0          Naive bayes      0.605055   0.80589   0.76903\n",
       "1  Logistic Regression      0.621404  0.813754  0.796549\n",
       "2        Random Forest      0.554622  0.845341  0.502144\n",
       "3              XGBoost      0.566251  0.838929  0.483591"
      ]
     },
     "execution_count": 101,
     "metadata": {},
     "output_type": "execute_result"
    }
   ],
   "source": [
    "f1_matrix"
   ]
  },
  {
   "cell_type": "markdown",
   "id": "ab6028de",
   "metadata": {},
   "source": [
    "---"
   ]
  },
  {
   "cell_type": "markdown",
   "id": "0d5c09b7",
   "metadata": {},
   "source": [
    "# Ranking overall best performences\n",
    "\n",
    "    accuracy: \n",
    "    (best)    Logistic regression  \n",
    "    (runner)  Random forest        \n",
    "\n",
    "    precision:\n",
    "            XGBoost\n",
    "            logistic regression\n",
    "\n",
    "    recall:\n",
    "            Logistic regression\n",
    "            Naive bayes / XGBoost\n",
    "\n",
    "    F1 score:\n",
    "            Random forest / XGBoost\n",
    "            Logistic regression"
   ]
  },
  {
   "cell_type": "markdown",
   "id": "09b4f815",
   "metadata": {},
   "source": [
    "### Comparing the models trained on Raw, SMOTE and SMOTE-NC data, SMOTE performs best when paired with Logistic Regression"
   ]
  },
  {
   "cell_type": "markdown",
   "id": "2ac5f207",
   "metadata": {},
   "source": [
    "---"
   ]
  },
  {
   "cell_type": "code",
   "execution_count": null,
   "id": "f8a01345",
   "metadata": {},
   "outputs": [],
   "source": []
  },
  {
   "cell_type": "code",
   "execution_count": 138,
   "id": "207888de",
   "metadata": {},
   "outputs": [
    {
     "data": {
      "text/html": [
       "<div>\n",
       "<style scoped>\n",
       "    .dataframe tbody tr th:only-of-type {\n",
       "        vertical-align: middle;\n",
       "    }\n",
       "\n",
       "    .dataframe tbody tr th {\n",
       "        vertical-align: top;\n",
       "    }\n",
       "\n",
       "    .dataframe thead tr th {\n",
       "        text-align: left;\n",
       "    }\n",
       "</style>\n",
       "<table border=\"1\" class=\"dataframe\">\n",
       "  <thead>\n",
       "    <tr>\n",
       "      <th></th>\n",
       "      <th>Model</th>\n",
       "      <th>original_data</th>\n",
       "      <th>SMOT</th>\n",
       "      <th>SMOTNC</th>\n",
       "    </tr>\n",
       "  </thead>\n",
       "  <tbody>\n",
       "  </tbody>\n",
       "</table>\n",
       "</div>"
      ],
      "text/plain": [
       "Empty DataFrame\n",
       "Columns: [(Model,), (original_data,), (SMOT,), (SMOTNC,)]\n",
       "Index: []"
      ]
     },
     "execution_count": 138,
     "metadata": {},
     "output_type": "execute_result"
    }
   ],
   "source": [
    "precision_matrix = pd.DataFrame(columns=[['Model','original_data', 'SMOT', 'SMOTNC']])\n",
    "precision_matrix"
   ]
  },
  {
   "cell_type": "code",
   "execution_count": 139,
   "id": "f926cb7d",
   "metadata": {},
   "outputs": [],
   "source": [
    "precision_matrix.loc[0, 'Model'] = 'Naive bayes'\n",
    "precision_matrix.loc[0, 'original_data'] = naive_bayes_original_data_precision\n",
    "precision_matrix.loc[0, 'SMOT'] = naive_bayes_smot_precision\n",
    "precision_matrix.loc[0, 'SMOTNC'] = naive_bayes_smotnc_precision"
   ]
  },
  {
   "cell_type": "code",
   "execution_count": 140,
   "id": "b90be0ca",
   "metadata": {},
   "outputs": [],
   "source": [
    "precision_matrix.loc[1, 'Model'] = 'Logistic Regression'\n",
    "precision_matrix.loc[1, 'original_data'] = log_reg_original_data_precision\n",
    "precision_matrix.loc[1, 'SMOT'] = log_reg_smot_precision\n",
    "precision_matrix.loc[1, 'SMOTNC'] = log_reg_smotnc_precision"
   ]
  },
  {
   "cell_type": "code",
   "execution_count": 141,
   "id": "c366e69f",
   "metadata": {},
   "outputs": [],
   "source": [
    "precision_matrix.loc[2, 'Model'] = 'Random Forest'\n",
    "precision_matrix.loc[2, 'original_data'] = ran_for_original_data_precision\n",
    "precision_matrix.loc[2, 'SMOT'] = ran_for_smot_precision\n",
    "precision_matrix.loc[2, 'SMOTNC'] = ran_for_smotnc_precision"
   ]
  },
  {
   "cell_type": "code",
   "execution_count": 150,
   "id": "ec06b856",
   "metadata": {},
   "outputs": [
    {
     "ename": "NameError",
     "evalue": "name 'ran_for_tuned_smotnc_precision' is not defined",
     "output_type": "error",
     "traceback": [
      "\u001b[1;31m---------------------------------------------------------------------------\u001b[0m",
      "\u001b[1;31mNameError\u001b[0m                                 Traceback (most recent call last)",
      "\u001b[1;32m~\\AppData\\Local\\Temp/ipykernel_10760/2651845254.py\u001b[0m in \u001b[0;36m<module>\u001b[1;34m\u001b[0m\n\u001b[0;32m      2\u001b[0m \u001b[0mprecision_matrix\u001b[0m\u001b[1;33m.\u001b[0m\u001b[0mloc\u001b[0m\u001b[1;33m[\u001b[0m\u001b[1;36m3\u001b[0m\u001b[1;33m,\u001b[0m \u001b[1;34m'original_data'\u001b[0m\u001b[1;33m]\u001b[0m \u001b[1;33m=\u001b[0m \u001b[0mran_for_tuned_original_data_precision\u001b[0m\u001b[1;33m\u001b[0m\u001b[1;33m\u001b[0m\u001b[0m\n\u001b[0;32m      3\u001b[0m \u001b[0mprecision_matrix\u001b[0m\u001b[1;33m.\u001b[0m\u001b[0mloc\u001b[0m\u001b[1;33m[\u001b[0m\u001b[1;36m3\u001b[0m\u001b[1;33m,\u001b[0m \u001b[1;34m'SMOT'\u001b[0m\u001b[1;33m]\u001b[0m \u001b[1;33m=\u001b[0m \u001b[0mran_for_tuned_smot_precision\u001b[0m\u001b[1;33m\u001b[0m\u001b[1;33m\u001b[0m\u001b[0m\n\u001b[1;32m----> 4\u001b[1;33m \u001b[0mprecision_matrix\u001b[0m\u001b[1;33m.\u001b[0m\u001b[0mloc\u001b[0m\u001b[1;33m[\u001b[0m\u001b[1;36m3\u001b[0m\u001b[1;33m,\u001b[0m \u001b[1;34m'SMOTNC'\u001b[0m\u001b[1;33m]\u001b[0m \u001b[1;33m=\u001b[0m \u001b[0mran_for_tuned_smotnc_precision\u001b[0m\u001b[1;33m\u001b[0m\u001b[1;33m\u001b[0m\u001b[0m\n\u001b[0m",
      "\u001b[1;31mNameError\u001b[0m: name 'ran_for_tuned_smotnc_precision' is not defined"
     ]
    }
   ],
   "source": [
    "precision_matrix.loc[3, 'Model'] = 'Random Forest Tuned'\n",
    "precision_matrix.loc[3, 'original_data'] = ran_for_tuned_original_data_precision\n",
    "precision_matrix.loc[3, 'SMOT'] = ran_for_tuned_smot_precision\n",
    "precision_matrix.loc[3, 'SMOTNC'] = ran_for_tuned_smotnc_precision"
   ]
  },
  {
   "cell_type": "code",
   "execution_count": null,
   "id": "1f0b63c1",
   "metadata": {},
   "outputs": [],
   "source": [
    "precision_matrix.loc[4, 'Model'] = 'XGBoost'\n",
    "precision_matrix.loc[4, 'original_data'] = xgb_original_data_precision\n",
    "precision_matrix.loc[4, 'SMOT'] = xgb_smot_precision\n",
    "precision_matrix.loc[4 'SMOTNC'] = xgb_smotnc_precision"
   ]
  },
  {
   "cell_type": "code",
   "execution_count": null,
   "id": "de73965f",
   "metadata": {},
   "outputs": [],
   "source": [
    "accuracy_matrix = pd.DataFrame(columns=[['Model','original_data', 'SMOT', 'SMOTNC']])\n",
    "accuracy_matrix"
   ]
  },
  {
   "cell_type": "code",
   "execution_count": null,
   "id": "29aed7bc",
   "metadata": {},
   "outputs": [],
   "source": [
    "accuracy_matrix.loc[0, 'Model'] = 'Naive bayes'\n",
    "accuracy_matrix.loc[0, 'original_data'] = naive_bayes_original_data_accuracy\n",
    "accuracy_matrix.loc[0, 'SMOT'] = naive_bayes_smot_accuracy\n",
    "accuracy_matrix.loc[0, 'SMOTNC'] = naive_bayes_smotnc_accuracy"
   ]
  },
  {
   "cell_type": "code",
   "execution_count": null,
   "id": "20a7f255",
   "metadata": {},
   "outputs": [],
   "source": [
    "accuracy_matrix.loc[1, 'Model'] = 'Logistic Regression'\n",
    "accuracy_matrix.loc[1, 'original_data'] = log_reg_original_data_accuracy\n",
    "accuracy_matrix.loc[1, 'SMOT'] = log_reg_smot_accuracy\n",
    "accuracy_matrix.loc[1, 'SMOTNC'] = log_reg_smotnc_accuracy"
   ]
  },
  {
   "cell_type": "code",
   "execution_count": null,
   "id": "d9c12967",
   "metadata": {},
   "outputs": [],
   "source": [
    "accuracy_matrix.loc[2, 'Model'] = 'Random Forest'\n",
    "accuracy_matrix.loc[2, 'original_data'] = ran_for_original_data_accuracy\n",
    "accuracy_matrix.loc[2, 'SMOT'] = ran_for_smot_accuracy\n",
    "accuracy_matrix.loc[2, 'SMOTNC'] = ran_for_smotnc_accuracy"
   ]
  },
  {
   "cell_type": "code",
   "execution_count": null,
   "id": "0906545f",
   "metadata": {},
   "outputs": [],
   "source": [
    "accuracy_matrix.loc[3, 'Model'] = 'Random Forest'\n",
    "accuracy_matrix.loc[3, 'original_data'] = ran_for_tuned_original_data_accuracy\n",
    "accuracy_matrix.loc[3, 'SMOT'] = ran_for_tuned_smot_accuracy\n",
    "accuracy_matrix.loc[3, 'SMOTNC'] = ran_for_tuned_smotnc_accuracy"
   ]
  },
  {
   "cell_type": "code",
   "execution_count": null,
   "id": "c275ea14",
   "metadata": {},
   "outputs": [],
   "source": [
    "accuracy_matrix.loc[4, 'Model'] = 'XGBoost'\n",
    "accuracy_matrix.loc[4, 'original_data'] = xgb_original_data_accuracy\n",
    "accuracy_matrix.loc[4, 'SMOT'] = xgb_smot_accuracy\n",
    "accuracy_matrix.loc[4, 'SMOTNC'] = xgb_smotnc_accuracy"
   ]
  },
  {
   "cell_type": "code",
   "execution_count": null,
   "id": "47476b2e",
   "metadata": {},
   "outputs": [],
   "source": [
    "recall_matrix = pd.DataFrame(columns=[['Model','original_data', 'SMOT', 'SMOTNC']])\n",
    "recall_matrix"
   ]
  },
  {
   "cell_type": "code",
   "execution_count": null,
   "id": "6377f9ba",
   "metadata": {},
   "outputs": [],
   "source": [
    "recall_matrix.loc[0, 'Model'] = 'Naive bayes'\n",
    "recall_matrix.loc[0, 'original_data'] = naive_bayes_original_data_recall\n",
    "recall_matrix.loc[0, 'SMOT'] = naive_bayes_smot_recall\n",
    "recall_matrix.loc[0, 'SMOTNC'] = naive_bayes_smotnc_recall"
   ]
  },
  {
   "cell_type": "code",
   "execution_count": null,
   "id": "7c51c1cd",
   "metadata": {},
   "outputs": [],
   "source": [
    "recall_matrix.loc[1, 'Model'] = 'Logistic Regression'\n",
    "recall_matrix.loc[1, 'original_data'] = log_reg_original_data_recall\n",
    "recall_matrix.loc[1, 'SMOT'] = log_reg_smot_recall\n",
    "recall_matrix.loc[1, 'SMOTNC'] = log_reg_smotnc_recall"
   ]
  },
  {
   "cell_type": "code",
   "execution_count": null,
   "id": "c959ea33",
   "metadata": {},
   "outputs": [],
   "source": [
    "recall_matrix.loc[2, 'Model'] = 'Random Forest'\n",
    "recall_matrix.loc[2, 'original_data'] = ran_for_original_data_recall\n",
    "recall_matrix.loc[2, 'SMOT'] = ran_for_smot_recall\n",
    "recall_matrix.loc[2, 'SMOTNC'] = ran_for_smotnc_recall"
   ]
  },
  {
   "cell_type": "code",
   "execution_count": null,
   "id": "b32ee868",
   "metadata": {},
   "outputs": [],
   "source": [
    "recall_matrix.loc[3, 'Model'] = 'Random Forest'\n",
    "recall_matrix.loc[3, 'original_data'] = ran_for_tuned_original_data_recall\n",
    "recall_matrix.loc[3, 'SMOT'] = ran_for_tuned_smot_recall\n",
    "recall_matrix.loc[3, 'SMOTNC'] = ran_for_tuned_smotnc_recall"
   ]
  },
  {
   "cell_type": "code",
   "execution_count": null,
   "id": "ca03a935",
   "metadata": {},
   "outputs": [],
   "source": [
    "recall_matrix.loc[4, 'Model'] = 'XGBoost'\n",
    "recall_matrix.loc[4, 'original_data'] = xgb_original_data_recall\n",
    "recall_matrix.loc[4, 'SMOT'] = xgb_smot_recall\n",
    "recall_matrix.loc[4, 'SMOTNC'] = xgb_smotnc_recall"
   ]
  },
  {
   "cell_type": "code",
   "execution_count": null,
   "id": "cd98f5b3",
   "metadata": {},
   "outputs": [],
   "source": [
    "f1_matrix = pd.DataFrame(columns=[['Model','original_data', 'SMOT', 'SMOTNC']])\n",
    "f1_matrix"
   ]
  },
  {
   "cell_type": "code",
   "execution_count": null,
   "id": "c6e61236",
   "metadata": {},
   "outputs": [],
   "source": [
    "f1_matrix.loc[0, 'Model'] = 'Naive bayes'\n",
    "f1_matrix.loc[0, 'original_data'] = naive_bayes_original_data_f1\n",
    "f1_matrix.loc[0, 'SMOT'] = naive_bayes_smot_f1\n",
    "f1_matrix.loc[0, 'SMOTNC'] = naive_bayes_smotnc_f1"
   ]
  },
  {
   "cell_type": "code",
   "execution_count": null,
   "id": "f9ba98dd",
   "metadata": {},
   "outputs": [],
   "source": [
    "f1_matrix.loc[1, 'Model'] = 'Logistic Regression'\n",
    "f1_matrix.loc[1, 'original_data'] = log_reg_original_data_f1\n",
    "f1_matrix.loc[1, 'SMOT'] = log_reg_smot_f1\n",
    "f1_matrix.loc[1, 'SMOTNC'] = log_reg_smotnc_f1"
   ]
  },
  {
   "cell_type": "code",
   "execution_count": null,
   "id": "6f344707",
   "metadata": {},
   "outputs": [],
   "source": [
    "f1_matrix.loc[2, 'Model'] = 'Random Forest'\n",
    "f1_matrix.loc[2, 'original_data'] = ran_for_original_data_f1\n",
    "f1_matrix.loc[2, 'SMOT'] = ran_for_smot_f1\n",
    "f1_matrix.loc[2, 'SMOTNC'] = ran_for_smotnc_f1"
   ]
  },
  {
   "cell_type": "code",
   "execution_count": null,
   "id": "2a9f6ab8",
   "metadata": {},
   "outputs": [],
   "source": [
    "f1_matrix.loc[3, 'Model'] = 'Random Forest'\n",
    "f1_matrix.loc[3, 'original_data'] = ran_for_tuned_original_data_f1\n",
    "f1_matrix.loc[3, 'SMOT'] = ran_for_tuned_smot_f1\n",
    "f1_matrix.loc[3, 'SMOTNC'] = ran_for_tuned_smotnc_f1"
   ]
  },
  {
   "cell_type": "code",
   "execution_count": null,
   "id": "83ac80c2",
   "metadata": {},
   "outputs": [],
   "source": [
    "f1_matrix.loc[4, 'Model'] = 'XGBoost'\n",
    "f1_matrix.loc[4, 'original_data'] = xgb_original_data_f1\n",
    "f1_matrix.loc[4, 'SMOT'] = xgb_smot_f1\n",
    "f1_matrix.loc[4, 'SMOTNC'] = xgb_smotnc_f1"
   ]
  },
  {
   "cell_type": "code",
   "execution_count": null,
   "id": "95a061ce",
   "metadata": {},
   "outputs": [],
   "source": []
  },
  {
   "cell_type": "code",
   "execution_count": null,
   "id": "f64d93cd",
   "metadata": {},
   "outputs": [],
   "source": []
  },
  {
   "cell_type": "code",
   "execution_count": null,
   "id": "b94f6e7b",
   "metadata": {},
   "outputs": [],
   "source": []
  }
 ],
 "metadata": {
  "kernelspec": {
   "display_name": "Python 3 (ipykernel)",
   "language": "python",
   "name": "python3"
  },
  "language_info": {
   "codemirror_mode": {
    "name": "ipython",
    "version": 3
   },
   "file_extension": ".py",
   "mimetype": "text/x-python",
   "name": "python",
   "nbconvert_exporter": "python",
   "pygments_lexer": "ipython3",
   "version": "3.7.4"
  }
 },
 "nbformat": 4,
 "nbformat_minor": 5
}
